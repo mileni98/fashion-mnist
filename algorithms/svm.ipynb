{
 "cells": [
  {
   "cell_type": "markdown",
   "metadata": {},
   "source": [
    "# SVM - Support Vector Machine"
   ]
  },
  {
   "cell_type": "markdown",
   "metadata": {},
   "source": [
    "Importing libraries"
   ]
  },
  {
   "cell_type": "code",
   "execution_count": 1,
   "metadata": {},
   "outputs": [],
   "source": [
    "import time\n",
    "import numpy as np\n",
    "import pandas as pd\n",
    "import matplotlib.pyplot as plt\n",
    "\n",
    "from PIL import Image\n",
    "from sklearn.decomposition import PCA\n",
    "from sklearn.metrics import confusion_matrix\n",
    "from sklearn.svm import SVC\n",
    "from sklearn.model_selection import train_test_split, StratifiedKFold\n",
    "from ipynb.fs.defs.additional_metrics import *\n"
   ]
  },
  {
   "attachments": {},
   "cell_type": "markdown",
   "metadata": {},
   "source": [
    "Defining functions that will perform .fit() and .predict() while calculating execution time"
   ]
  },
  {
   "cell_type": "code",
   "execution_count": 2,
   "metadata": {},
   "outputs": [],
   "source": [
    "def svc_fit_with_time(svc, X_trainCV, y_trainCV, time_fit_tmp):\n",
    "    start = time.time()     \n",
    "    svc.fit(X_trainCV, y_trainCV)\n",
    "    time_fit_tmp.append(time.time()-start)"
   ]
  },
  {
   "cell_type": "code",
   "execution_count": 3,
   "metadata": {},
   "outputs": [],
   "source": [
    "def svc_predict_with_time(svc, X_testCV, time_pred_tmp):\n",
    "    start = time.time()\n",
    "    y_pred = svc.predict(X_testCV)\n",
    "    time_pred_tmp.append(time.time()-start)\n",
    "    return y_pred"
   ]
  },
  {
   "cell_type": "markdown",
   "metadata": {},
   "source": [
    "## Trained on 30% samples of the original training dataset"
   ]
  },
  {
   "cell_type": "code",
   "execution_count": 4,
   "metadata": {},
   "outputs": [],
   "source": [
    "train_data = pd.read_csv(\"../datasets/fashion-mnist_train.csv\")\n",
    "X_train = train_data.iloc[:,1:]\n",
    "y_train = train_data.iloc[:,0]\n",
    "\n",
    "test_data = pd.read_csv(\"../datasets/fashion-mnist_test.csv\")\n",
    "X_test = test_data.iloc[:,1:]\n",
    "y_test = test_data.iloc[:,0]\n",
    "\n",
    "X_train_std = (X_train - X_train.mean()) / X_train.std()\n",
    "X_test_std = (X_test - X_test.mean()) / X_test.std()"
   ]
  },
  {
   "cell_type": "code",
   "execution_count": 5,
   "metadata": {},
   "outputs": [],
   "source": [
    "X_train_30, X_test_30, y_train_30, y_test_30 = train_test_split(X_train_std, y_train, test_size=0.7, stratify=y_train, random_state=42)"
   ]
  },
  {
   "cell_type": "code",
   "execution_count": 6,
   "metadata": {},
   "outputs": [
    {
     "name": "stdout",
     "output_type": "stream",
     "text": [
      "1. C = 0.1, k = linear, g = scale, Average accuracy: 0.831500 | Average fit time: 19.268941s | Average predict time: 6.539754s\n",
      "2. C = 0.1, k = linear, g = auto, Average accuracy: 0.831500 | Average fit time: 18.454200s | Average predict time: 6.364394s\n",
      "3. C = 0.1, k = poly, g = scale, Average accuracy: 0.747444 | Average fit time: 62.797325s | Average predict time: 11.727475s\n",
      "4. C = 0.1, k = poly, g = auto, Average accuracy: 0.746056 | Average fit time: 62.535731s | Average predict time: 11.631388s\n",
      "5. C = 0.1, k = rbf, g = scale, Average accuracy: 0.808833 | Average fit time: 40.701054s | Average predict time: 16.985062s\n",
      "6. C = 0.1, k = rbf, g = auto, Average accuracy: 0.808833 | Average fit time: 40.695049s | Average predict time: 17.016091s\n",
      "7. C = 0.1, k = sigmoid, g = scale, Average accuracy: 0.778000 | Average fit time: 36.663778s | Average predict time: 11.100905s\n",
      "8. C = 0.1, k = sigmoid, g = auto, Average accuracy: 0.778556 | Average fit time: 36.969858s | Average predict time: 11.193189s\n",
      "\n",
      "9. C = 0.5, k = linear, g = scale, Average accuracy: 0.816167 | Average fit time: 24.631424s | Average predict time: 6.175422s\n",
      "10. C = 0.5, k = linear, g = auto, Average accuracy: 0.816167 | Average fit time: 24.418631s | Average predict time: 6.182828s\n",
      "11. C = 0.5, k = poly, g = scale, Average accuracy: 0.826889 | Average fit time: 37.721742s | Average predict time: 9.415171s\n",
      "12. C = 0.5, k = poly, g = auto, Average accuracy: 0.826167 | Average fit time: 38.166346s | Average predict time: 9.441195s\n",
      "13. C = 0.5, k = rbf, g = scale, Average accuracy: 0.856111 | Average fit time: 27.414759s | Average predict time: 13.630008s\n",
      "14. C = 0.5, k = rbf, g = auto, Average accuracy: 0.855944 | Average fit time: 27.598525s | Average predict time: 13.673248s\n",
      "15. C = 0.5, k = sigmoid, g = scale, Average accuracy: 0.749667 | Average fit time: 22.954098s | Average predict time: 8.752567s\n",
      "16. C = 0.5, k = sigmoid, g = auto, Average accuracy: 0.750444 | Average fit time: 22.934425s | Average predict time: 8.893697s\n",
      "\n",
      "17. C = 1, k = linear, g = scale, Average accuracy: 0.810944 | Average fit time: 30.787128s | Average predict time: 6.260798s\n",
      "18. C = 1, k = linear, g = auto, Average accuracy: 0.810944 | Average fit time: 30.772706s | Average predict time: 6.233275s\n",
      "19. C = 1, k = poly, g = scale, Average accuracy: 0.847278 | Average fit time: 33.439645s | Average predict time: 8.954551s\n",
      "20. C = 1, k = poly, g = auto, Average accuracy: 0.846556 | Average fit time: 32.667541s | Average predict time: 8.723079s\n",
      "21. C = 1, k = rbf, g = scale, Average accuracy: 0.868833 | Average fit time: 25.801289s | Average predict time: 12.860308s\n",
      "22. C = 1, k = rbf, g = auto, Average accuracy: 0.868889 | Average fit time: 25.870152s | Average predict time: 12.963601s\n",
      "23. C = 1, k = sigmoid, g = scale, Average accuracy: 0.729778 | Average fit time: 18.920826s | Average predict time: 7.829928s\n",
      "24. C = 1, k = sigmoid, g = auto, Average accuracy: 0.732056 | Average fit time: 18.939443s | Average predict time: 7.885177s\n",
      "\n",
      "25. C = 3, k = linear, g = scale, Average accuracy: 0.803833 | Average fit time: 52.965655s | Average predict time: 5.947613s\n",
      "26. C = 3, k = linear, g = auto, Average accuracy: 0.803833 | Average fit time: 52.450350s | Average predict time: 5.913584s\n",
      "27. C = 3, k = poly, g = scale, Average accuracy: 0.866722 | Average fit time: 27.406952s | Average predict time: 8.037518s\n",
      "28. C = 3, k = poly, g = auto, Average accuracy: 0.866667 | Average fit time: 27.389936s | Average predict time: 8.051529s\n",
      "29. C = 3, k = rbf, g = scale, Average accuracy: 0.880000 | Average fit time: 24.821598s | Average predict time: 12.605274s\n",
      "30. C = 3, k = rbf, g = auto, Average accuracy: 0.879778 | Average fit time: 24.850824s | Average predict time: 12.652319s\n",
      "31. C = 3, k = sigmoid, g = scale, Average accuracy: 0.712444 | Average fit time: 15.241076s | Average predict time: 6.898080s\n",
      "32. C = 3, k = sigmoid, g = auto, Average accuracy: 0.712167 | Average fit time: 15.260894s | Average predict time: 6.927106s\n",
      "\n",
      "33. C = 5, k = linear, g = scale, Average accuracy: 0.803000 | Average fit time: 69.786132s | Average predict time: 5.864739s\n",
      "34. C = 5, k = linear, g = auto, Average accuracy: 0.803000 | Average fit time: 69.700654s | Average predict time: 5.961427s\n",
      "35. C = 5, k = poly, g = scale, Average accuracy: 0.871611 | Average fit time: 26.095601s | Average predict time: 7.860355s\n",
      "36. C = 5, k = poly, g = auto, Average accuracy: 0.871778 | Average fit time: 26.442874s | Average predict time: 7.917807s\n",
      "37. C = 5, k = rbf, g = scale, Average accuracy: 0.881722 | Average fit time: 24.866639s | Average predict time: 12.698960s\n",
      "38. C = 5, k = rbf, g = auto, Average accuracy: 0.881611 | Average fit time: 24.403817s | Average predict time: 12.657322s\n",
      "39. C = 5, k = sigmoid, g = scale, Average accuracy: 0.710111 | Average fit time: 14.265988s | Average predict time: 6.738134s\n",
      "40. C = 5, k = sigmoid, g = auto, Average accuracy: 0.712056 | Average fit time: 14.386898s | Average predict time: 6.739135s\n",
      "\n",
      "41. C = 6, k = linear, g = scale, Average accuracy: 0.802500 | Average fit time: 76.538279s | Average predict time: 5.959825s\n",
      "42. C = 6, k = linear, g = auto, Average accuracy: 0.802500 | Average fit time: 76.321482s | Average predict time: 5.930799s\n",
      "43. C = 6, k = poly, g = scale, Average accuracy: 0.872278 | Average fit time: 26.254702s | Average predict time: 7.917007s\n",
      "44. C = 6, k = poly, g = auto, Average accuracy: 0.872500 | Average fit time: 26.145403s | Average predict time: 7.867963s\n",
      "45. C = 6, k = rbf, g = scale, Average accuracy: 0.881611 | Average fit time: 24.418031s | Average predict time: 12.720180s\n",
      "46. C = 6, k = rbf, g = auto, Average accuracy: 0.881500 | Average fit time: 24.307129s | Average predict time: 12.713773s\n",
      "47. C = 6, k = sigmoid, g = scale, Average accuracy: 0.707944 | Average fit time: 14.287808s | Average predict time: 6.838225s\n",
      "48. C = 6, k = sigmoid, g = auto, Average accuracy: 0.711167 | Average fit time: 13.785550s | Average predict time: 6.686887s\n",
      "\n",
      "49. C = 7, k = linear, g = scale, Average accuracy: 0.802500 | Average fit time: 89.951490s | Average predict time: 5.895767s\n",
      "50. C = 7, k = linear, g = auto, Average accuracy: 0.802500 | Average fit time: 89.680781s | Average predict time: 5.926596s\n",
      "51. C = 7, k = poly, g = scale, Average accuracy: 0.873333 | Average fit time: 25.791681s | Average predict time: 7.851146s\n",
      "52. C = 7, k = poly, g = auto, Average accuracy: 0.872944 | Average fit time: 26.027897s | Average predict time: 7.860154s\n",
      "53. C = 7, k = rbf, g = scale, Average accuracy: 0.882222 | Average fit time: 24.501307s | Average predict time: 12.719579s\n",
      "54. C = 7, k = rbf, g = auto, Average accuracy: 0.882333 | Average fit time: 24.178412s | Average predict time: 12.722382s\n",
      "55. C = 7, k = sigmoid, g = scale, Average accuracy: 0.711056 | Average fit time: 14.128663s | Average predict time: 6.702300s\n",
      "56. C = 7, k = sigmoid, g = auto, Average accuracy: 0.709722 | Average fit time: 13.951501s | Average predict time: 6.720518s\n",
      "\n",
      "57. C = 8, k = linear, g = scale, Average accuracy: 0.802667 | Average fit time: 97.976796s | Average predict time: 5.946012s\n",
      "58. C = 8, k = linear, g = auto, Average accuracy: 0.802667 | Average fit time: 98.046859s | Average predict time: 5.959626s\n",
      "59. C = 8, k = poly, g = scale, Average accuracy: 0.873889 | Average fit time: 25.130078s | Average predict time: 7.749655s\n",
      "60. C = 8, k = poly, g = auto, Average accuracy: 0.874056 | Average fit time: 25.074227s | Average predict time: 7.771275s\n",
      "61. C = 8, k = rbf, g = scale, Average accuracy: 0.881944 | Average fit time: 23.823689s | Average predict time: 12.705367s\n",
      "62. C = 8, k = rbf, g = auto, Average accuracy: 0.881778 | Average fit time: 23.652533s | Average predict time: 12.742401s\n",
      "63. C = 8, k = sigmoid, g = scale, Average accuracy: 0.709389 | Average fit time: 13.500291s | Average predict time: 6.653657s\n",
      "64. C = 8, k = sigmoid, g = auto, Average accuracy: 0.708556 | Average fit time: 13.241255s | Average predict time: 6.665668s\n",
      "\n",
      "65. C = 9, k = linear, g = scale, Average accuracy: 0.802778 | Average fit time: 108.074188s | Average predict time: 5.948015s\n",
      "66. C = 9, k = linear, g = auto, Average accuracy: 0.802778 | Average fit time: 107.680229s | Average predict time: 5.818096s\n",
      "67. C = 9, k = poly, g = scale, Average accuracy: 0.875222 | Average fit time: 24.763344s | Average predict time: 7.768872s\n",
      "68. C = 9, k = poly, g = auto, Average accuracy: 0.874889 | Average fit time: 24.859832s | Average predict time: 7.774478s\n",
      "69. C = 9, k = rbf, g = scale, Average accuracy: 0.881833 | Average fit time: 23.855518s | Average predict time: 12.591462s\n",
      "70. C = 9, k = rbf, g = auto, Average accuracy: 0.881667 | Average fit time: 24.059303s | Average predict time: 12.545621s\n",
      "71. C = 9, k = sigmoid, g = scale, Average accuracy: 0.706389 | Average fit time: 13.436031s | Average predict time: 6.570782s\n",
      "72. C = 9, k = sigmoid, g = auto, Average accuracy: 0.707722 | Average fit time: 13.394594s | Average predict time: 6.587197s\n",
      "\n",
      "73. C = 10, k = linear, g = scale, Average accuracy: 0.802611 | Average fit time: 122.340176s | Average predict time: 5.838915s\n",
      "74. C = 10, k = linear, g = auto, Average accuracy: 0.802611 | Average fit time: 122.120175s | Average predict time: 5.848124s\n",
      "75. C = 10, k = poly, g = scale, Average accuracy: 0.876111 | Average fit time: 25.329059s | Average predict time: 7.762466s\n",
      "76. C = 10, k = poly, g = auto, Average accuracy: 0.876222 | Average fit time: 24.982144s | Average predict time: 7.750455s\n",
      "77. C = 10, k = rbf, g = scale, Average accuracy: 0.881389 | Average fit time: 23.915373s | Average predict time: 12.581653s\n",
      "78. C = 10, k = rbf, g = auto, Average accuracy: 0.881333 | Average fit time: 23.918374s | Average predict time: 12.572046s\n",
      "79. C = 10, k = sigmoid, g = scale, Average accuracy: 0.706833 | Average fit time: 13.155977s | Average predict time: 6.592801s\n",
      "80. C = 10, k = sigmoid, g = auto, Average accuracy: 0.709389 | Average fit time: 13.071701s | Average predict time: 6.620027s\n",
      "\n",
      "81. C = 13, k = linear, g = scale, Average accuracy: 0.802444 | Average fit time: 148.055184s | Average predict time: 5.873747s\n",
      "82. C = 13, k = linear, g = auto, Average accuracy: 0.802444 | Average fit time: 147.844794s | Average predict time: 5.821499s\n",
      "83. C = 13, k = poly, g = scale, Average accuracy: 0.877056 | Average fit time: 25.172917s | Average predict time: 7.760464s\n",
      "84. C = 13, k = poly, g = auto, Average accuracy: 0.877222 | Average fit time: 24.808585s | Average predict time: 7.773076s\n",
      "85. C = 13, k = rbf, g = scale, Average accuracy: 0.880611 | Average fit time: 24.250077s | Average predict time: 12.631699s\n",
      "86. C = 13, k = rbf, g = auto, Average accuracy: 0.880444 | Average fit time: 24.281105s | Average predict time: 12.689152s\n",
      "87. C = 13, k = sigmoid, g = scale, Average accuracy: 0.706111 | Average fit time: 13.272283s | Average predict time: 6.801992s\n",
      "88. C = 13, k = sigmoid, g = auto, Average accuracy: 0.706500 | Average fit time: 12.974612s | Average predict time: 6.732529s\n",
      "\n",
      "89. C = 15, k = linear, g = scale, Average accuracy: 0.801722 | Average fit time: 161.323664s | Average predict time: 5.785667s\n",
      "90. C = 15, k = linear, g = auto, Average accuracy: 0.801722 | Average fit time: 160.973746s | Average predict time: 5.723009s\n",
      "91. C = 15, k = poly, g = scale, Average accuracy: 0.878000 | Average fit time: 24.822798s | Average predict time: 7.668982s\n",
      "92. C = 15, k = poly, g = auto, Average accuracy: 0.878056 | Average fit time: 24.842616s | Average predict time: 7.711621s\n",
      "93. C = 15, k = rbf, g = scale, Average accuracy: 0.880111 | Average fit time: 23.999448s | Average predict time: 12.633901s\n",
      "94. C = 15, k = rbf, g = auto, Average accuracy: 0.879944 | Average fit time: 23.872533s | Average predict time: 12.594666s\n",
      "95. C = 15, k = sigmoid, g = scale, Average accuracy: 0.707333 | Average fit time: 13.066094s | Average predict time: 6.758553s\n",
      "96. C = 15, k = sigmoid, g = auto, Average accuracy: 0.706611 | Average fit time: 13.064293s | Average predict time: 6.768162s\n",
      "\n",
      "97. C = 20, k = linear, g = scale, Average accuracy: 0.801333 | Average fit time: 191.495733s | Average predict time: 5.720207s\n",
      "98. C = 20, k = linear, g = auto, Average accuracy: 0.801333 | Average fit time: 191.186651s | Average predict time: 5.743429s\n",
      "99. C = 20, k = poly, g = scale, Average accuracy: 0.877111 | Average fit time: 24.900669s | Average predict time: 7.653967s\n",
      "100. C = 20, k = poly, g = auto, Average accuracy: 0.877222 | Average fit time: 24.677065s | Average predict time: 7.635350s\n",
      "101. C = 20, k = rbf, g = scale, Average accuracy: 0.879444 | Average fit time: 24.085327s | Average predict time: 12.585858s\n",
      "102. C = 20, k = rbf, g = auto, Average accuracy: 0.879389 | Average fit time: 23.907765s | Average predict time: 12.625493s\n",
      "103. C = 20, k = sigmoid, g = scale, Average accuracy: 0.706889 | Average fit time: 13.150372s | Average predict time: 6.500318s\n",
      "104. C = 20, k = sigmoid, g = auto, Average accuracy: 0.707056 | Average fit time: 13.132356s | Average predict time: 6.561173s\n",
      "\n",
      "105. C = 50, k = linear, g = scale, Average accuracy: 0.797778 | Average fit time: 343.108757s | Average predict time: 5.691382s\n",
      "106. C = 50, k = linear, g = auto, Average accuracy: 0.797778 | Average fit time: 343.074926s | Average predict time: 5.696586s\n",
      "107. C = 50, k = poly, g = scale, Average accuracy: 0.875667 | Average fit time: 24.728113s | Average predict time: 7.674185s\n",
      "108. C = 50, k = poly, g = auto, Average accuracy: 0.875389 | Average fit time: 24.746129s | Average predict time: 7.682794s\n",
      "109. C = 50, k = rbf, g = scale, Average accuracy: 0.875389 | Average fit time: 24.124563s | Average predict time: 12.865111s\n",
      "110. C = 50, k = rbf, g = auto, Average accuracy: 0.875444 | Average fit time: 24.064708s | Average predict time: 12.879974s\n",
      "111. C = 50, k = sigmoid, g = scale, Average accuracy: 0.706222 | Average fit time: 12.894940s | Average predict time: 6.587797s\n",
      "112. C = 50, k = sigmoid, g = auto, Average accuracy: 0.706611 | Average fit time: 12.800054s | Average predict time: 6.560171s\n",
      "\n",
      "-------------------\n",
      "Best accuracy is in iteration number: 54  | for c = 7 , k = rbf , g = auto\n"
     ]
    }
   ],
   "source": [
    "kf = StratifiedKFold(n_splits = 5, shuffle = True, random_state = 42)\n",
    "acc = []\n",
    "i, p_val, best_acc, best_c = 0, 0, 0, 0\n",
    "best_k, best_g = '', ''\n",
    "\n",
    "for c in [0.1, 0.5, 1, 3, 5, 6, 7, 8, 9, 10, 13, 15, 20, 50]:\n",
    "    for k in [\"linear\", \"poly\", \"rbf\", \"sigmoid\"]:\n",
    "        for g in [\"scale\", \"auto\"]:\n",
    "            \n",
    "            acc_tmp, time_fit_tmp, time_pred_tmp = [], [], []\n",
    " \n",
    "            indexes = kf.split(X_train_30, y_train_30)\n",
    "\n",
    "            for train_index, test_index in indexes:\n",
    "\n",
    "                X_trainCV1 = X_train_30.iloc[train_index,:]\n",
    "                y_trainCV1 = y_train_30.iloc[train_index]\n",
    "                X_testCV1 = X_train_30.iloc[test_index,:]\n",
    "                y_testCV1 = y_train_30.iloc[test_index]\n",
    "\n",
    "                classifier1 = SVC(C = c, kernel = k, gamma = g)\n",
    "                \n",
    "                svc_fit_with_time(classifier1, X_trainCV1, y_trainCV1, time_fit_tmp)\n",
    "                y_pred1 = svc_predict_with_time(classifier1, X_testCV1, time_pred_tmp)\n",
    "\n",
    "                c1 = confusion_matrix(y_testCV1, y_pred1)\n",
    "                acc_tmp.append(np.trace(c1)/sum(sum(c1)))\n",
    "            \n",
    "            print(f\"{i+1}. C = {c}, k = {k}, g = {g}, Average accuracy: {np.mean(acc_tmp):.6f} | Average fit time: {np.mean(time_fit_tmp):.6f}s | Average predict time: {np.mean(time_pred_tmp):.6f}s\")\n",
    "            acc.append(np.mean(acc_tmp))\n",
    "            i += 1\n",
    "\n",
    "            if np.mean(acc_tmp) > best_acc:\n",
    "                best_acc = np.mean(acc_tmp)\n",
    "                best_c, best_k, best_g = c, k, g\n",
    "            \n",
    "    print('')\n",
    "\n",
    "print('-------------------')\n",
    "print('Best accuracy is in iteration number:', np.argmax(acc) + 1, ' | for c =', best_c, ', k =', best_k, ', g =', best_g)"
   ]
  },
  {
   "cell_type": "markdown",
   "metadata": {},
   "source": [
    "#### Checking if other parameters speed up the process"
   ]
  },
  {
   "cell_type": "code",
   "execution_count": 7,
   "metadata": {},
   "outputs": [
    {
     "name": "stdout",
     "output_type": "stream",
     "text": [
      "dfs = ovo, s = True Average accuracy: 0.882333 | Average fit time: 24.565364s | Average predict time: 12.694957s\n",
      "dfs = ovo, s = False Average accuracy: 0.882333 | Average fit time: 25.234373s | Average predict time: 12.670535s\n",
      "dfs = ovr, s = True Average accuracy: 0.882333 | Average fit time: 24.668593s | Average predict time: 12.764621s\n",
      "dfs = ovr, s = False Average accuracy: 0.882333 | Average fit time: 24.973335s | Average predict time: 12.678542s\n",
      "\n",
      "-------------------\n",
      "Best accuracy is for dfs = ovo, s = True\n"
     ]
    }
   ],
   "source": [
    "kf = StratifiedKFold(n_splits=5, shuffle=True, random_state=42)\n",
    "\n",
    "best_time_fit = 99999\n",
    "best_dfs, best_s = '', False\n",
    "\n",
    "for dfs in [\"ovo\", \"ovr\"]:\n",
    "    for s in [True, False]:\n",
    "\n",
    "        acc_tmp, time_fit_tmp, time_pred_tmp = [], [], []\n",
    "            \n",
    "        indexes = kf.split(X_train_30, y_train_30)\n",
    " \n",
    "        for train_index, test_index in indexes:\n",
    "\n",
    "            X_trainCV1 = X_train_30.iloc[train_index,:]\n",
    "            y_trainCV1 = y_train_30.iloc[train_index]\n",
    "            X_testCV1 = X_train_30.iloc[test_index,:]\n",
    "            y_testCV1 = y_train_30.iloc[test_index]\n",
    "\n",
    "            classifier1 = SVC(C = best_c, kernel = best_k, gamma = best_g, shrinking = s, decision_function_shape = dfs)\n",
    "                \n",
    "            svc_fit_with_time(classifier1, X_trainCV1, y_trainCV1, time_fit_tmp)\n",
    "            y_pred1 = svc_predict_with_time(classifier1, X_testCV1, time_pred_tmp)\n",
    "\n",
    "            c1 = confusion_matrix(y_testCV1, y_pred1)\n",
    "            acc_tmp.append(np.trace(c1)/sum(sum(c1)))\n",
    "        \n",
    "        print(f\"dfs = {dfs}, s = {s} Average accuracy: {np.mean(acc_tmp):.6f} | Average fit time: {np.mean(time_fit_tmp):.6f}s | Average predict time: {np.mean(time_pred_tmp):.6f}s\")\n",
    "         \n",
    "        if np.mean(time_fit_tmp) < best_time_fit:\n",
    "            best_time_fit = np.mean(time_fit_tmp)\n",
    "            best_dfs, best_s = dfs, s\n",
    "\n",
    "print('')    \n",
    "print('-------------------')\n",
    "print(f'Best accuracy is for dfs = {best_dfs}, s = {best_s}')"
   ]
  },
  {
   "cell_type": "markdown",
   "metadata": {},
   "source": [
    "#### Training on 30% training samples, test on test dataset"
   ]
  },
  {
   "cell_type": "code",
   "execution_count": 8,
   "metadata": {},
   "outputs": [
    {
     "name": "stdout",
     "output_type": "stream",
     "text": [
      "Accuracy: 0.888000 | Average fit time: 37.596225s | Average predict time: 42.276487s\n",
      "-------------------\n",
      "SVC parameters: c = 7, k = rbf, g = auto, dfs = ovo, s = True\n"
     ]
    }
   ],
   "source": [
    "classifier1 = SVC(C = best_c, kernel = best_k, gamma = best_g, decision_function_shape = best_dfs, shrinking = best_s)\n",
    "\n",
    "start1 = time.time()\n",
    "classifier1.fit(X_train_30, y_train_30)\n",
    "fit_time = time.time() - start1\n",
    "\n",
    "start2 = time.time()\n",
    "y_pred2 = classifier1.predict(X_test_std)\n",
    "pred_time = time.time() - start2\n",
    "\n",
    "c2 = confusion_matrix(y_test, y_pred2, labels=[0,1,2,3,4,5,6,7,8,9])\n",
    "    \n",
    "print(f\"Accuracy: {np.trace(c2)/sum(sum(c2)):.6f} | Average fit time: {fit_time:.6f}s | Average predict time: {pred_time:.6f}s\")\n",
    "print('-------------------')\n",
    "print('SVC parameters: c = ', best_c, ', k = ', best_k, ', g = ', best_g, ', dfs = ', best_dfs, ', s = ', best_s, sep='')"
   ]
  },
  {
   "attachments": {},
   "cell_type": "markdown",
   "metadata": {},
   "source": [
    "."
   ]
  },
  {
   "cell_type": "markdown",
   "metadata": {},
   "source": [
    "## Trained on 100% samples of the original training dataset"
   ]
  },
  {
   "cell_type": "code",
   "execution_count": 9,
   "metadata": {},
   "outputs": [],
   "source": [
    "train_data = pd.read_csv(\"../datasets/fashion-mnist_train.csv\")\n",
    "X_train = train_data.iloc[:,1:]\n",
    "y_train = train_data.iloc[:,0]\n",
    "\n",
    "test_data = pd.read_csv(\"../datasets/fashion-mnist_test.csv\")\n",
    "X_test = test_data.iloc[:,1:]\n",
    "y_test = test_data.iloc[:,0]\n",
    "\n",
    "X_train_std = (X_train - X_train.mean()) / X_train.std()\n",
    "X_test_std = (X_test - X_test.mean()) / X_test.std()"
   ]
  },
  {
   "cell_type": "code",
   "execution_count": 10,
   "metadata": {},
   "outputs": [
    {
     "name": "stdout",
     "output_type": "stream",
     "text": [
      "        Accuracy: 0.903083 | Fit time: 210.711826s | Predict time: 109.540723s\n",
      "        Accuracy: 0.898917 | Fit time: 210.422563s | Predict time: 110.718795s\n",
      "        Accuracy: 0.902167 | Fit time: 212.584531s | Predict time: 110.518613s\n",
      "        Accuracy: 0.901833 | Fit time: 210.206366s | Predict time: 110.185310s\n",
      "        Accuracy: 0.901167 | Fit time: 209.188439s | Predict time: 109.105326s\n",
      "\n",
      "-------------------\n",
      "Average accuracy: 0.901433 | Average fit time: 210.622745s | Average predict time: 110.013753s\n"
     ]
    }
   ],
   "source": [
    "kf = StratifiedKFold(n_splits=5, shuffle=True, random_state=42)\n",
    "\n",
    "acc, acc_tmp, time_fit_tmp, time_pred_tmp = [], [], [], []\n",
    "     \n",
    "indexes = kf.split(X_train, y_train)\n",
    "\n",
    "for train_index, test_index in indexes:\n",
    "    \n",
    "    X_trainCV2 = X_train_std.iloc[train_index,:]\n",
    "    y_trainCV2 = y_train.iloc[train_index]\n",
    "    X_testCV2 = X_train_std.iloc[test_index,:]\n",
    "    y_testCV2 = y_train.iloc[test_index]\n",
    "\n",
    "    classifier2 = SVC(C = best_c, kernel = best_k, gamma = best_g, decision_function_shape = best_dfs, shrinking = best_s)\n",
    "                \n",
    "    svc_fit_with_time(classifier2, X_trainCV2, y_trainCV2, time_fit_tmp)\n",
    "    y_pred3 = svc_predict_with_time(classifier2, X_testCV2, time_pred_tmp)\n",
    "\n",
    "    c3 = confusion_matrix(y_testCV2, y_pred3)\n",
    "    acc_tmp.append(np.trace(c3)/sum(sum(c3)))\n",
    "\n",
    "    print(f\"        Accuracy: {np.trace(c3)/sum(sum(c3)):.6f} | Fit time: {time_fit_tmp[-1]:.6f}s | Predict time: {time_pred_tmp[-1]:.6f}s\")\n",
    "\n",
    "print(\"\")    \n",
    "print('-------------------')\n",
    "print(f\"Average accuracy: {np.mean(acc_tmp):.6f} | Average fit time: {np.mean(time_fit_tmp):.6f}s | Average predict time: {np.mean(time_pred_tmp):.6f}s\")"
   ]
  },
  {
   "cell_type": "markdown",
   "metadata": {},
   "source": [
    "##### Training on 100% training samples, test on test dataset"
   ]
  },
  {
   "cell_type": "code",
   "execution_count": 11,
   "metadata": {},
   "outputs": [
    {
     "name": "stdout",
     "output_type": "stream",
     "text": [
      "Accuracy: 0.907600 | Average fit time: 311.328423s | Average predict time: 109.880032s\n",
      "-------------------\n",
      "SVC parameters: c = 7, k = rbf, g = auto, dfs = ovo, s = True\n"
     ]
    }
   ],
   "source": [
    "classifier2 = SVC(C = best_c, kernel = best_k, gamma = best_g, decision_function_shape = best_dfs, shrinking = best_s)\n",
    "\n",
    "start1 = time.time()\n",
    "classifier2.fit(X_train_std, y_train)\n",
    "fit_time = time.time() - start1\n",
    "\n",
    "start2 = time.time()\n",
    "y_pred4 = classifier2.predict(X_test_std)\n",
    "pred_time = time.time() - start2\n",
    "\n",
    "c4 = confusion_matrix(y_test, y_pred4, labels=[0,1,2,3,4,5,6,7,8,9])\n",
    "    \n",
    "print(f\"Accuracy: {np.trace(c4)/sum(sum(c4)):.6f} | Average fit time: {fit_time:.6f}s | Average predict time: {pred_time:.6f}s\")\n",
    "print('-------------------')\n",
    "print('SVC parameters: c = ', best_c, ', k = ', best_k, ', g = ', best_g, ', dfs = ', best_dfs, ', s = ', best_s, sep='')"
   ]
  },
  {
   "cell_type": "markdown",
   "metadata": {},
   "source": [
    "."
   ]
  },
  {
   "cell_type": "markdown",
   "metadata": {},
   "source": [
    "## Trained on 100% samples with PCA reduction"
   ]
  },
  {
   "cell_type": "code",
   "execution_count": 12,
   "metadata": {},
   "outputs": [],
   "source": [
    "train_data = pd.read_csv(\"../datasets/fashion-mnist_train.csv\")\n",
    "X_train = train_data.iloc[:,1:]\n",
    "y_train = train_data.iloc[:,0]\n",
    "\n",
    "test_data = pd.read_csv(\"../datasets/fashion-mnist_test.csv\")\n",
    "X_test = test_data.iloc[:,1:]\n",
    "y_test = test_data.iloc[:,0]\n",
    "\n",
    "X_train_std = (X_train - X_train.mean()) / X_train.std()\n",
    "X_test_std = (X_test - X_test.mean()) / X_test.std()"
   ]
  },
  {
   "cell_type": "code",
   "execution_count": 13,
   "metadata": {
    "scrolled": false
   },
   "outputs": [
    {
     "name": "stdout",
     "output_type": "stream",
     "text": [
      "1. pca = 0.900000, C = 0.1, k = poly, Average accuracy: 0.818050 | Average fit time: 126.109807s | Average predict time: 24.114553s\n",
      "2. pca = 0.900000, C = 0.1, k = rbf, Average accuracy: 0.847967 | Average fit time: 90.653327s | Average predict time: 37.059538s\n",
      "\n",
      "3. pca = 0.900000, C = 0.5, k = poly, Average accuracy: 0.864700 | Average fit time: 75.771780s | Average predict time: 18.285847s\n",
      "4. pca = 0.900000, C = 0.5, k = rbf, Average accuracy: 0.878050 | Average fit time: 64.025086s | Average predict time: 29.621166s\n",
      "\n",
      "5. pca = 0.900000, C = 1, k = poly, Average accuracy: 0.878117 | Average fit time: 64.589000s | Average predict time: 16.613324s\n",
      "6. pca = 0.900000, C = 1, k = rbf, Average accuracy: 0.886500 | Average fit time: 58.662003s | Average predict time: 27.582310s\n",
      "\n",
      "7. pca = 0.900000, C = 3, k = poly, Average accuracy: 0.889367 | Average fit time: 53.606602s | Average predict time: 14.331247s\n",
      "8. pca = 0.900000, C = 3, k = rbf, Average accuracy: 0.895467 | Average fit time: 53.803381s | Average predict time: 25.384910s\n",
      "\n",
      "9. pca = 0.900000, C = 5, k = poly, Average accuracy: 0.892683 | Average fit time: 50.855297s | Average predict time: 13.459853s\n",
      "10. pca = 0.900000, C = 5, k = rbf, Average accuracy: 0.898050 | Average fit time: 52.502396s | Average predict time: 24.801579s\n",
      "\n",
      "11. pca = 0.900000, C = 6, k = poly, Average accuracy: 0.893667 | Average fit time: 49.798135s | Average predict time: 13.186004s\n",
      "12. pca = 0.900000, C = 6, k = rbf, Average accuracy: 0.898800 | Average fit time: 52.152277s | Average predict time: 24.658849s\n",
      "\n",
      "13. pca = 0.900000, C = 7, k = poly, Average accuracy: 0.893967 | Average fit time: 49.177570s | Average predict time: 12.592664s\n",
      "14. pca = 0.900000, C = 7, k = rbf, Average accuracy: 0.899267 | Average fit time: 52.003743s | Average predict time: 24.456064s\n",
      "\n",
      "15. pca = 0.900000, C = 8, k = poly, Average accuracy: 0.894600 | Average fit time: 49.080081s | Average predict time: 12.809462s\n",
      "16. pca = 0.900000, C = 8, k = rbf, Average accuracy: 0.899567 | Average fit time: 51.960703s | Average predict time: 24.339358s\n",
      "\n",
      "17. pca = 0.900000, C = 9, k = poly, Average accuracy: 0.895367 | Average fit time: 48.608051s | Average predict time: 12.483565s\n",
      "18. pca = 0.900000, C = 9, k = rbf, Average accuracy: 0.899850 | Average fit time: 51.788146s | Average predict time: 24.252279s\n",
      "\n",
      "19. pca = 0.900000, C = 10, k = poly, Average accuracy: 0.895633 | Average fit time: 48.319388s | Average predict time: 12.105421s\n",
      "20. pca = 0.900000, C = 10, k = rbf, Average accuracy: 0.900217 | Average fit time: 51.784342s | Average predict time: 24.145582s\n",
      "\n",
      "21. pca = 0.900000, C = 11, k = poly, Average accuracy: 0.896100 | Average fit time: 48.223502s | Average predict time: 12.202108s\n",
      "22. pca = 0.900000, C = 11, k = rbf, Average accuracy: 0.900450 | Average fit time: 52.206527s | Average predict time: 24.087129s\n",
      "\n",
      "23. pca = 0.900000, C = 12, k = poly, Average accuracy: 0.896050 | Average fit time: 48.149433s | Average predict time: 12.140452s\n",
      "24. pca = 0.900000, C = 12, k = rbf, Average accuracy: 0.900583 | Average fit time: 51.965507s | Average predict time: 24.037083s\n",
      "\n",
      "25. pca = 0.900000, C = 13, k = poly, Average accuracy: 0.896417 | Average fit time: 48.215494s | Average predict time: 11.538304s\n",
      "26. pca = 0.900000, C = 13, k = rbf, Average accuracy: 0.900583 | Average fit time: 52.036171s | Average predict time: 24.029876s\n",
      "\n",
      "27. pca = 0.900000, C = 14, k = poly, Average accuracy: 0.896600 | Average fit time: 48.044939s | Average predict time: 11.628787s\n",
      "28. pca = 0.900000, C = 14, k = rbf, Average accuracy: 0.900550 | Average fit time: 52.164289s | Average predict time: 24.025272s\n",
      "\n",
      "29. pca = 0.900000, C = 15, k = poly, Average accuracy: 0.896700 | Average fit time: 47.734056s | Average predict time: 11.420197s\n",
      "30. pca = 0.900000, C = 15, k = rbf, Average accuracy: 0.900350 | Average fit time: 52.469767s | Average predict time: 23.937192s\n",
      "\n",
      "31. pca = 0.900000, C = 20, k = poly, Average accuracy: 0.896850 | Average fit time: 47.786703s | Average predict time: 11.197795s\n",
      "32. pca = 0.900000, C = 20, k = rbf, Average accuracy: 0.900167 | Average fit time: 53.052698s | Average predict time: 23.933589s\n",
      "\n",
      "-------------------\n",
      "Best accuracy is in iteration number: 26  | for c = 13 , k = rbf , g = scale, pca = 0.9\n"
     ]
    }
   ],
   "source": [
    "kf = StratifiedKFold(n_splits = 5, shuffle = True, random_state = 42)\n",
    "acc = []\n",
    "i, p_val, best_acc, best_c, best_pca = 0, 0, 0, 0, 0\n",
    "best_k = ''\n",
    "best_g = 'scale'\n",
    "\n",
    "for c in [0.1, 0.5, 1, 3, 5, 6, 7, 8, 9, 10, 11, 12, 13, 14, 15, 20]:\n",
    "    # stopped and excluded \"linear\" because of extremely high execution times\n",
    "    # pc for  0.9 gave better results than every other value\n",
    "    for k in [\"poly\", \"rbf\"]:\n",
    "        for pc in [0.9]:\n",
    "    \n",
    "            acc_tmp, time_fit_tmp, time_pred_tmp = [], [], []\n",
    "\n",
    "            indexes = kf.split(X_train, y_train)\n",
    "\n",
    "            for train_index, test_index in indexes:\n",
    "\n",
    "                X_trainCV3 = X_train_std.iloc[train_index,:]\n",
    "                y_trainCV3 = y_train.iloc[train_index]\n",
    "                X_testCV3 = X_train_std.iloc[test_index,:]\n",
    "                y_testCV3 = y_train.iloc[test_index]\n",
    "\n",
    "                pca = PCA(n_components=pc)\n",
    "                pca.fit(X_trainCV3)\n",
    "                X_train_r = pca.transform(X_trainCV3)\n",
    "                X_test_r = pca.transform(X_testCV3)\n",
    "\n",
    "                classifier3 = SVC(C = c, kernel = k, gamma = best_g)\n",
    "                \n",
    "                svc_fit_with_time(classifier3, X_train_r, y_trainCV3, time_fit_tmp)\n",
    "                y_pred5 = svc_predict_with_time(classifier3, X_test_r, time_pred_tmp)\n",
    "\n",
    "                c5 = confusion_matrix(y_testCV3, y_pred5)\n",
    "                acc_tmp.append(np.trace(c5)/sum(sum(c5)))\n",
    "\n",
    "            print(f\"{i+1}. pca = {pc:.6f}, C = {c}, k = {k}, Average accuracy: {np.mean(acc_tmp):.6f} | Average fit time: {np.mean(time_fit_tmp):.6f}s | Average predict time: {np.mean(time_pred_tmp):.6f}s\")\n",
    "            acc.append(np.mean(acc_tmp))\n",
    "            i += 1\n",
    "\n",
    "            if np.mean(acc_tmp) > best_acc:\n",
    "                best_acc = np.mean(acc_tmp)\n",
    "                best_c, best_k, best_pca = c, k, pc\n",
    "            \n",
    "    print('')\n",
    "\n",
    "print('-------------------')\n",
    "print('Best accuracy is in iteration number:', np.argmax(acc) + 1, ' | for c =', best_c, ', k =', best_k, ', g = scale, pca =', best_pca)"
   ]
  },
  {
   "cell_type": "markdown",
   "metadata": {},
   "source": [
    "#### Checking if other parameters speed up the process"
   ]
  },
  {
   "cell_type": "code",
   "execution_count": 14,
   "metadata": {},
   "outputs": [
    {
     "name": "stdout",
     "output_type": "stream",
     "text": [
      "dfs = ovo, s = True Average accuracy: 0.900583 | Average fit time: 51.922269s | Average predict time: 24.014462s\n",
      "dfs = ovo, s = False Average accuracy: 0.900583 | Average fit time: 57.901912s | Average predict time: 23.983434s\n",
      "dfs = ovr, s = True Average accuracy: 0.900583 | Average fit time: 51.746909s | Average predict time: 24.049894s\n",
      "dfs = ovr, s = False Average accuracy: 0.900583 | Average fit time: 57.873687s | Average predict time: 24.031278s\n",
      "\n",
      "-------------------\n",
      "Best accuracy is for dfs = ovr, s = True\n"
     ]
    }
   ],
   "source": [
    "kf = StratifiedKFold(n_splits=5, shuffle=True, random_state=42)\n",
    "\n",
    "best_time_fit = 99999\n",
    "best_dfs, best_s = '', False\n",
    "\n",
    "for dfs in [\"ovo\", \"ovr\"]:\n",
    "    for s in [True, False]:\n",
    "    \n",
    "        acc_tmp, time_fit_tmp, time_pred_tmp = [], [], []\n",
    "\n",
    "        indexes = kf.split(X_train, y_train)\n",
    "\n",
    "        for train_index, test_index in indexes:\n",
    "\n",
    "            X_trainCV3 = X_train_std.iloc[train_index,:]\n",
    "            y_trainCV3 = y_train.iloc[train_index]\n",
    "            X_testCV3 = X_train_std.iloc[test_index,:]\n",
    "            y_testCV3 = y_train.iloc[test_index]\n",
    "\n",
    "            pca = PCA(n_components = best_pca)\n",
    "            pca.fit(X_trainCV3)\n",
    "            X_train_r = pca.transform(X_trainCV3)\n",
    "            X_test_r = pca.transform(X_testCV3)\n",
    "\n",
    "            classifier3 = SVC(C = best_c, kernel = best_k, gamma = best_g, shrinking = s, decision_function_shape = dfs)\n",
    "                \n",
    "            svc_fit_with_time(classifier3, X_train_r, y_trainCV3, time_fit_tmp)\n",
    "            y_pred5 = svc_predict_with_time(classifier3, X_test_r, time_pred_tmp)\n",
    "\n",
    "            c5 = confusion_matrix(y_testCV3, y_pred5)\n",
    "            acc_tmp.append(np.trace(c5)/sum(sum(c5)))\n",
    "        \n",
    "        print(f\"dfs = {dfs}, s = {s} Average accuracy: {np.mean(acc_tmp):.6f} | Average fit time: {np.mean(time_fit_tmp):.6f}s | Average predict time: {np.mean(time_pred_tmp):.6f}s\")\n",
    "         \n",
    "        if np.mean(time_fit_tmp) < best_time_fit:\n",
    "            best_time_fit = np.mean(time_fit_tmp)\n",
    "            best_dfs, best_s = dfs, s\n",
    "\n",
    "print('')    \n",
    "print('-------------------')\n",
    "print(f'Best accuracy is for dfs = {best_dfs}, s = {best_s}')"
   ]
  },
  {
   "cell_type": "markdown",
   "metadata": {},
   "source": [
    "##### Training on 100% training samples with PCA reduction, test on test dataset"
   ]
  },
  {
   "cell_type": "code",
   "execution_count": 15,
   "metadata": {},
   "outputs": [],
   "source": [
    "best_pca = 0.9\n",
    "best_s = True\n",
    "best_dfs = \"ovr\"\n",
    "best_c = 13 \n",
    "best_k = \"rbf\"  \n",
    "best_g = \"scale\""
   ]
  },
  {
   "cell_type": "code",
   "execution_count": 16,
   "metadata": {},
   "outputs": [
    {
     "name": "stdout",
     "output_type": "stream",
     "text": [
      "Accuracy: 0.906900 | Average fit time: 95.116445s | Average predict time: 24.543729s\n",
      "-------------------\n",
      "SVC parameters: c = 13, k = rbf, g = scale, dfs = ovr, s = True, pca = 0.9\n"
     ]
    }
   ],
   "source": [
    "pca = PCA(n_components=best_pca)\n",
    "pca.fit(X_train_std)\n",
    "X_train_r = pca.transform(X_train_std)\n",
    "X_test_r = pca.transform(X_test_std)\n",
    "\n",
    "\n",
    "classifier3 = SVC(C = best_c, kernel = best_k, gamma = best_g, shrinking = best_s, decision_function_shape = best_dfs)\n",
    "\n",
    "start1 = time.time()\n",
    "classifier3.fit(X_train_r, y_train) \n",
    "fit_time = time.time() - start1\n",
    "\n",
    "start2 = time.time()\n",
    "y_pred6 = classifier3.predict(X_test_r)\n",
    "pred_time = time.time() - start2\n",
    "\n",
    "c6 = confusion_matrix(y_test, y_pred6, labels=[0,1,2,3,4,5,6,7,8,9])\n",
    "    \n",
    "print(f\"Accuracy: {np.trace(c6)/sum(sum(c6)):.6f} | Average fit time: {fit_time:.6f}s | Average predict time: {pred_time:.6f}s\")\n",
    "print('-------------------')\n",
    "print('SVC parameters: c = ', best_c, ', k = ', best_k, ', g = ', best_g, ', dfs = ', best_dfs, ', s = ', best_s, ', pca = ', best_pca, sep='')            "
   ]
  },
  {
   "cell_type": "code",
   "execution_count": 17,
   "metadata": {},
   "outputs": [
    {
     "name": "stdout",
     "output_type": "stream",
     "text": [
      "[[874   0  14  19   0   0  85   0   8   0]\n",
      " [  3 983   2  11   0   0   0   0   1   0]\n",
      " [ 14   0 843  11  70   0  56   0   6   0]\n",
      " [ 16   7   7 930  25   1  13   0   1   0]\n",
      " [  1   0  57  23 865   0  53   0   1   0]\n",
      " [  0   0   0   0   0 953   1  28   7  11]\n",
      " [122   0  68  25  50   0 723   0  12   0]\n",
      " [  0   0   0   0   0  13   0 962   0  25]\n",
      " [  7   0   4   2   1   1   3   1 980   1]\n",
      " [  1   0   0   0   0   7   0  34   2 956]]\n"
     ]
    }
   ],
   "source": [
    "# confusion matrix\n",
    "print(c6)"
   ]
  },
  {
   "cell_type": "code",
   "execution_count": 18,
   "metadata": {},
   "outputs": [
    {
     "name": "stdout",
     "output_type": "stream",
     "text": [
      "For class 0 accuracy is: 0.971\n",
      "For class 1 accuracy is: 0.9976\n",
      "For class 2 accuracy is: 0.9691\n",
      "For class 3 accuracy is: 0.9839\n",
      "For class 8 accuracy is: 0.9719\n",
      "For class 6 accuracy is: 0.9931\n",
      "For class 5 accuracy is: 0.9512\n",
      "For class 4 accuracy is: 0.9899\n",
      "For class 7 accuracy is: 0.9942\n",
      "For class 9 accuracy is: 0.9919\n",
      "-------------\n",
      "0.9813799999999999\n"
     ]
    }
   ],
   "source": [
    "print(accuracy_per_class(c6, y_test.unique()))"
   ]
  },
  {
   "cell_type": "code",
   "execution_count": 19,
   "metadata": {},
   "outputs": [
    {
     "name": "stdout",
     "output_type": "stream",
     "text": [
      "For class 0 sensitivity is: 0.874\n",
      "For class 1 sensitivity is: 0.983\n",
      "For class 2 sensitivity is: 0.843\n",
      "For class 3 sensitivity is: 0.93\n",
      "For class 8 sensitivity is: 0.865\n",
      "For class 6 sensitivity is: 0.953\n",
      "For class 5 sensitivity is: 0.723\n",
      "For class 4 sensitivity is: 0.962\n",
      "For class 7 sensitivity is: 0.98\n",
      "For class 9 sensitivity is: 0.956\n",
      "-------------\n",
      "0.9068999999999999\n"
     ]
    }
   ],
   "source": [
    "print(sensitivity_per_class(c6, y_test.unique()))"
   ]
  },
  {
   "attachments": {},
   "cell_type": "markdown",
   "metadata": {},
   "source": [
    "## Examples of wrong classification"
   ]
  },
  {
   "cell_type": "code",
   "execution_count": 20,
   "metadata": {},
   "outputs": [
    {
     "name": "stdout",
     "output_type": "stream",
     "text": [
      "<class 'numpy.ndarray'>\n",
      "<class 'numpy.ndarray'>\n"
     ]
    }
   ],
   "source": [
    "y_pred_np = y_pred6\n",
    "print(type(y_pred6))\n",
    "\n",
    "y_test_np = y_test.to_numpy()\n",
    "print(type(y_test_np))"
   ]
  },
  {
   "cell_type": "code",
   "execution_count": 21,
   "metadata": {},
   "outputs": [],
   "source": [
    "def differences(a,b):\n",
    "    list = []\n",
    "    for j in range(len(a)):\n",
    "        if b[j] != a[j]:\n",
    "            list = list + [j]        \n",
    "    arrayIndexes = np.asarray(list)\n",
    "    return arrayIndexes"
   ]
  },
  {
   "cell_type": "code",
   "execution_count": 22,
   "metadata": {},
   "outputs": [
    {
     "name": "stdout",
     "output_type": "stream",
     "text": [
      "[ 5  7 38 40 43 51 58 59 72]\n"
     ]
    }
   ],
   "source": [
    "diff = differences(y_pred_np, y_test_np)\n",
    "print(diff[:9])"
   ]
  },
  {
   "cell_type": "code",
   "execution_count": 23,
   "metadata": {},
   "outputs": [
    {
     "data": {
      "image/png": "[encoded data removed]",
      "text/plain": [
       "<Figure size 576x576 with 9 Axes>"
      ]
     },
     "metadata": {
      "needs_background": "light"
     },
     "output_type": "display_data"
    }
   ],
   "source": [
    "plt.figure(figsize=(8,8))\n",
    "\n",
    "for j in range(0,9):  \n",
    "    plt.subplot(3,3,j+1)    \n",
    "    arr = X_test.iloc[diff[j],:].to_numpy()\n",
    "    \n",
    "    arr = arr.reshape(28,28)\n",
    "    arr = arr.astype(np.uint8)\n",
    "    img = Image.fromarray(arr, \"L\")\n",
    "    \n",
    "    plt.imshow(img, cmap = 'gray')\n",
    "    plt.title(f\"Predicted {y_pred_np[diff[j+100]]}, Real {y_test_np[diff[j+100]]}\")\n",
    "    plt.axis(\"off\")\n",
    "\n",
    "plt.show()"
   ]
  }
 ],
 "metadata": {
  "anaconda-cloud": {},
  "kernelspec": {
   "display_name": "base",
   "language": "python",
   "name": "python3"
  },
  "language_info": {
   "codemirror_mode": {
    "name": "ipython",
    "version": 3
   },
   "file_extension": ".py",
   "mimetype": "text/x-python",
   "name": "python",
   "nbconvert_exporter": "python",
   "pygments_lexer": "ipython3",
   "version": "3.9.12"
  },
  "vscode": {
   "interpreter": {
    "hash": "766a9d4e0fe97af3c745212a94c1e742b558cb97597ada925d7f9ef3d757d57c"
   }
  }
 },
 "nbformat": 4,
 "nbformat_minor": 1
}
