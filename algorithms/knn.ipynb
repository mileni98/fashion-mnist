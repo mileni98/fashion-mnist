{
 "cells": [
  {
   "cell_type": "markdown",
   "metadata": {},
   "source": [
    "# KNN - K Nearest Neighbours"
   ]
  },
  {
   "cell_type": "markdown",
   "metadata": {},
   "source": [
    "Importing libraries"
   ]
  },
  {
   "cell_type": "code",
   "execution_count": 1,
   "metadata": {},
   "outputs": [],
   "source": [
    "import time\n",
    "import numpy as np\n",
    "import pandas as pd\n",
    "import matplotlib.pyplot as plt\n",
    "\n",
    "from PIL import Image\n",
    "from sklearn.decomposition import PCA\n",
    "from sklearn.metrics import confusion_matrix\n",
    "from sklearn.neighbors import KNeighborsClassifier\n",
    "from sklearn.model_selection import train_test_split, StratifiedKFold\n",
    "from ipynb.fs.defs.additional_metrics import *"
   ]
  },
  {
   "attachments": {},
   "cell_type": "markdown",
   "metadata": {},
   "source": [
    "Defining functions that will perform .fit() and .predict() while calculating execution time "
   ]
  },
  {
   "cell_type": "code",
   "execution_count": 2,
   "metadata": {},
   "outputs": [],
   "source": [
    "def knn_fit_with_time(knn, X_trainCV, y_trainCV, time_fit_tmp):\n",
    "    start = time.time()     \n",
    "    knn.fit(X_trainCV, y_trainCV)\n",
    "    time_fit_tmp.append(time.time()-start)"
   ]
  },
  {
   "cell_type": "code",
   "execution_count": 3,
   "metadata": {},
   "outputs": [],
   "source": [
    "def knn_predict_with_time(knn, X_testCV, time_pred_tmp):\n",
    "    start = time.time()\n",
    "    y_pred = knn.predict(X_testCV)\n",
    "    time_pred_tmp.append(time.time()-start)\n",
    "    return y_pred"
   ]
  },
  {
   "cell_type": "markdown",
   "metadata": {},
   "source": [
    "## Trained on 30% samples of the original training dataset"
   ]
  },
  {
   "cell_type": "code",
   "execution_count": 4,
   "metadata": {},
   "outputs": [],
   "source": [
    "train_data = pd.read_csv(\"../datasets/fashion-mnist_train.csv\")\n",
    "X_train = train_data.iloc[:,1:]\n",
    "y_train = train_data.iloc[:,0]\n",
    "\n",
    "test_data = pd.read_csv(\"../datasets/fashion-mnist_test.csv\")\n",
    "X_test = test_data.iloc[:,1:]\n",
    "y_test = test_data.iloc[:,0]\n",
    "\n",
    "X_train_std = (X_train - X_train.mean()) / X_train.std()\n",
    "X_test_std = (X_test - X_test.mean()) / X_test.std()"
   ]
  },
  {
   "cell_type": "code",
   "execution_count": 5,
   "metadata": {},
   "outputs": [],
   "source": [
    "X_train_30, X_test_30, y_train_30, y_test_30 = train_test_split(X_train_std, y_train, test_size=0.7, stratify=y_train, random_state=42)"
   ]
  },
  {
   "cell_type": "code",
   "execution_count": 6,
   "metadata": {},
   "outputs": [
    {
     "name": "stdout",
     "output_type": "stream",
     "text": [
      "1. K = 1, m = euclidean, w = uniform, Average accuracy: 0.818611 | Average fit time: 0.024822s | Average predict time: 1.259545s\n",
      "2. K = 1, m = euclidean, w = distance, Average accuracy: 0.818611 | Average fit time: 0.027425s | Average predict time: 1.234321s\n",
      "3. K = 1, m = manhattan, w = uniform, Average accuracy: 0.829167 | Average fit time: 0.027025s | Average predict time: 21.423069s\n",
      "4. K = 1, m = manhattan, w = distance, Average accuracy: 0.829167 | Average fit time: 0.021219s | Average predict time: 20.260412s\n",
      "5. K = 1, m = chebyshev, w = uniform, Average accuracy: 0.646278 | Average fit time: 0.019217s | Average predict time: 17.206237s\n",
      "6. K = 1, m = chebyshev, w = distance, Average accuracy: 0.646278 | Average fit time: 0.020419s | Average predict time: 17.176409s\n",
      "7. K = 1, m = minkowski, w = uniform, Average accuracy: 0.799000 | Average fit time: 0.019818s | Average predict time: 86.559463s\n",
      "8. K = 1, m = minkowski, w = distance, Average accuracy: 0.799000 | Average fit time: 0.022221s | Average predict time: 89.880481s\n",
      "\n",
      "9. K = 2, m = euclidean, w = uniform, Average accuracy: 0.817000 | Average fit time: 0.019418s | Average predict time: 1.322802s\n",
      "10. K = 2, m = euclidean, w = distance, Average accuracy: 0.818611 | Average fit time: 0.020218s | Average predict time: 1.260145s\n",
      "11. K = 2, m = manhattan, w = uniform, Average accuracy: 0.824722 | Average fit time: 0.020418s | Average predict time: 21.572205s\n",
      "12. K = 2, m = manhattan, w = distance, Average accuracy: 0.829167 | Average fit time: 0.018216s | Average predict time: 20.710021s\n",
      "13. K = 2, m = chebyshev, w = uniform, Average accuracy: 0.633444 | Average fit time: 0.027425s | Average predict time: 17.374990s\n",
      "14. K = 2, m = chebyshev, w = distance, Average accuracy: 0.646500 | Average fit time: 0.019618s | Average predict time: 17.293316s\n",
      "15. K = 2, m = minkowski, w = uniform, Average accuracy: 0.799889 | Average fit time: 0.024623s | Average predict time: 85.387999s\n",
      "16. K = 2, m = minkowski, w = distance, Average accuracy: 0.799000 | Average fit time: 0.021419s | Average predict time: 87.217061s\n",
      "\n",
      "17. K = 3, m = euclidean, w = uniform, Average accuracy: 0.824222 | Average fit time: 0.024222s | Average predict time: 1.375450s\n",
      "18. K = 3, m = euclidean, w = distance, Average accuracy: 0.828000 | Average fit time: 0.019618s | Average predict time: 1.287170s\n",
      "19. K = 3, m = manhattan, w = uniform, Average accuracy: 0.836167 | Average fit time: 0.024823s | Average predict time: 21.170039s\n",
      "20. K = 3, m = manhattan, w = distance, Average accuracy: 0.838833 | Average fit time: 0.018617s | Average predict time: 21.196663s\n",
      "21. K = 3, m = chebyshev, w = uniform, Average accuracy: 0.642333 | Average fit time: 0.023221s | Average predict time: 17.487693s\n",
      "22. K = 3, m = chebyshev, w = distance, Average accuracy: 0.656667 | Average fit time: 0.019617s | Average predict time: 17.272096s\n",
      "23. K = 3, m = minkowski, w = uniform, Average accuracy: 0.805667 | Average fit time: 0.022620s | Average predict time: 86.176114s\n",
      "24. K = 3, m = minkowski, w = distance, Average accuracy: 0.808222 | Average fit time: 0.021620s | Average predict time: 86.356078s\n",
      "\n",
      "25. K = 4, m = euclidean, w = uniform, Average accuracy: 0.831889 | Average fit time: 0.024422s | Average predict time: 1.654704s\n",
      "26. K = 4, m = euclidean, w = distance, Average accuracy: 0.831333 | Average fit time: 0.018417s | Average predict time: 1.582238s\n",
      "27. K = 4, m = manhattan, w = uniform, Average accuracy: 0.838611 | Average fit time: 0.024222s | Average predict time: 21.237100s\n",
      "28. K = 4, m = manhattan, w = distance, Average accuracy: 0.840167 | Average fit time: 0.019818s | Average predict time: 21.130203s\n",
      "29. K = 4, m = chebyshev, w = uniform, Average accuracy: 0.652111 | Average fit time: 0.022821s | Average predict time: 17.515918s\n",
      "30. K = 4, m = chebyshev, w = distance, Average accuracy: 0.658944 | Average fit time: 0.019618s | Average predict time: 17.433643s\n",
      "31. K = 4, m = minkowski, w = uniform, Average accuracy: 0.815222 | Average fit time: 0.024623s | Average predict time: 86.145687s\n",
      "32. K = 4, m = minkowski, w = distance, Average accuracy: 0.813278 | Average fit time: 0.019418s | Average predict time: 86.368689s\n",
      "\n",
      "33. K = 5, m = euclidean, w = uniform, Average accuracy: 0.829000 | Average fit time: 0.022821s | Average predict time: 1.615868s\n",
      "34. K = 5, m = euclidean, w = distance, Average accuracy: 0.831000 | Average fit time: 0.019818s | Average predict time: 1.556615s\n",
      "35. K = 5, m = manhattan, w = uniform, Average accuracy: 0.835722 | Average fit time: 0.023021s | Average predict time: 21.320175s\n",
      "36. K = 5, m = manhattan, w = distance, Average accuracy: 0.839556 | Average fit time: 0.018417s | Average predict time: 21.259119s\n",
      "37. K = 5, m = chebyshev, w = uniform, Average accuracy: 0.651944 | Average fit time: 0.024622s | Average predict time: 17.556956s\n",
      "38. K = 5, m = chebyshev, w = distance, Average accuracy: 0.660222 | Average fit time: 0.019618s | Average predict time: 17.544744s\n",
      "39. K = 5, m = minkowski, w = uniform, Average accuracy: 0.809056 | Average fit time: 0.024422s | Average predict time: 86.380762s\n",
      "40. K = 5, m = minkowski, w = distance, Average accuracy: 0.812444 | Average fit time: 0.020218s | Average predict time: 86.853130s\n",
      "\n",
      "41. K = 6, m = euclidean, w = uniform, Average accuracy: 0.832611 | Average fit time: 0.019017s | Average predict time: 1.601455s\n",
      "42. K = 6, m = euclidean, w = distance, Average accuracy: 0.832778 | Average fit time: 0.020018s | Average predict time: 1.510773s\n",
      "43. K = 6, m = manhattan, w = uniform, Average accuracy: 0.837000 | Average fit time: 0.020219s | Average predict time: 20.991076s\n",
      "44. K = 6, m = manhattan, w = distance, Average accuracy: 0.839833 | Average fit time: 0.020018s | Average predict time: 21.097773s\n",
      "45. K = 6, m = chebyshev, w = uniform, Average accuracy: 0.653500 | Average fit time: 0.019818s | Average predict time: 17.163198s\n",
      "46. K = 6, m = chebyshev, w = distance, Average accuracy: 0.663778 | Average fit time: 0.019418s | Average predict time: 17.133370s\n",
      "47. K = 6, m = minkowski, w = uniform, Average accuracy: 0.815778 | Average fit time: 0.019618s | Average predict time: 85.549145s\n",
      "48. K = 6, m = minkowski, w = distance, Average accuracy: 0.815333 | Average fit time: 0.019818s | Average predict time: 84.820283s\n",
      "\n",
      "49. K = 7, m = euclidean, w = uniform, Average accuracy: 0.825667 | Average fit time: 0.019618s | Average predict time: 1.559418s\n",
      "50. K = 7, m = euclidean, w = distance, Average accuracy: 0.828778 | Average fit time: 0.019017s | Average predict time: 1.495960s\n",
      "51. K = 7, m = manhattan, w = uniform, Average accuracy: 0.836500 | Average fit time: 0.019017s | Average predict time: 20.865763s\n",
      "52. K = 7, m = manhattan, w = distance, Average accuracy: 0.838944 | Average fit time: 0.019217s | Average predict time: 20.649766s\n",
      "53. K = 7, m = chebyshev, w = uniform, Average accuracy: 0.651722 | Average fit time: 0.019418s | Average predict time: 16.532024s\n",
      "54. K = 7, m = chebyshev, w = distance, Average accuracy: 0.660444 | Average fit time: 0.019818s | Average predict time: 16.503998s\n",
      "55. K = 7, m = minkowski, w = uniform, Average accuracy: 0.809833 | Average fit time: 0.019818s | Average predict time: 85.490292s\n",
      "56. K = 7, m = minkowski, w = distance, Average accuracy: 0.812278 | Average fit time: 0.020618s | Average predict time: 87.007470s\n",
      "\n",
      "57. K = 8, m = euclidean, w = uniform, Average accuracy: 0.828667 | Average fit time: 0.019418s | Average predict time: 1.609062s\n",
      "58. K = 8, m = euclidean, w = distance, Average accuracy: 0.829111 | Average fit time: 0.020619s | Average predict time: 1.543002s\n",
      "59. K = 8, m = manhattan, w = uniform, Average accuracy: 0.837333 | Average fit time: 0.018417s | Average predict time: 20.753060s\n",
      "60. K = 8, m = manhattan, w = distance, Average accuracy: 0.839056 | Average fit time: 0.019818s | Average predict time: 20.756463s\n",
      "61. K = 8, m = chebyshev, w = uniform, Average accuracy: 0.653278 | Average fit time: 0.018217s | Average predict time: 16.512406s\n",
      "62. K = 8, m = chebyshev, w = distance, Average accuracy: 0.660722 | Average fit time: 0.019418s | Average predict time: 16.502397s\n",
      "63. K = 8, m = minkowski, w = uniform, Average accuracy: 0.813000 | Average fit time: 0.019618s | Average predict time: 85.592184s\n",
      "64. K = 8, m = minkowski, w = distance, Average accuracy: 0.813333 | Average fit time: 0.019418s | Average predict time: 87.277316s\n",
      "\n",
      "65. K = 9, m = euclidean, w = uniform, Average accuracy: 0.825444 | Average fit time: 0.019818s | Average predict time: 1.585241s\n",
      "66. K = 9, m = euclidean, w = distance, Average accuracy: 0.828278 | Average fit time: 0.019618s | Average predict time: 1.517579s\n",
      "67. K = 9, m = manhattan, w = uniform, Average accuracy: 0.833278 | Average fit time: 0.019217s | Average predict time: 21.352605s\n",
      "68. K = 9, m = manhattan, w = distance, Average accuracy: 0.836389 | Average fit time: 0.018817s | Average predict time: 21.216882s\n",
      "69. K = 9, m = chebyshev, w = uniform, Average accuracy: 0.650611 | Average fit time: 0.020418s | Average predict time: 17.346965s\n",
      "70. K = 9, m = chebyshev, w = distance, Average accuracy: 0.659333 | Average fit time: 0.019618s | Average predict time: 16.973025s\n",
      "71. K = 9, m = minkowski, w = uniform, Average accuracy: 0.808944 | Average fit time: 0.020218s | Average predict time: 85.955515s\n",
      "72. K = 9, m = minkowski, w = distance, Average accuracy: 0.810389 | Average fit time: 0.019018s | Average predict time: 84.707980s\n",
      "\n",
      "73. K = 10, m = euclidean, w = uniform, Average accuracy: 0.827278 | Average fit time: 0.019418s | Average predict time: 1.568225s\n",
      "74. K = 10, m = euclidean, w = distance, Average accuracy: 0.828833 | Average fit time: 0.019818s | Average predict time: 1.484549s\n",
      "75. K = 10, m = manhattan, w = uniform, Average accuracy: 0.834278 | Average fit time: 0.020218s | Average predict time: 20.541668s\n",
      "76. K = 10, m = manhattan, w = distance, Average accuracy: 0.836111 | Average fit time: 0.019618s | Average predict time: 20.564689s\n",
      "77. K = 10, m = chebyshev, w = uniform, Average accuracy: 0.649222 | Average fit time: 0.018417s | Average predict time: 16.354263s\n",
      "78. K = 10, m = chebyshev, w = distance, Average accuracy: 0.657556 | Average fit time: 0.018016s | Average predict time: 16.460159s\n",
      "79. K = 10, m = minkowski, w = uniform, Average accuracy: 0.809722 | Average fit time: 0.019618s | Average predict time: 86.227161s\n",
      "80. K = 10, m = minkowski, w = distance, Average accuracy: 0.810944 | Average fit time: 0.020218s | Average predict time: 84.927780s\n",
      "\n",
      "-------------------\n",
      "Best accuracy is in iteration number: 28  | for k = 4 , m = manhattan , w = distance\n"
     ]
    }
   ],
   "source": [
    "kf = StratifiedKFold(n_splits = 5, shuffle = True, random_state = 42)\n",
    "acc = []\n",
    "i, p_val, best_acc, best_k = 0, 0, 0, 0\n",
    "best_m, best_w = '', ''\n",
    "\n",
    "for k in range(1,11):\n",
    "    for m in ['euclidean','manhattan','chebyshev','minkowski']:   \n",
    "        for w in ['uniform','distance']:\n",
    "\n",
    "            acc_tmp, time_fit_tmp, time_pred_tmp = [], [], []\n",
    "            \n",
    "            p_val = 3 if m == 'minkowski' else 2\n",
    "\n",
    "            indexes = kf.split(X_train_30, y_train_30)\n",
    "            \n",
    "            for train_index, test_index in indexes:\n",
    "\n",
    "                X_trainCV1 = X_train_30.iloc[train_index,:]\n",
    "                y_trainCV1 = y_train_30.iloc[train_index]\n",
    "                X_testCV1 = X_train_30.iloc[test_index,:]\n",
    "                y_testCV1 = y_train_30.iloc[test_index]\n",
    "        \n",
    "                knn1 = KNeighborsClassifier(n_neighbors = k, metric = m, p = p_val, weights = w, n_jobs = 20)\n",
    "                \n",
    "                knn_fit_with_time(knn1, X_trainCV1, y_trainCV1, time_fit_tmp)\n",
    "                y_pred1 = knn_predict_with_time(knn1, X_testCV1, time_pred_tmp)\n",
    "\n",
    "                c1 = confusion_matrix(y_testCV1, y_pred1)   \n",
    "                acc_tmp.append(np.trace(c1)/sum(sum(c1)))\n",
    "                                \n",
    "            print(f\"{i+1}. K = {k}, m = {m}, w = {w}, Average accuracy: {np.mean(acc_tmp):.6f} | Average fit time: {np.mean(time_fit_tmp):.6f}s | Average predict time: {np.mean(time_pred_tmp):.6f}s\")\n",
    "            acc.append(np.mean(acc_tmp))\n",
    "            i += 1\n",
    "            \n",
    "            if np.mean(acc_tmp) > best_acc:\n",
    "                best_acc = np.mean(acc_tmp)\n",
    "                best_k, best_m, best_w = k, m, w\n",
    "            \n",
    "    print('')\n",
    "      \n",
    "print('-------------------')\n",
    "print('Best accuracy is in iteration number:', np.argmax(acc) + 1, ' | for k =', best_k, ', m =', best_m, ', w =', best_w)"
   ]
  },
  {
   "cell_type": "markdown",
   "metadata": {},
   "source": [
    "#### Checking if different algorithms speed up the process"
   ]
  },
  {
   "cell_type": "code",
   "execution_count": 7,
   "metadata": {},
   "outputs": [
    {
     "name": "stdout",
     "output_type": "stream",
     "text": [
      "a = ball_tree, Average accuracy: 0.840167 | Average fit time: 1.098598s | Average predict time: 8.016491s\n",
      "a = kd_tree, Average accuracy: 0.840167 | Average fit time: 2.094103s | Average predict time: 8.988890s\n",
      "\n",
      "-------------------\n",
      "Best accuracy is for a = ball_tree\n"
     ]
    }
   ],
   "source": [
    "kf = StratifiedKFold(n_splits = 5, shuffle = True, random_state = 42)\n",
    "\n",
    "best_time_fit = 99999\n",
    "best_a = ''\n",
    "\n",
    "for a in ['ball_tree', 'kd_tree']:\n",
    "    \n",
    "    acc_tmp, time_fit_tmp, time_pred_tmp = [], [], []\n",
    "\n",
    "    indexes = kf.split(X_train_30, y_train_30)\n",
    "\n",
    "    for train_index, test_index in indexes:\n",
    "\n",
    "        X_trainCV1 = X_train_30.iloc[train_index,:]\n",
    "        y_trainCV1 = y_train_30.iloc[train_index]\n",
    "        X_testCV1 = X_train_30.iloc[test_index,:]\n",
    "        y_testCV1 = y_train_30.iloc[test_index]\n",
    "\n",
    "        knn1 = KNeighborsClassifier(n_neighbors = best_k, algorithm = a, metric = best_m, weights = best_w, n_jobs = 20)\n",
    "\n",
    "        knn_fit_with_time(knn1, X_trainCV1, y_trainCV1, time_fit_tmp)\n",
    "        y_pred1 = knn_predict_with_time(knn1, X_testCV1, time_pred_tmp)\n",
    "\n",
    "        c1 = confusion_matrix(y_testCV1, y_pred1)\n",
    "        acc_tmp.append(np.trace(c1)/sum(sum(c1)))\n",
    "\n",
    "    print(f\"a = {a}, Average accuracy: {np.mean(acc_tmp):.6f} | Average fit time: {np.mean(time_fit_tmp):.6f}s | Average predict time: {np.mean(time_pred_tmp):.6f}s\")\n",
    "\n",
    "    if np.mean(time_fit_tmp) < best_time_fit:\n",
    "        best_time_fit = np.mean(time_fit_tmp)\n",
    "        best_a = a\n",
    "\n",
    "print('')    \n",
    "print('-------------------')\n",
    "print('Best accuracy is for a =', best_a)"
   ]
  },
  {
   "cell_type": "markdown",
   "metadata": {},
   "source": [
    "#### Training on 30% training samples, test on test dataset"
   ]
  },
  {
   "cell_type": "code",
   "execution_count": 8,
   "metadata": {},
   "outputs": [
    {
     "name": "stdout",
     "output_type": "stream",
     "text": [
      "Accuracy: 0.847500 | Average fit time: 1.509372s | Average predict time: 27.881866s\n",
      "-------------------\n",
      "KNN parameters: a = ball_tree, k = 4, m = manhattan, w = distance\n"
     ]
    }
   ],
   "source": [
    "knn1 = KNeighborsClassifier(n_neighbors = best_k, algorithm = best_a, metric = best_m, weights = best_w, n_jobs = 20)\n",
    "\n",
    "start1 = time.time()\n",
    "knn1.fit(X_train_30, y_train_30)\n",
    "fit_time = time.time() - start1\n",
    "\n",
    "start2 = time.time()\n",
    "y_pred2 = knn1.predict(X_test_std)\n",
    "pred_time = time.time() - start2\n",
    "\n",
    "c2 = confusion_matrix(y_test, y_pred2, labels=[0,1,2,3,4,5,6,7,8,9])\n",
    "\n",
    "print(f\"Accuracy: {np.trace(c2)/sum(sum(c2)):.6f} | Average fit time: {fit_time:.6f}s | Average predict time: {pred_time:.6f}s\")\n",
    "print('-------------------')\n",
    "print('KNN parameters: a = ', best_a, ', k = ', best_k, ', m = ', best_m, ', w = ', best_w, sep='')"
   ]
  },
  {
   "cell_type": "markdown",
   "metadata": {},
   "source": [
    "."
   ]
  },
  {
   "cell_type": "markdown",
   "metadata": {},
   "source": [
    "## Trained on 100% samples of the original training dataset"
   ]
  },
  {
   "cell_type": "code",
   "execution_count": 9,
   "metadata": {},
   "outputs": [],
   "source": [
    "train_data = pd.read_csv(\"../datasets/fashion-mnist_train.csv\")\n",
    "X_train = train_data.iloc[:,1:]\n",
    "y_train = train_data.iloc[:,0]\n",
    "\n",
    "test_data = pd.read_csv(\"../datasets/fashion-mnist_test.csv\")\n",
    "X_test = test_data.iloc[:,1:]\n",
    "y_test = test_data.iloc[:,0]\n",
    "\n",
    "X_train_std = (X_train - X_train.mean()) / X_train.std()\n",
    "X_test_std = (X_test - X_test.mean()) / X_test.std()"
   ]
  },
  {
   "cell_type": "code",
   "execution_count": 10,
   "metadata": {},
   "outputs": [
    {
     "name": "stdout",
     "output_type": "stream",
     "text": [
      "        Accuracy: 0.864500 | Fit time: 4.581233s | Predict time: 105.538953s\n",
      "        Accuracy: 0.864333 | Fit time: 4.572157s | Predict time: 110.816752s\n",
      "        Accuracy: 0.865250 | Fit time: 4.571157s | Predict time: 102.495431s\n",
      "        Accuracy: 0.866333 | Fit time: 5.544041s | Predict time: 109.344413s\n",
      "        Accuracy: 0.863000 | Fit time: 4.595178s | Predict time: 109.261338s\n",
      "\n",
      "-------------------\n",
      "Average accuracy: 0.864683 | Average fit time: 4.772753s | Average predict time: 107.491377s\n"
     ]
    }
   ],
   "source": [
    "kf = StratifiedKFold(n_splits=5, shuffle=True, random_state=42)\n",
    "\n",
    "acc, acc_tmp, time_fit_tmp, time_pred_tmp = [], [], [], []\n",
    "     \n",
    "indexes = kf.split(X_train, y_train)\n",
    "\n",
    "for train_index, test_index in indexes:\n",
    "    \n",
    "    X_trainCV2 = X_train_std.iloc[train_index,:]\n",
    "    y_trainCV2 = y_train.iloc[train_index]\n",
    "    X_testCV2 = X_train_std.iloc[test_index,:]\n",
    "    y_testCV2 = y_train.iloc[test_index]\n",
    "\n",
    "    knn2 = KNeighborsClassifier(n_neighbors = best_k, algorithm = best_a, metric = best_m, weights = best_w, n_jobs = 20)\n",
    "    \n",
    "    knn_fit_with_time(knn2, X_trainCV2, y_trainCV2, time_fit_tmp)\n",
    "    y_pred3 = knn_predict_with_time(knn2, X_testCV2, time_pred_tmp)\n",
    "    \n",
    "    c3 = confusion_matrix(y_testCV2, y_pred3)\n",
    "    acc_tmp.append(np.trace(c3)/sum(sum(c3)))\n",
    "    \n",
    "    print(f\"        Accuracy: {np.trace(c3)/sum(sum(c3)):.6f} | Fit time: {time_fit_tmp[-1]:.6f}s | Predict time: {time_pred_tmp[-1]:.6f}s\")\n",
    "    \n",
    "print(\"\")    \n",
    "print('-------------------')\n",
    "print(f\"Average accuracy: {np.mean(acc_tmp):.6f} | Average fit time: {np.mean(time_fit_tmp):.6f}s | Average predict time: {np.mean(time_pred_tmp):.6f}s\")"
   ]
  },
  {
   "cell_type": "markdown",
   "metadata": {},
   "source": [
    "##### Training on 100% training samples, test on test dataset"
   ]
  },
  {
   "cell_type": "code",
   "execution_count": 11,
   "metadata": {},
   "outputs": [
    {
     "name": "stdout",
     "output_type": "stream",
     "text": [
      "Accuracy: 0.870600 | Average fit time: 5.784260s | Average predict time: 113.860519s\n",
      "-------------------\n",
      "KNN parameters: a = ball_tree, k = 4, m = manhattan, w = distance\n"
     ]
    }
   ],
   "source": [
    "knn2 =  KNeighborsClassifier(n_neighbors = best_k, algorithm = best_a, metric = best_m, weights = best_w, n_jobs = 20)\n",
    "\n",
    "start1 = time.time()\n",
    "knn2.fit(X_train_std, y_train)\n",
    "fit_time = time.time() - start1\n",
    "\n",
    "start2 = time.time()\n",
    "y_pred4 = knn2.predict(X_test_std)\n",
    "pred_time = time.time() - start2\n",
    "\n",
    "c4 = confusion_matrix(y_test, y_pred4, labels=[0,1,2,3,4,5,6,7,8,9])\n",
    "\n",
    "print(f\"Accuracy: {np.trace(c4)/sum(sum(c4)):.6f} | Average fit time: {fit_time:.6f}s | Average predict time: {pred_time:.6f}s\")\n",
    "print('-------------------')\n",
    "print('KNN parameters: a = ', best_a, ', k = ', best_k, ', m = ', best_m, ', w = ', best_w, sep='')"
   ]
  },
  {
   "cell_type": "markdown",
   "metadata": {},
   "source": [
    "."
   ]
  },
  {
   "cell_type": "markdown",
   "metadata": {},
   "source": [
    "## Trained on 100% samples with PCA reduction"
   ]
  },
  {
   "cell_type": "code",
   "execution_count": 12,
   "metadata": {},
   "outputs": [],
   "source": [
    "train_data = pd.read_csv(\"../datasets/fashion-mnist_train.csv\")\n",
    "X_train = train_data.iloc[:,1:]\n",
    "y_train = train_data.iloc[:,0]\n",
    "\n",
    "test_data = pd.read_csv(\"../datasets/fashion-mnist_test.csv\")\n",
    "X_test = test_data.iloc[:,1:]\n",
    "y_test = test_data.iloc[:,0]\n",
    "\n",
    "X_train_std = (X_train - X_train.mean()) / X_train.std()\n",
    "X_test_std = (X_test - X_test.mean()) / X_test.std()"
   ]
  },
  {
   "cell_type": "code",
   "execution_count": 13,
   "metadata": {
    "scrolled": false
   },
   "outputs": [
    {
     "name": "stdout",
     "output_type": "stream",
     "text": [
      "1. pca = 0.8, K = 1, m = euclidean, Average accuracy: 0.835733 | Average fit time: 0.006406s | Average predict time: 8.068737s\n",
      "2. pca = 0.85, K = 1, m = euclidean, Average accuracy: 0.844717 | Average fit time: 0.008408s | Average predict time: 8.169828s\n",
      "3. pca = 0.9, K = 1, m = euclidean, Average accuracy: 0.849500 | Average fit time: 0.012812s | Average predict time: 8.387025s\n",
      "4. pca = 0.95, K = 1, m = euclidean, Average accuracy: 0.851033 | Average fit time: 0.019418s | Average predict time: 9.101206s\n",
      "\n",
      "5. pca = 0.8, K = 1, m = manhattan, Average accuracy: 0.840983 | Average fit time: 0.007007s | Average predict time: 6.723313s\n",
      "6. pca = 0.85, K = 1, m = manhattan, Average accuracy: 0.848367 | Average fit time: 0.007808s | Average predict time: 7.551867s\n",
      "7. pca = 0.9, K = 1, m = manhattan, Average accuracy: 0.854983 | Average fit time: 0.012012s | Average predict time: 11.938054s\n",
      "8. pca = 0.95, K = 1, m = manhattan, Average accuracy: 0.854433 | Average fit time: 0.018617s | Average predict time: 42.962260s\n",
      "\n",
      "9. pca = 0.8, K = 1, m = chebyshev, Average accuracy: 0.816167 | Average fit time: 0.007207s | Average predict time: 6.562767s\n",
      "10. pca = 0.85, K = 1, m = chebyshev, Average accuracy: 0.821117 | Average fit time: 0.007808s | Average predict time: 7.232977s\n",
      "11. pca = 0.9, K = 1, m = chebyshev, Average accuracy: 0.821333 | Average fit time: 0.012012s | Average predict time: 10.907518s\n",
      "12. pca = 0.95, K = 1, m = chebyshev, Average accuracy: 0.821967 | Average fit time: 0.019618s | Average predict time: 43.294163s\n",
      "\n",
      "13. pca = 0.8, K = 2, m = euclidean, Average accuracy: 0.835733 | Average fit time: 0.006806s | Average predict time: 8.219073s\n",
      "14. pca = 0.85, K = 2, m = euclidean, Average accuracy: 0.844717 | Average fit time: 0.008207s | Average predict time: 8.300948s\n",
      "15. pca = 0.9, K = 2, m = euclidean, Average accuracy: 0.849500 | Average fit time: 0.013412s | Average predict time: 8.561785s\n",
      "16. pca = 0.95, K = 2, m = euclidean, Average accuracy: 0.851033 | Average fit time: 0.018017s | Average predict time: 9.208372s\n",
      "\n",
      "17. pca = 0.8, K = 2, m = manhattan, Average accuracy: 0.840983 | Average fit time: 0.007207s | Average predict time: 6.922094s\n",
      "18. pca = 0.85, K = 2, m = manhattan, Average accuracy: 0.848367 | Average fit time: 0.008608s | Average predict time: 7.722823s\n",
      "19. pca = 0.9, K = 2, m = manhattan, Average accuracy: 0.854983 | Average fit time: 0.012011s | Average predict time: 11.917035s\n",
      "20. pca = 0.95, K = 2, m = manhattan, Average accuracy: 0.854433 | Average fit time: 0.018617s | Average predict time: 41.763571s\n",
      "\n",
      "21. pca = 0.8, K = 2, m = chebyshev, Average accuracy: 0.816167 | Average fit time: 0.006806s | Average predict time: 6.724114s\n",
      "22. pca = 0.85, K = 2, m = chebyshev, Average accuracy: 0.821117 | Average fit time: 0.008809s | Average predict time: 7.586498s\n",
      "23. pca = 0.9, K = 2, m = chebyshev, Average accuracy: 0.821333 | Average fit time: 0.012011s | Average predict time: 11.243222s\n",
      "24. pca = 0.95, K = 2, m = chebyshev, Average accuracy: 0.821967 | Average fit time: 0.019618s | Average predict time: 42.476619s\n",
      "\n",
      "25. pca = 0.8, K = 3, m = euclidean, Average accuracy: 0.849867 | Average fit time: 0.006807s | Average predict time: 8.625042s\n",
      "26. pca = 0.85, K = 3, m = euclidean, Average accuracy: 0.857567 | Average fit time: 0.009008s | Average predict time: 8.724933s\n",
      "27. pca = 0.9, K = 3, m = euclidean, Average accuracy: 0.860133 | Average fit time: 0.012211s | Average predict time: 8.971157s\n",
      "28. pca = 0.95, K = 3, m = euclidean, Average accuracy: 0.861250 | Average fit time: 0.018818s | Average predict time: 9.600529s\n",
      "\n",
      "29. pca = 0.8, K = 3, m = manhattan, Average accuracy: 0.855267 | Average fit time: 0.007607s | Average predict time: 7.237781s\n",
      "30. pca = 0.85, K = 3, m = manhattan, Average accuracy: 0.862250 | Average fit time: 0.008809s | Average predict time: 8.212267s\n",
      "31. pca = 0.9, K = 3, m = manhattan, Average accuracy: 0.865100 | Average fit time: 0.012612s | Average predict time: 12.592450s\n",
      "32. pca = 0.95, K = 3, m = manhattan, Average accuracy: 0.861867 | Average fit time: 0.018818s | Average predict time: 42.935236s\n",
      "\n",
      "33. pca = 0.8, K = 3, m = chebyshev, Average accuracy: 0.833250 | Average fit time: 0.006607s | Average predict time: 7.223167s\n",
      "34. pca = 0.85, K = 3, m = chebyshev, Average accuracy: 0.835200 | Average fit time: 0.008408s | Average predict time: 8.100165s\n",
      "35. pca = 0.9, K = 3, m = chebyshev, Average accuracy: 0.835033 | Average fit time: 0.012011s | Average predict time: 11.782914s\n",
      "36. pca = 0.95, K = 3, m = chebyshev, Average accuracy: 0.834883 | Average fit time: 0.020019s | Average predict time: 42.628557s\n",
      "\n",
      "37. pca = 0.8, K = 4, m = euclidean, Average accuracy: 0.853367 | Average fit time: 0.006606s | Average predict time: 11.692831s\n",
      "38. pca = 0.85, K = 4, m = euclidean, Average accuracy: 0.859600 | Average fit time: 0.008608s | Average predict time: 11.766099s\n",
      "39. pca = 0.9, K = 4, m = euclidean, Average accuracy: 0.863667 | Average fit time: 0.011411s | Average predict time: 12.066972s\n",
      "40. pca = 0.95, K = 4, m = euclidean, Average accuracy: 0.863167 | Average fit time: 0.019617s | Average predict time: 12.664515s\n",
      "\n",
      "41. pca = 0.8, K = 4, m = manhattan, Average accuracy: 0.857900 | Average fit time: 0.007207s | Average predict time: 10.580420s\n",
      "42. pca = 0.85, K = 4, m = manhattan, Average accuracy: 0.864350 | Average fit time: 0.008208s | Average predict time: 11.565315s\n",
      "43. pca = 0.9, K = 4, m = manhattan, Average accuracy: 0.868650 | Average fit time: 0.012212s | Average predict time: 15.963714s\n",
      "44. pca = 0.95, K = 4, m = manhattan, Average accuracy: 0.866233 | Average fit time: 0.019218s | Average predict time: 46.493471s\n",
      "\n",
      "45. pca = 0.8, K = 4, m = chebyshev, Average accuracy: 0.834700 | Average fit time: 0.006006s | Average predict time: 10.363823s\n",
      "46. pca = 0.85, K = 4, m = chebyshev, Average accuracy: 0.837817 | Average fit time: 0.008408s | Average predict time: 11.233614s\n",
      "47. pca = 0.9, K = 4, m = chebyshev, Average accuracy: 0.838233 | Average fit time: 0.011811s | Average predict time: 14.911958s\n",
      "48. pca = 0.95, K = 4, m = chebyshev, Average accuracy: 0.838183 | Average fit time: 0.018617s | Average predict time: 47.090414s\n",
      "\n",
      "49. pca = 0.8, K = 5, m = euclidean, Average accuracy: 0.856383 | Average fit time: 0.006807s | Average predict time: 11.801931s\n",
      "50. pca = 0.85, K = 5, m = euclidean, Average accuracy: 0.860967 | Average fit time: 0.008407s | Average predict time: 11.801931s\n",
      "51. pca = 0.9, K = 5, m = euclidean, Average accuracy: 0.863617 | Average fit time: 0.011811s | Average predict time: 12.079983s\n",
      "52. pca = 0.95, K = 5, m = euclidean, Average accuracy: 0.863250 | Average fit time: 0.019217s | Average predict time: 12.712960s\n",
      "\n",
      "53. pca = 0.8, K = 5, m = manhattan, Average accuracy: 0.859467 | Average fit time: 0.006606s | Average predict time: 10.527171s\n",
      "54. pca = 0.85, K = 5, m = manhattan, Average accuracy: 0.865150 | Average fit time: 0.008608s | Average predict time: 11.508465s\n",
      "55. pca = 0.9, K = 5, m = manhattan, Average accuracy: 0.867900 | Average fit time: 0.012212s | Average predict time: 15.744715s\n",
      "56. pca = 0.95, K = 5, m = manhattan, Average accuracy: 0.864833 | Average fit time: 0.020019s | Average predict time: 45.225518s\n",
      "\n",
      "57. pca = 0.8, K = 5, m = chebyshev, Average accuracy: 0.837767 | Average fit time: 0.006406s | Average predict time: 10.377855s\n",
      "58. pca = 0.85, K = 5, m = chebyshev, Average accuracy: 0.839783 | Average fit time: 0.008608s | Average predict time: 11.211194s\n",
      "59. pca = 0.9, K = 5, m = chebyshev, Average accuracy: 0.839750 | Average fit time: 0.010810s | Average predict time: 14.894142s\n",
      "60. pca = 0.95, K = 5, m = chebyshev, Average accuracy: 0.839467 | Average fit time: 0.018818s | Average predict time: 46.564937s\n",
      "\n",
      "61. pca = 0.8, K = 6, m = euclidean, Average accuracy: 0.856600 | Average fit time: 0.006406s | Average predict time: 11.760894s\n",
      "62. pca = 0.85, K = 6, m = euclidean, Average accuracy: 0.862833 | Average fit time: 0.009209s | Average predict time: 11.852176s\n",
      "63. pca = 0.9, K = 6, m = euclidean, Average accuracy: 0.865133 | Average fit time: 0.011011s | Average predict time: 12.105406s\n",
      "64. pca = 0.95, K = 6, m = euclidean, Average accuracy: 0.864483 | Average fit time: 0.020019s | Average predict time: 12.767409s\n",
      "\n",
      "65. pca = 0.8, K = 6, m = manhattan, Average accuracy: 0.860950 | Average fit time: 0.006806s | Average predict time: 10.545389s\n",
      "66. pca = 0.85, K = 6, m = manhattan, Average accuracy: 0.867417 | Average fit time: 0.008207s | Average predict time: 11.545097s\n",
      "67. pca = 0.9, K = 6, m = manhattan, Average accuracy: 0.869100 | Average fit time: 0.011811s | Average predict time: 15.820985s\n",
      "68. pca = 0.95, K = 6, m = manhattan, Average accuracy: 0.866533 | Average fit time: 0.019417s | Average predict time: 44.776310s\n",
      "\n",
      "69. pca = 0.8, K = 6, m = chebyshev, Average accuracy: 0.839867 | Average fit time: 0.007207s | Average predict time: 10.306572s\n",
      "70. pca = 0.85, K = 6, m = chebyshev, Average accuracy: 0.842350 | Average fit time: 0.008408s | Average predict time: 11.118910s\n",
      "71. pca = 0.9, K = 6, m = chebyshev, Average accuracy: 0.842483 | Average fit time: 0.012011s | Average predict time: 14.668537s\n",
      "72. pca = 0.95, K = 6, m = chebyshev, Average accuracy: 0.842350 | Average fit time: 0.019218s | Average predict time: 44.874800s\n",
      "\n",
      "73. pca = 0.8, K = 7, m = euclidean, Average accuracy: 0.856200 | Average fit time: 0.007007s | Average predict time: 11.616763s\n",
      "74. pca = 0.85, K = 7, m = euclidean, Average accuracy: 0.862050 | Average fit time: 0.008007s | Average predict time: 11.748683s\n",
      "75. pca = 0.9, K = 7, m = euclidean, Average accuracy: 0.863567 | Average fit time: 0.012011s | Average predict time: 11.998910s\n",
      "76. pca = 0.95, K = 7, m = euclidean, Average accuracy: 0.862567 | Average fit time: 0.019418s | Average predict time: 12.855689s\n",
      "\n",
      "77. pca = 0.8, K = 7, m = manhattan, Average accuracy: 0.860850 | Average fit time: 0.006806s | Average predict time: 10.584624s\n",
      "78. pca = 0.85, K = 7, m = manhattan, Average accuracy: 0.866133 | Average fit time: 0.008608s | Average predict time: 11.582131s\n",
      "79. pca = 0.9, K = 7, m = manhattan, Average accuracy: 0.867800 | Average fit time: 0.011811s | Average predict time: 15.977727s\n",
      "80. pca = 0.95, K = 7, m = manhattan, Average accuracy: 0.863683 | Average fit time: 0.018817s | Average predict time: 46.729286s\n",
      "\n",
      "81. pca = 0.8, K = 7, m = chebyshev, Average accuracy: 0.839000 | Average fit time: 0.007607s | Average predict time: 10.435489s\n",
      "82. pca = 0.85, K = 7, m = chebyshev, Average accuracy: 0.841250 | Average fit time: 0.008408s | Average predict time: 11.322095s\n",
      "83. pca = 0.9, K = 7, m = chebyshev, Average accuracy: 0.841117 | Average fit time: 0.012412s | Average predict time: 14.937181s\n",
      "84. pca = 0.95, K = 7, m = chebyshev, Average accuracy: 0.840717 | Average fit time: 0.019418s | Average predict time: 47.396091s\n",
      "\n",
      "85. pca = 0.8, K = 8, m = euclidean, Average accuracy: 0.857633 | Average fit time: 0.006606s | Average predict time: 11.863587s\n",
      "86. pca = 0.85, K = 8, m = euclidean, Average accuracy: 0.862333 | Average fit time: 0.008408s | Average predict time: 11.951267s\n",
      "87. pca = 0.9, K = 8, m = euclidean, Average accuracy: 0.864683 | Average fit time: 0.012011s | Average predict time: 12.237727s\n",
      "88. pca = 0.95, K = 8, m = euclidean, Average accuracy: 0.864000 | Average fit time: 0.019018s | Average predict time: 12.869102s\n",
      "\n",
      "89. pca = 0.8, K = 8, m = manhattan, Average accuracy: 0.862483 | Average fit time: 0.007407s | Average predict time: 10.620457s\n",
      "90. pca = 0.85, K = 8, m = manhattan, Average accuracy: 0.866750 | Average fit time: 0.008808s | Average predict time: 11.730466s\n",
      "91. pca = 0.9, K = 8, m = manhattan, Average accuracy: 0.869000 | Average fit time: 0.011611s | Average predict time: 16.112650s\n",
      "92. pca = 0.95, K = 8, m = manhattan, Average accuracy: 0.864917 | Average fit time: 0.019017s | Average predict time: 46.198403s\n",
      "\n",
      "93. pca = 0.8, K = 8, m = chebyshev, Average accuracy: 0.839483 | Average fit time: 0.006205s | Average predict time: 10.380239s\n",
      "94. pca = 0.85, K = 8, m = chebyshev, Average accuracy: 0.841733 | Average fit time: 0.008608s | Average predict time: 11.243423s\n",
      "95. pca = 0.9, K = 8, m = chebyshev, Average accuracy: 0.842033 | Average fit time: 0.011811s | Average predict time: 14.769629s\n",
      "96. pca = 0.95, K = 8, m = chebyshev, Average accuracy: 0.841933 | Average fit time: 0.018817s | Average predict time: 45.425500s\n",
      "\n",
      "97. pca = 0.8, K = 9, m = euclidean, Average accuracy: 0.857067 | Average fit time: 0.007007s | Average predict time: 11.805534s\n",
      "98. pca = 0.85, K = 9, m = euclidean, Average accuracy: 0.861300 | Average fit time: 0.009209s | Average predict time: 11.967281s\n",
      "99. pca = 0.9, K = 9, m = euclidean, Average accuracy: 0.863383 | Average fit time: 0.011411s | Average predict time: 12.257745s\n",
      "100. pca = 0.95, K = 9, m = euclidean, Average accuracy: 0.862450 | Average fit time: 0.018016s | Average predict time: 12.874907s\n",
      "\n",
      "101. pca = 0.8, K = 9, m = manhattan, Average accuracy: 0.860883 | Average fit time: 0.007407s | Average predict time: 10.625261s\n",
      "102. pca = 0.85, K = 9, m = manhattan, Average accuracy: 0.865483 | Average fit time: 0.008808s | Average predict time: 11.679419s\n",
      "103. pca = 0.9, K = 9, m = manhattan, Average accuracy: 0.867200 | Average fit time: 0.012812s | Average predict time: 16.018965s\n",
      "104. pca = 0.95, K = 9, m = manhattan, Average accuracy: 0.863300 | Average fit time: 0.019018s | Average predict time: 46.468448s\n",
      "\n",
      "105. pca = 0.8, K = 9, m = chebyshev, Average accuracy: 0.839183 | Average fit time: 0.006606s | Average predict time: 10.445298s\n",
      "106. pca = 0.85, K = 9, m = chebyshev, Average accuracy: 0.840967 | Average fit time: 0.008809s | Average predict time: 11.301476s\n",
      "107. pca = 0.9, K = 9, m = chebyshev, Average accuracy: 0.840650 | Average fit time: 0.011611s | Average predict time: 14.885134s\n",
      "108. pca = 0.95, K = 9, m = chebyshev, Average accuracy: 0.840017 | Average fit time: 0.018217s | Average predict time: 47.098222s\n",
      "\n",
      "109. pca = 0.8, K = 10, m = euclidean, Average accuracy: 0.857783 | Average fit time: 0.007007s | Average predict time: 11.870793s\n",
      "110. pca = 0.85, K = 10, m = euclidean, Average accuracy: 0.862467 | Average fit time: 0.008808s | Average predict time: 11.993105s\n",
      "111. pca = 0.9, K = 10, m = euclidean, Average accuracy: 0.863967 | Average fit time: 0.011811s | Average predict time: 12.229520s\n",
      "112. pca = 0.95, K = 10, m = euclidean, Average accuracy: 0.863133 | Average fit time: 0.019618s | Average predict time: 12.916744s\n",
      "\n",
      "113. pca = 0.8, K = 10, m = manhattan, Average accuracy: 0.861850 | Average fit time: 0.007007s | Average predict time: 10.630666s\n",
      "114. pca = 0.85, K = 10, m = manhattan, Average accuracy: 0.866433 | Average fit time: 0.008408s | Average predict time: 11.652194s\n",
      "115. pca = 0.9, K = 10, m = manhattan, Average accuracy: 0.868800 | Average fit time: 0.012411s | Average predict time: 16.013359s\n",
      "116. pca = 0.95, K = 10, m = manhattan, Average accuracy: 0.862833 | Average fit time: 0.018817s | Average predict time: 46.339331s\n",
      "\n",
      "117. pca = 0.8, K = 10, m = chebyshev, Average accuracy: 0.839000 | Average fit time: 0.007006s | Average predict time: 10.393650s\n",
      "118. pca = 0.85, K = 10, m = chebyshev, Average accuracy: 0.840833 | Average fit time: 0.009209s | Average predict time: 11.285661s\n",
      "119. pca = 0.9, K = 10, m = chebyshev, Average accuracy: 0.840850 | Average fit time: 0.012211s | Average predict time: 14.839092s\n",
      "120. pca = 0.95, K = 10, m = chebyshev, Average accuracy: 0.840467 | Average fit time: 0.020618s | Average predict time: 48.213462s\n",
      "\n",
      "-------------------\n",
      "Best accuracy is in iteration number: 67  | for k = 6 , m = manhattan , pca = 0.9 , w = distance\n"
     ]
    }
   ],
   "source": [
    "kf = StratifiedKFold(n_splits=5, shuffle=True, random_state=42)\n",
    "acc = []\n",
    "i, p_val, best_acc, best_k, best_pca = 0, 0, 0, 0, 0\n",
    "best_m = ''\n",
    "\n",
    "for k in range(1,11):\n",
    "    for m in ['euclidean','manhattan','chebyshev']:   \n",
    "        for pc in [0.8, 0.85, 0.9, 0.95]:\n",
    "\n",
    "            acc_tmp, time_fit_tmp, time_pred_tmp = [], [], []\n",
    "        \n",
    "            indexes = kf.split(X_train, y_train)\n",
    "\n",
    "            for train_index, test_index in indexes:\n",
    "\n",
    "                X_trainCV3 = X_train_std.iloc[train_index,:]\n",
    "                y_trainCV3 = y_train.iloc[train_index]\n",
    "                X_testCV3 = X_train_std.iloc[test_index,:]\n",
    "                y_testCV3 = y_train.iloc[test_index]\n",
    "\n",
    "                pca = PCA(n_components=pc)\n",
    "                pca.fit(X_trainCV3)\n",
    "                X_train_r = pca.transform(X_trainCV3)\n",
    "                X_test_r = pca.transform(X_testCV3)\n",
    "\n",
    "                knn3 = KNeighborsClassifier(n_neighbors = k, metric = m, weights = 'distance', n_jobs = 20)\n",
    "                         \n",
    "                knn_fit_with_time(knn3, X_train_r, y_trainCV3, time_fit_tmp)\n",
    "                y_pred5 = knn_predict_with_time(knn3, X_test_r, time_pred_tmp)\n",
    "                    \n",
    "                c5 = confusion_matrix(y_testCV3, y_pred5, labels=[0,1,2,3,4,5,6,7,8,9])\n",
    "                acc_tmp.append(np.trace(c5)/sum(sum(c5)))\n",
    "\n",
    "            print(f\"{i+1}. pca = {pc}, K = {k}, m = {m}, Average accuracy: {np.mean(acc_tmp):.6f} | Average fit time: {np.mean(time_fit_tmp):.6f}s | Average predict time: {np.mean(time_pred_tmp):.6f}s\")\n",
    "            acc.append(np.mean(acc_tmp))\n",
    "            i += 1\n",
    "\n",
    "            if np.mean(acc_tmp) > best_acc:\n",
    "                best_acc = np.mean(acc_tmp)\n",
    "                best_k, best_m, best_pca = k, m, pc\n",
    "            \n",
    "        print('')\n",
    "            \n",
    "print('-------------------')\n",
    "print('Best accuracy is in iteration number:', np.argmax(acc) + 1, ' | for k =', best_k, ', m =', best_m, ', pca =', best_pca, ', w = distance')"
   ]
  },
  {
   "cell_type": "markdown",
   "metadata": {},
   "source": [
    "#### Checking if different algorithms speed up the process"
   ]
  },
  {
   "cell_type": "code",
   "execution_count": 14,
   "metadata": {},
   "outputs": [
    {
     "name": "stdout",
     "output_type": "stream",
     "text": [
      "a = ball_tree, Average accuracy: 0.869100 | Average fit time: 0.821747s | Average predict time: 19.345773s\n",
      "a = kd_tree, Average accuracy: 0.869100 | Average fit time: 1.443111s | Average predict time: 23.922149s\n",
      "\n",
      "-------------------\n",
      "Best accuracy is for a = ball_tree\n"
     ]
    }
   ],
   "source": [
    "kf = StratifiedKFold(n_splits = 5, shuffle = True, random_state = 42)\n",
    "\n",
    "best_time_fit = 99999\n",
    "best_a = ''\n",
    "\n",
    "for a in ['ball_tree', 'kd_tree']:\n",
    "\n",
    "    acc_tmp, time_fit_tmp, time_pred_tmp = [], [], []\n",
    "\n",
    "    indexes = kf.split(X_train, y_train)\n",
    "\n",
    "    for train_index, test_index in indexes:\n",
    "\n",
    "        X_trainCV3 = X_train_std.iloc[train_index,:]\n",
    "        y_trainCV3 = y_train.iloc[train_index]\n",
    "        X_testCV3 = X_train_std.iloc[test_index,:]\n",
    "        y_testCV3 = y_train.iloc[test_index]\n",
    "\n",
    "        pca = PCA(n_components = best_pca)\n",
    "        pca.fit(X_trainCV3)\n",
    "        X_train_r = pca.transform(X_trainCV3)\n",
    "        X_test_r = pca.transform(X_testCV3)\n",
    "\n",
    "        knn3 = KNeighborsClassifier(n_neighbors = best_k, algorithm = a, metric = best_m, weights = 'distance', n_jobs = 20)\n",
    "        \n",
    "        knn_fit_with_time(knn3, X_train_r, y_trainCV3, time_fit_tmp)\n",
    "        y_pred5 = knn_predict_with_time(knn3, X_test_r, time_pred_tmp)\n",
    "        \n",
    "        c5 = confusion_matrix(y_testCV3, y_pred5, labels=[0,1,2,3,4,5,6,7,8,9])\n",
    "        acc_tmp.append(np.trace(c5)/sum(sum(c5)))\n",
    "\n",
    "    print(f\"a = {a}, Average accuracy: {np.mean(acc_tmp):.6f} | Average fit time: {np.mean(time_fit_tmp):.6f}s | Average predict time: {np.mean(time_pred_tmp):.6f}s\")\n",
    "\n",
    "    if np.mean(time_fit_tmp) < best_time_fit:\n",
    "        best_time_fit = np.mean(time_fit_tmp)\n",
    "        best_a = a\n",
    "\n",
    "print('')    \n",
    "print('-------------------')\n",
    "print('Best accuracy is for a =', best_a)"
   ]
  },
  {
   "cell_type": "markdown",
   "metadata": {},
   "source": [
    "##### Training on 100% training samples with PCA reduction, test on test dataset"
   ]
  },
  {
   "cell_type": "code",
   "execution_count": 15,
   "metadata": {},
   "outputs": [],
   "source": [
    "best_k, best_a, best_m = 6, \"ball_tree\", \"manhattan\"\n",
    "best_pca = 0.9"
   ]
  },
  {
   "cell_type": "code",
   "execution_count": 16,
   "metadata": {},
   "outputs": [
    {
     "name": "stdout",
     "output_type": "stream",
     "text": [
      "Accuracy: 0.873200 | Average fit time: 1.091992s | Average predict time: 22.269221s\n",
      "-------------------\n",
      "KNN parameters: a = ball_tree , k = 6 , m = manhattan , pca = 0.9 , w = distance\n"
     ]
    }
   ],
   "source": [
    "pca = PCA(n_components=best_pca)\n",
    "pca.fit(X_train_std)\n",
    "X_train_r = pca.transform(X_train_std)\n",
    "X_test_r = pca.transform(X_test_std)\n",
    "\n",
    "knn3 = KNeighborsClassifier(n_neighbors = best_k, algorithm = best_a, metric = best_m, weights = \"distance\", n_jobs = 20)\n",
    "\n",
    "start1 = time.time()\n",
    "knn3.fit(X_train_r, y_train)\n",
    "fit_time = time.time() - start1\n",
    "\n",
    "start2 = time.time()\n",
    "y_pred6 = knn3.predict(X_test_r)\n",
    "pred_time = time.time() - start2\n",
    "\n",
    "c6 = confusion_matrix(y_test, y_pred6, labels=[0,1,2,3,4,5,6,7,8,9])\n",
    "\n",
    "print(f\"Accuracy: {np.trace(c6)/sum(sum(c6)):.6f} | Average fit time: {fit_time:.6f}s | Average predict time: {pred_time:.6f}s\")\n",
    "print('-------------------')\n",
    "print('KNN parameters: a =', best_a, ', k =', best_k, ', m =', best_m, ', pca =', best_pca, ', w = distance')"
   ]
  },
  {
   "cell_type": "code",
   "execution_count": 17,
   "metadata": {},
   "outputs": [
    {
     "name": "stdout",
     "output_type": "stream",
     "text": [
      "[[852   1  13  16   5   0 107   1   4   1]\n",
      " [  4 974   0  15   2   0   5   0   0   0]\n",
      " [ 16   2 764  13 112   1  91   0   1   0]\n",
      " [ 28   5   7 901  35   0  24   0   0   0]\n",
      " [  1   0  57  20 834   0  87   0   1   0]\n",
      " [  1   0   0   0   0 892   4  61   3  39]\n",
      " [164   1  72  24  72   1 658   0   8   0]\n",
      " [  0   0   0   0   0  11   0 937   0  52]\n",
      " [  4   1   6   1   7   1  13   4 960   3]\n",
      " [  0   0   0   0   0   4   1  35   0 960]]\n"
     ]
    }
   ],
   "source": [
    "# confusion matrix\n",
    "print(c6)"
   ]
  },
  {
   "cell_type": "code",
   "execution_count": 18,
   "metadata": {},
   "outputs": [
    {
     "name": "stdout",
     "output_type": "stream",
     "text": [
      "For class 0 accuracy is: 0.9634\n",
      "For class 1 accuracy is: 0.9964\n",
      "For class 2 accuracy is: 0.9609\n",
      "For class 3 accuracy is: 0.9812\n",
      "For class 8 accuracy is: 0.9601\n",
      "For class 6 accuracy is: 0.9874\n",
      "For class 5 accuracy is: 0.9326\n",
      "For class 4 accuracy is: 0.9836\n",
      "For class 7 accuracy is: 0.9943\n",
      "For class 9 accuracy is: 0.9865\n",
      "-------------\n",
      "0.9746399999999997\n"
     ]
    }
   ],
   "source": [
    "print(accuracy_per_class(c6, y_test.unique()))"
   ]
  },
  {
   "cell_type": "code",
   "execution_count": 19,
   "metadata": {},
   "outputs": [
    {
     "name": "stdout",
     "output_type": "stream",
     "text": [
      "For class 0 sensitivity is: 0.852\n",
      "For class 1 sensitivity is: 0.974\n",
      "For class 2 sensitivity is: 0.764\n",
      "For class 3 sensitivity is: 0.901\n",
      "For class 8 sensitivity is: 0.834\n",
      "For class 6 sensitivity is: 0.892\n",
      "For class 5 sensitivity is: 0.658\n",
      "For class 4 sensitivity is: 0.937\n",
      "For class 7 sensitivity is: 0.96\n",
      "For class 9 sensitivity is: 0.96\n",
      "-------------\n",
      "0.8732\n"
     ]
    }
   ],
   "source": [
    "print(sensitivity_per_class(c6, y_test.unique()))"
   ]
  },
  {
   "cell_type": "markdown",
   "metadata": {},
   "source": [
    "## Examples of wrong classification"
   ]
  },
  {
   "cell_type": "code",
   "execution_count": 20,
   "metadata": {},
   "outputs": [
    {
     "name": "stdout",
     "output_type": "stream",
     "text": [
      "<class 'numpy.ndarray'>\n",
      "<class 'numpy.ndarray'>\n"
     ]
    }
   ],
   "source": [
    "y_pred_np = y_pred6\n",
    "print(type(y_pred6))\n",
    "\n",
    "y_test_np = y_test.to_numpy()\n",
    "print(type(y_test_np))"
   ]
  },
  {
   "cell_type": "code",
   "execution_count": 21,
   "metadata": {},
   "outputs": [],
   "source": [
    "def differences(a,b):\n",
    "    list = []\n",
    "    for j in range(len(a)):\n",
    "        if b[j] != a[j]:\n",
    "            list = list + [j]        \n",
    "    arrayIndexes = np.asarray(list)\n",
    "    return arrayIndexes"
   ]
  },
  {
   "cell_type": "code",
   "execution_count": 22,
   "metadata": {},
   "outputs": [
    {
     "name": "stdout",
     "output_type": "stream",
     "text": [
      "[ 5  7 19 38 40 41 51 59 73]\n"
     ]
    }
   ],
   "source": [
    "diff = differences(y_pred_np, y_test_np)\n",
    "print(diff[:9])"
   ]
  },
  {
   "cell_type": "code",
   "execution_count": 23,
   "metadata": {},
   "outputs": [
    {
     "data": {
      "image/png": "[encoded data removed]",
      "text/plain": [
       "<Figure size 576x576 with 9 Axes>"
      ]
     },
     "metadata": {
      "needs_background": "light"
     },
     "output_type": "display_data"
    }
   ],
   "source": [
    "plt.figure(figsize=(8,8))\n",
    "\n",
    "for j in range(0,9):  \n",
    "    plt.subplot(3,3,j+1)    \n",
    "    arr = X_test.iloc[diff[j],:].to_numpy()\n",
    "    \n",
    "    arr = arr.reshape(28,28)\n",
    "    arr = arr.astype(np.uint8)\n",
    "    img = Image.fromarray(arr, \"L\")\n",
    "    \n",
    "    plt.imshow(img, cmap = 'gray')\n",
    "    plt.title(f\"Predicted {y_pred_np[diff[j+100]]}, Real {y_test_np[diff[j+100]]}\")\n",
    "    plt.axis(\"off\")\n",
    "\n",
    "plt.show()"
   ]
  }
 ],
 "metadata": {
  "anaconda-cloud": {},
  "kernelspec": {
   "display_name": "base",
   "language": "python",
   "name": "python3"
  },
  "language_info": {
   "codemirror_mode": {
    "name": "ipython",
    "version": 3
   },
   "file_extension": ".py",
   "mimetype": "text/x-python",
   "name": "python",
   "nbconvert_exporter": "python",
   "pygments_lexer": "ipython3",
   "version": "3.9.12"
  },
  "vscode": {
   "interpreter": {
    "hash": "766a9d4e0fe97af3c745212a94c1e742b558cb97597ada925d7f9ef3d757d57c"
   }
  }
 },
 "nbformat": 4,
 "nbformat_minor": 1
}
