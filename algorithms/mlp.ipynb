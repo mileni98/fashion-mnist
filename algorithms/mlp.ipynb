{
 "cells": [
  {
   "cell_type": "markdown",
   "metadata": {},
   "source": [
    "# MLP - Multilayer Perceptron"
   ]
  },
  {
   "cell_type": "markdown",
   "metadata": {},
   "source": [
    "Importing libraries"
   ]
  },
  {
   "cell_type": "code",
   "execution_count": 1,
   "metadata": {},
   "outputs": [],
   "source": [
    "import time\n",
    "import numpy as np\n",
    "import pandas as pd\n",
    "import matplotlib.pyplot as plt\n",
    "\n",
    "from PIL import Image\n",
    "from sklearn.decomposition import PCA\n",
    "from sklearn.metrics import confusion_matrix\n",
    "from sklearn.model_selection import train_test_split, StratifiedKFold\n",
    "from sklearn.neural_network import MLPClassifier\n",
    "from ipynb.fs.defs.Additional_metrics import *"
   ]
  },
  {
   "attachments": {},
   "cell_type": "markdown",
   "metadata": {},
   "source": [
    "Defining functions that will perform .fit() and .predict() while calculating execution time "
   ]
  },
  {
   "cell_type": "code",
   "execution_count": 2,
   "metadata": {},
   "outputs": [],
   "source": [
    "def mlp_fit_with_time(mlp, X_trainCV, y_trainCV, time_fit_tmp):\n",
    "    start = time.time()     \n",
    "    mlp.fit(X_trainCV, y_trainCV)\n",
    "    time_fit_tmp.append(time.time()-start)"
   ]
  },
  {
   "cell_type": "code",
   "execution_count": 3,
   "metadata": {},
   "outputs": [],
   "source": [
    "def mlp_predict_with_time(mlp, X_testCV, time_pred_tmp):\n",
    "    start = time.time()\n",
    "    y_pred = mlp.predict(X_testCV)\n",
    "    time_pred_tmp.append(time.time()-start)\n",
    "    return y_pred"
   ]
  },
  {
   "attachments": {},
   "cell_type": "markdown",
   "metadata": {},
   "source": [
    "Getting touple values for number of neurons in layers, where every layer has same or same neurons than the previous layer"
   ]
  },
  {
   "cell_type": "code",
   "execution_count": 4,
   "metadata": {},
   "outputs": [
    {
     "name": "stdout",
     "output_type": "stream",
     "text": [
      "[(128, 96, 64), (128, 96, 32), (128, 64, 32), (96, 64, 32), (128, 96), (128, 64), (128, 32), (96, 64), (96, 32), (64, 32), (128, 128, 128), (96, 96, 96), (64, 64, 64), (32, 32, 32), (128, 128), (96, 96), (64, 64)]\n"
     ]
    }
   ],
   "source": [
    "import itertools \n",
    "\n",
    "x = [128, 96, 64, 32] \n",
    "hd_list = list(itertools.combinations(x,3)) + list(itertools.combinations(x,2)) + [(128,128,128), (96,96,96), (64,64,64), (32,32,32), (128,128), (96,96), (64,64)]\n",
    "print(hd_list)"
   ]
  },
  {
   "cell_type": "markdown",
   "metadata": {},
   "source": [
    "## Trained on 30% samples of the original training dataset"
   ]
  },
  {
   "cell_type": "code",
   "execution_count": 5,
   "metadata": {},
   "outputs": [],
   "source": [
    "train_data = pd.read_csv(\"../datasets/fashion-mnist_train.csv\")\n",
    "X_train = train_data.iloc[:,1:]\n",
    "y_train = train_data.iloc[:,0]\n",
    "\n",
    "test_data = pd.read_csv(\"../datasets/fashion-mnist_test.csv\")\n",
    "X_test = test_data.iloc[:,1:]\n",
    "y_test = test_data.iloc[:,0]\n",
    "\n",
    "X_train_std = (X_train - X_train.mean()) / X_train.std()\n",
    "X_test_std = (X_test - X_test.mean()) / X_test.std()"
   ]
  },
  {
   "cell_type": "code",
   "execution_count": 6,
   "metadata": {},
   "outputs": [],
   "source": [
    "X_train_30, X_test_30, y_train_30, y_test_30 = train_test_split(X_train_std, y_train, test_size=0.7, stratify=y_train, random_state=42)"
   ]
  },
  {
   "cell_type": "code",
   "execution_count": 7,
   "metadata": {
    "scrolled": true
   },
   "outputs": [
    {
     "name": "stdout",
     "output_type": "stream",
     "text": [
      "1. Hd = (128, 96, 64), bs = 50, s = sgd, a = logistic, Average accuracy: 0.746944 | Average fit time: 70.996191s | Average predict time: 0.023421s\n",
      "2. Hd = (128, 96, 64), bs = 50, s = adam, a = logistic, Average accuracy: 0.858167 | Average fit time: 11.383962s | Average predict time: 0.023622s\n",
      "3. Hd = (128, 96, 64), bs = 50, s = sgd, a = tanh, Average accuracy: 0.856556 | Average fit time: 16.879564s | Average predict time: 0.032229s\n",
      "4. Hd = (128, 96, 64), bs = 50, s = adam, a = tanh, Average accuracy: 0.859278 | Average fit time: 11.728075s | Average predict time: 0.034031s\n",
      "5. Hd = (128, 96, 64), bs = 50, s = sgd, a = relu, Average accuracy: 0.860278 | Average fit time: 14.283200s | Average predict time: 0.020419s\n",
      "6. Hd = (128, 96, 64), bs = 50, s = adam, a = relu, Average accuracy: 0.861778 | Average fit time: 10.979794s | Average predict time: 0.020419s\n",
      "\n",
      "7. Hd = (128, 96, 32), bs = 50, s = sgd, a = logistic, Average accuracy: 0.440944 | Average fit time: 18.443788s | Average predict time: 0.022821s\n",
      "8. Hd = (128, 96, 32), bs = 50, s = adam, a = logistic, Average accuracy: 0.856278 | Average fit time: 12.261560s | Average predict time: 0.022021s\n",
      "9. Hd = (128, 96, 32), bs = 50, s = sgd, a = tanh, Average accuracy: 0.856222 | Average fit time: 18.299657s | Average predict time: 0.031428s\n",
      "10. Hd = (128, 96, 32), bs = 50, s = adam, a = tanh, Average accuracy: 0.857389 | Average fit time: 15.245676s | Average predict time: 0.030828s\n",
      "11. Hd = (128, 96, 32), bs = 50, s = sgd, a = relu, Average accuracy: 0.859111 | Average fit time: 18.378128s | Average predict time: 0.019618s\n",
      "12. Hd = (128, 96, 32), bs = 50, s = adam, a = relu, Average accuracy: 0.861278 | Average fit time: 12.707768s | Average predict time: 0.020218s\n",
      "\n",
      "13. Hd = (128, 64, 32), bs = 50, s = sgd, a = logistic, Average accuracy: 0.606611 | Average fit time: 33.819783s | Average predict time: 0.020619s\n",
      "14. Hd = (128, 64, 32), bs = 50, s = adam, a = logistic, Average accuracy: 0.855222 | Average fit time: 11.795737s | Average predict time: 0.020618s\n",
      "15. Hd = (128, 64, 32), bs = 50, s = sgd, a = tanh, Average accuracy: 0.857444 | Average fit time: 17.049318s | Average predict time: 0.027025s\n",
      "16. Hd = (128, 64, 32), bs = 50, s = adam, a = tanh, Average accuracy: 0.857778 | Average fit time: 9.880394s | Average predict time: 0.031228s\n",
      "17. Hd = (128, 64, 32), bs = 50, s = sgd, a = relu, Average accuracy: 0.860000 | Average fit time: 12.418303s | Average predict time: 0.019017s\n",
      "18. Hd = (128, 64, 32), bs = 50, s = adam, a = relu, Average accuracy: 0.865167 | Average fit time: 12.765419s | Average predict time: 0.019418s\n",
      "\n",
      "19. Hd = (96, 64, 32), bs = 50, s = sgd, a = logistic, Average accuracy: 0.625611 | Average fit time: 35.354180s | Average predict time: 0.016815s\n",
      "20. Hd = (96, 64, 32), bs = 50, s = adam, a = logistic, Average accuracy: 0.856222 | Average fit time: 9.222995s | Average predict time: 0.017616s\n",
      "21. Hd = (96, 64, 32), bs = 50, s = sgd, a = tanh, Average accuracy: 0.856278 | Average fit time: 12.516593s | Average predict time: 0.024823s\n",
      "22. Hd = (96, 64, 32), bs = 50, s = adam, a = tanh, Average accuracy: 0.857000 | Average fit time: 10.625271s | Average predict time: 0.022821s\n",
      "23. Hd = (96, 64, 32), bs = 50, s = sgd, a = relu, Average accuracy: 0.858000 | Average fit time: 9.153331s | Average predict time: 0.015814s\n",
      "24. Hd = (96, 64, 32), bs = 50, s = adam, a = relu, Average accuracy: 0.862778 | Average fit time: 8.132002s | Average predict time: 0.015014s\n",
      "\n",
      "25. Hd = (128, 96), bs = 50, s = sgd, a = logistic, Average accuracy: 0.835167 | Average fit time: 40.224535s | Average predict time: 0.019818s\n",
      "26. Hd = (128, 96), bs = 50, s = adam, a = logistic, Average accuracy: 0.863833 | Average fit time: 12.199304s | Average predict time: 0.021019s\n",
      "27. Hd = (128, 96), bs = 50, s = sgd, a = tanh, Average accuracy: 0.859667 | Average fit time: 20.470833s | Average predict time: 0.027825s\n",
      "28. Hd = (128, 96), bs = 50, s = adam, a = tanh, Average accuracy: 0.859444 | Average fit time: 10.557610s | Average predict time: 0.029827s\n",
      "29. Hd = (128, 96), bs = 50, s = sgd, a = relu, Average accuracy: 0.862722 | Average fit time: 13.647822s | Average predict time: 0.018217s\n",
      "30. Hd = (128, 96), bs = 50, s = adam, a = relu, Average accuracy: 0.866833 | Average fit time: 11.994306s | Average predict time: 0.019618s\n",
      "\n",
      "31. Hd = (128, 64), bs = 50, s = sgd, a = logistic, Average accuracy: 0.838889 | Average fit time: 38.693819s | Average predict time: 0.020419s\n",
      "32. Hd = (128, 64), bs = 50, s = adam, a = logistic, Average accuracy: 0.861889 | Average fit time: 9.429783s | Average predict time: 0.019818s\n",
      "33. Hd = (128, 64), bs = 50, s = sgd, a = tanh, Average accuracy: 0.860000 | Average fit time: 14.900563s | Average predict time: 0.025423s\n",
      "34. Hd = (128, 64), bs = 50, s = adam, a = tanh, Average accuracy: 0.859056 | Average fit time: 9.140119s | Average predict time: 0.026424s\n",
      "35. Hd = (128, 64), bs = 50, s = sgd, a = relu, Average accuracy: 0.858722 | Average fit time: 14.015957s | Average predict time: 0.017416s\n",
      "36. Hd = (128, 64), bs = 50, s = adam, a = relu, Average accuracy: 0.861111 | Average fit time: 9.296261s | Average predict time: 0.018217s\n",
      "\n",
      "37. Hd = (128, 32), bs = 50, s = sgd, a = logistic, Average accuracy: 0.837611 | Average fit time: 35.023679s | Average predict time: 0.017616s\n",
      "38. Hd = (128, 32), bs = 50, s = adam, a = logistic, Average accuracy: 0.864389 | Average fit time: 10.067563s | Average predict time: 0.018417s\n",
      "39. Hd = (128, 32), bs = 50, s = sgd, a = tanh, Average accuracy: 0.859500 | Average fit time: 18.049029s | Average predict time: 0.024022s\n",
      "40. Hd = (128, 32), bs = 50, s = adam, a = tanh, Average accuracy: 0.859611 | Average fit time: 9.130310s | Average predict time: 0.022420s\n",
      "41. Hd = (128, 32), bs = 50, s = sgd, a = relu, Average accuracy: 0.861167 | Average fit time: 12.946584s | Average predict time: 0.017016s\n",
      "42. Hd = (128, 32), bs = 50, s = adam, a = relu, Average accuracy: 0.861778 | Average fit time: 10.263942s | Average predict time: 0.016615s\n",
      "\n",
      "43. Hd = (96, 64), bs = 50, s = sgd, a = logistic, Average accuracy: 0.847278 | Average fit time: 39.909249s | Average predict time: 0.015615s\n",
      "44. Hd = (96, 64), bs = 50, s = adam, a = logistic, Average accuracy: 0.860944 | Average fit time: 8.548981s | Average predict time: 0.015614s\n",
      "45. Hd = (96, 64), bs = 50, s = sgd, a = tanh, Average accuracy: 0.857056 | Average fit time: 13.219833s | Average predict time: 0.020619s\n",
      "46. Hd = (96, 64), bs = 50, s = adam, a = tanh, Average accuracy: 0.860889 | Average fit time: 7.877770s | Average predict time: 0.021620s\n",
      "47. Hd = (96, 64), bs = 50, s = sgd, a = relu, Average accuracy: 0.861500 | Average fit time: 12.925165s | Average predict time: 0.014413s\n",
      "48. Hd = (96, 64), bs = 50, s = adam, a = relu, Average accuracy: 0.860722 | Average fit time: 7.866760s | Average predict time: 0.014613s\n",
      "\n",
      "49. Hd = (96, 32), bs = 50, s = sgd, a = logistic, Average accuracy: 0.847889 | Average fit time: 37.834528s | Average predict time: 0.015815s\n",
      "50. Hd = (96, 32), bs = 50, s = adam, a = logistic, Average accuracy: 0.862278 | Average fit time: 8.101974s | Average predict time: 0.014413s\n",
      "51. Hd = (96, 32), bs = 50, s = sgd, a = tanh, Average accuracy: 0.858722 | Average fit time: 10.164651s | Average predict time: 0.018817s\n",
      "52. Hd = (96, 32), bs = 50, s = adam, a = tanh, Average accuracy: 0.862444 | Average fit time: 6.510726s | Average predict time: 0.020219s\n",
      "53. Hd = (96, 32), bs = 50, s = sgd, a = relu, Average accuracy: 0.860389 | Average fit time: 9.806326s | Average predict time: 0.013412s\n",
      "54. Hd = (96, 32), bs = 50, s = adam, a = relu, Average accuracy: 0.860167 | Average fit time: 7.358498s | Average predict time: 0.013613s\n",
      "\n",
      "55. Hd = (64, 32), bs = 50, s = sgd, a = logistic, Average accuracy: 0.842889 | Average fit time: 31.539308s | Average predict time: 0.013012s\n",
      "56. Hd = (64, 32), bs = 50, s = adam, a = logistic, Average accuracy: 0.861278 | Average fit time: 7.158916s | Average predict time: 0.014213s\n",
      "57. Hd = (64, 32), bs = 50, s = sgd, a = tanh, Average accuracy: 0.856444 | Average fit time: 9.640975s | Average predict time: 0.017016s\n",
      "58. Hd = (64, 32), bs = 50, s = adam, a = tanh, Average accuracy: 0.858667 | Average fit time: 5.383500s | Average predict time: 0.017816s\n",
      "59. Hd = (64, 32), bs = 50, s = sgd, a = relu, Average accuracy: 0.855444 | Average fit time: 7.488216s | Average predict time: 0.012412s\n",
      "60. Hd = (64, 32), bs = 50, s = adam, a = relu, Average accuracy: 0.858556 | Average fit time: 6.024483s | Average predict time: 0.013613s\n",
      "\n",
      "61. Hd = (128, 128, 128), bs = 50, s = sgd, a = logistic, Average accuracy: 0.817722 | Average fit time: 81.708171s | Average predict time: 0.027025s\n",
      "62. Hd = (128, 128, 128), bs = 50, s = adam, a = logistic, Average accuracy: 0.856056 | Average fit time: 14.329243s | Average predict time: 0.027025s\n",
      "63. Hd = (128, 128, 128), bs = 50, s = sgd, a = tanh, Average accuracy: 0.857889 | Average fit time: 21.739387s | Average predict time: 0.038836s\n",
      "64. Hd = (128, 128, 128), bs = 50, s = adam, a = tanh, Average accuracy: 0.860889 | Average fit time: 17.679892s | Average predict time: 0.040237s\n",
      "65. Hd = (128, 128, 128), bs = 50, s = sgd, a = relu, Average accuracy: 0.858722 | Average fit time: 17.104369s | Average predict time: 0.024222s\n",
      "66. Hd = (128, 128, 128), bs = 50, s = adam, a = relu, Average accuracy: 0.866722 | Average fit time: 18.501040s | Average predict time: 0.023221s\n",
      "\n",
      "67. Hd = (96, 96, 96), bs = 50, s = sgd, a = logistic, Average accuracy: 0.829500 | Average fit time: 69.123117s | Average predict time: 0.020819s\n",
      "68. Hd = (96, 96, 96), bs = 50, s = adam, a = logistic, Average accuracy: 0.852833 | Average fit time: 9.502449s | Average predict time: 0.019618s\n",
      "69. Hd = (96, 96, 96), bs = 50, s = sgd, a = tanh, Average accuracy: 0.859444 | Average fit time: 14.990244s | Average predict time: 0.028826s\n",
      "70. Hd = (96, 96, 96), bs = 50, s = adam, a = tanh, Average accuracy: 0.858944 | Average fit time: 11.943471s | Average predict time: 0.031028s\n",
      "71. Hd = (96, 96, 96), bs = 50, s = sgd, a = relu, Average accuracy: 0.859444 | Average fit time: 13.987131s | Average predict time: 0.017816s\n",
      "72. Hd = (96, 96, 96), bs = 50, s = adam, a = relu, Average accuracy: 0.861167 | Average fit time: 8.318371s | Average predict time: 0.017616s\n",
      "\n",
      "73. Hd = (64, 64, 64), bs = 50, s = sgd, a = logistic, Average accuracy: 0.704611 | Average fit time: 38.395948s | Average predict time: 0.017816s\n",
      "74. Hd = (64, 64, 64), bs = 50, s = adam, a = logistic, Average accuracy: 0.848556 | Average fit time: 8.360210s | Average predict time: 0.018617s\n",
      "75. Hd = (64, 64, 64), bs = 50, s = sgd, a = tanh, Average accuracy: 0.857889 | Average fit time: 11.939067s | Average predict time: 0.022621s\n",
      "76. Hd = (64, 64, 64), bs = 50, s = adam, a = tanh, Average accuracy: 0.855111 | Average fit time: 7.063830s | Average predict time: 0.022221s\n",
      "77. Hd = (64, 64, 64), bs = 50, s = sgd, a = relu, Average accuracy: 0.859944 | Average fit time: 10.986601s | Average predict time: 0.014813s\n",
      "78. Hd = (64, 64, 64), bs = 50, s = adam, a = relu, Average accuracy: 0.858500 | Average fit time: 7.929618s | Average predict time: 0.015014s\n",
      "\n",
      "79. Hd = (32, 32, 32), bs = 50, s = sgd, a = logistic, Average accuracy: 0.296722 | Average fit time: 6.415439s | Average predict time: 0.011610s\n",
      "80. Hd = (32, 32, 32), bs = 50, s = adam, a = logistic, Average accuracy: 0.837333 | Average fit time: 9.280847s | Average predict time: 0.012011s\n",
      "81. Hd = (32, 32, 32), bs = 50, s = sgd, a = tanh, Average accuracy: 0.848222 | Average fit time: 8.873076s | Average predict time: 0.015414s\n",
      "82. Hd = (32, 32, 32), bs = 50, s = adam, a = tanh, Average accuracy: 0.851167 | Average fit time: 5.060006s | Average predict time: 0.016215s\n",
      "83. Hd = (32, 32, 32), bs = 50, s = sgd, a = relu, Average accuracy: 0.851333 | Average fit time: 6.946122s | Average predict time: 0.010810s\n",
      "84. Hd = (32, 32, 32), bs = 50, s = adam, a = relu, Average accuracy: 0.854556 | Average fit time: 5.349069s | Average predict time: 0.011010s\n",
      "\n",
      "85. Hd = (128, 128), bs = 50, s = sgd, a = logistic, Average accuracy: 0.839944 | Average fit time: 42.890239s | Average predict time: 0.022220s\n",
      "86. Hd = (128, 128), bs = 50, s = adam, a = logistic, Average accuracy: 0.864333 | Average fit time: 10.740376s | Average predict time: 0.023422s\n",
      "87. Hd = (128, 128), bs = 50, s = sgd, a = tanh, Average accuracy: 0.858667 | Average fit time: 17.491121s | Average predict time: 0.029427s\n",
      "88. Hd = (128, 128), bs = 50, s = adam, a = tanh, Average accuracy: 0.861556 | Average fit time: 10.701140s | Average predict time: 0.032830s\n",
      "89. Hd = (128, 128), bs = 50, s = sgd, a = relu, Average accuracy: 0.860667 | Average fit time: 14.895558s | Average predict time: 0.020219s\n",
      "90. Hd = (128, 128), bs = 50, s = adam, a = relu, Average accuracy: 0.867778 | Average fit time: 12.278376s | Average predict time: 0.019418s\n",
      "\n",
      "91. Hd = (96, 96), bs = 50, s = sgd, a = logistic, Average accuracy: 0.839667 | Average fit time: 31.254047s | Average predict time: 0.017216s\n",
      "92. Hd = (96, 96), bs = 50, s = adam, a = logistic, Average accuracy: 0.861444 | Average fit time: 9.897208s | Average predict time: 0.017015s\n",
      "93. Hd = (96, 96), bs = 50, s = sgd, a = tanh, Average accuracy: 0.859056 | Average fit time: 11.156755s | Average predict time: 0.023622s\n",
      "94. Hd = (96, 96), bs = 50, s = adam, a = tanh, Average accuracy: 0.862611 | Average fit time: 7.199553s | Average predict time: 0.024222s\n",
      "95. Hd = (96, 96), bs = 50, s = sgd, a = relu, Average accuracy: 0.864611 | Average fit time: 10.568219s | Average predict time: 0.015614s\n",
      "96. Hd = (96, 96), bs = 50, s = adam, a = relu, Average accuracy: 0.862111 | Average fit time: 7.684594s | Average predict time: 0.015214s\n",
      "\n",
      "97. Hd = (64, 64), bs = 50, s = sgd, a = logistic, Average accuracy: 0.842333 | Average fit time: 30.145239s | Average predict time: 0.014613s\n",
      "98. Hd = (64, 64), bs = 50, s = adam, a = logistic, Average accuracy: 0.858889 | Average fit time: 8.349400s | Average predict time: 0.014213s\n",
      "99. Hd = (64, 64), bs = 50, s = sgd, a = tanh, Average accuracy: 0.857000 | Average fit time: 11.615172s | Average predict time: 0.019818s\n",
      "100. Hd = (64, 64), bs = 50, s = adam, a = tanh, Average accuracy: 0.857444 | Average fit time: 6.178424s | Average predict time: 0.019017s\n",
      "101. Hd = (64, 64), bs = 50, s = sgd, a = relu, Average accuracy: 0.859278 | Average fit time: 8.797408s | Average predict time: 0.013212s\n",
      "102. Hd = (64, 64), bs = 50, s = adam, a = relu, Average accuracy: 0.861889 | Average fit time: 5.851326s | Average predict time: 0.013613s\n",
      "\n",
      "-------------------\n",
      "Best accuracy is in iteration number:  89\n"
     ]
    }
   ],
   "source": [
    "kf = StratifiedKFold(n_splits = 5, shuffle = True, random_state = 42)\n",
    "acc = []\n",
    "i, best_acc, best_bs  = 0, 0, 0\n",
    "best_a, best_s = '', ''\n",
    "best_hd = ()\n",
    "\n",
    "for hd in hd_list:\n",
    "    for a in [\"logistic\", \"tanh\", \"relu\"]:\n",
    "        # \"lbfgs\" isn't good for big datasets\n",
    "        for s in [\"sgd\", \"adam\"]:\n",
    "            for bs in [50]:\n",
    "\n",
    "                acc_tmp, time_fit_tmp, time_pred_tmp = [], [], []\n",
    "                \n",
    "                indexes = kf.split(X_train_30, y_train_30)\n",
    "\n",
    "                for train_index, test_index in indexes:\n",
    "\n",
    "                    X_trainCV1 = X_train_30.iloc[train_index,:]\n",
    "                    y_trainCV1 = y_train_30.iloc[train_index]\n",
    "                    X_testCV1 = X_train_30.iloc[test_index,:]\n",
    "                    y_testCV1 = y_train_30.iloc[test_index]\n",
    "\n",
    "                    classifier1 = MLPClassifier(hidden_layer_sizes = hd, activation = a,\n",
    "                                        solver = s, batch_size = bs, learning_rate = \"constant\", \n",
    "                                        learning_rate_init = 0.001, max_iter = 500, shuffle = True,\n",
    "                                        random_state = 42, early_stopping = True, n_iter_no_change = 10,\n",
    "                                        validation_fraction = 0.1, verbose = False)\n",
    "                    \n",
    "                    mlp_fit_with_time(classifier1, X_trainCV1.values, y_trainCV1.values, time_fit_tmp)\n",
    "                    y_pred1 = mlp_predict_with_time(classifier1, X_testCV1.values, time_pred_tmp)\n",
    "\n",
    "                    c1 = confusion_matrix(y_testCV1, y_pred1)\n",
    "                    acc_tmp.append(np.trace(c1)/sum(sum(c1)))\n",
    "\n",
    "                print(f\"{i+1}. Hd = {hd}, bs = {bs}, s = {s}, a = {a}, Average accuracy: {np.mean(acc_tmp):.6f} | Average fit time: {np.mean(time_fit_tmp):.6f}s | Average predict time: {np.mean(time_pred_tmp):.6f}s\")\n",
    "                acc.append(np.mean(acc_tmp))\n",
    "                i += 1\n",
    "\n",
    "                if np.mean(acc_tmp) > best_acc:\n",
    "                    best_acc = np.mean(acc_tmp)\n",
    "                    best_hd, best_a, best_s, best_bs = hd, a, s, bs\n",
    "            \n",
    "    print('')\n",
    "      \n",
    "print('-------------------')\n",
    "print('Best accuracy is in iteration number: ', np.argmax(acc) + 1)"
   ]
  },
  {
   "cell_type": "markdown",
   "metadata": {},
   "source": [
    "#### Training on 30% training samples, test on test dataset"
   ]
  },
  {
   "cell_type": "code",
   "execution_count": 8,
   "metadata": {},
   "outputs": [
    {
     "name": "stdout",
     "output_type": "stream",
     "text": [
      "Accuracy: 0.868900 | Average fit time: 8.298553s | Average predict time: 0.059054s\n",
      "-------------------\n",
      "MLP parameters: hd = (128, 128), bs = 50, s = adam, a = relu\n"
     ]
    }
   ],
   "source": [
    "classifier1 = MLPClassifier(hidden_layer_sizes = best_hd, activation = best_a,\n",
    "                    solver = best_s, batch_size = best_bs, learning_rate = \"constant\", \n",
    "                    learning_rate_init = 0.001, max_iter = 500, shuffle = True,\n",
    "                    random_state = 42, early_stopping = True, n_iter_no_change = 10,\n",
    "                    validation_fraction = 0.1, verbose = False)\n",
    "\n",
    "start1 = time.time()\n",
    "classifier1.fit(X_train_30.values, y_train_30.values)\n",
    "fit_time = time.time() - start1\n",
    "\n",
    "start2 = time.time()\n",
    "y_pred2 = classifier1.predict(X_test_std.values)\n",
    "pred_time = time.time() - start2\n",
    "\n",
    "c2 = confusion_matrix(y_test, y_pred2, labels=[0,1,2,3,4,5,6,7,8,9])\n",
    "\n",
    "print(f\"Accuracy: {np.trace(c2)/sum(sum(c2)):.6f} | Average fit time: {fit_time:.6f}s | Average predict time: {pred_time:.6f}s\")\n",
    "print('-------------------')\n",
    "print('MLP parameters: hd = ', best_hd, ', bs = ', best_bs, ', s = ', best_s, ', a = ', best_a, sep='')"
   ]
  },
  {
   "cell_type": "markdown",
   "metadata": {},
   "source": [
    "."
   ]
  },
  {
   "cell_type": "markdown",
   "metadata": {},
   "source": [
    "## Trained on 100% samples of the original training dataset"
   ]
  },
  {
   "cell_type": "code",
   "execution_count": 9,
   "metadata": {},
   "outputs": [],
   "source": [
    "train_data = pd.read_csv(\"../datasets/fashion-mnist_train.csv\")\n",
    "X_train = train_data.iloc[:,1:]\n",
    "y_train = train_data.iloc[:,0]\n",
    "\n",
    "test_data = pd.read_csv(\"../datasets/fashion-mnist_test.csv\")\n",
    "X_test = test_data.iloc[:,1:]\n",
    "y_test = test_data.iloc[:,0]\n",
    "\n",
    "X_train_std = (X_train - X_train.mean()) / X_train.std()\n",
    "X_test_std = (X_test - X_test.mean()) / X_test.std()"
   ]
  },
  {
   "cell_type": "code",
   "execution_count": 10,
   "metadata": {},
   "outputs": [
    {
     "name": "stdout",
     "output_type": "stream",
     "text": [
      "        Accuracy: 0.889417 | Fit time: 31.740891s | Predict time: 0.069062s\n",
      "        Accuracy: 0.880333 | Fit time: 46.302145s | Predict time: 0.066060s\n",
      "        Accuracy: 0.894583 | Fit time: 37.521152s | Predict time: 0.066060s\n",
      "        Accuracy: 0.886417 | Fit time: 35.970741s | Predict time: 0.071065s\n",
      "        Accuracy: 0.882500 | Fit time: 25.610311s | Predict time: 0.075069s\n",
      "\n",
      "-------------------\n",
      "Average accuracy: 0.886650 | Average fit time: 35.429048s | Average predict time: 0.069463s\n"
     ]
    }
   ],
   "source": [
    "kf = StratifiedKFold(n_splits=5, shuffle=True, random_state=42)\n",
    "\n",
    "acc, acc_tmp, time_fit_tmp, time_pred_tmp = [], [], [], []\n",
    "\n",
    "indexes = kf.split(X_train, y_train)\n",
    "        \n",
    "for train_index, test_index in indexes:\n",
    "    \n",
    "    X_trainCV2 = X_train_std.iloc[train_index,:]\n",
    "    y_trainCV2 = y_train.iloc[train_index]\n",
    "    X_testCV2 = X_train_std.iloc[test_index,:]\n",
    "    y_testCV2 = y_train.iloc[test_index]\n",
    "                   \n",
    "    classifier2 = MLPClassifier(hidden_layer_sizes = best_hd, activation = best_a,\n",
    "                        solver = best_s, batch_size = best_bs, learning_rate = \"constant\", \n",
    "                        learning_rate_init = 0.001, max_iter = 500, shuffle = True,\n",
    "                        random_state = 42, early_stopping = True, n_iter_no_change = 10,\n",
    "                        validation_fraction = 0.1, verbose = False)\n",
    "    \n",
    "    mlp_fit_with_time(classifier2, X_trainCV2.values, y_trainCV2.values, time_fit_tmp)\n",
    "    y_pred3 = mlp_predict_with_time(classifier2, X_testCV2.values, time_pred_tmp)\n",
    "\n",
    "    c3 = confusion_matrix(y_testCV2, y_pred3)\n",
    "    acc_tmp.append(np.trace(c3)/sum(sum(c3)))\n",
    "\n",
    "    print(f\"        Accuracy: {np.trace(c3)/sum(sum(c3)):.6f} | Fit time: {time_fit_tmp[-1]:.6f}s | Predict time: {time_pred_tmp[-1]:.6f}s\")\n",
    "\n",
    "print(\"\")    \n",
    "print('-------------------')\n",
    "print(f\"Average accuracy: {np.mean(acc_tmp):.6f} | Average fit time: {np.mean(time_fit_tmp):.6f}s | Average predict time: {np.mean(time_pred_tmp):.6f}s\")"
   ]
  },
  {
   "cell_type": "markdown",
   "metadata": {},
   "source": [
    "##### Training on 100% training samples, test on test dataset"
   ]
  },
  {
   "cell_type": "code",
   "execution_count": 11,
   "metadata": {},
   "outputs": [
    {
     "name": "stdout",
     "output_type": "stream",
     "text": [
      "Accuracy: 0.893700 | Average fit time: 48.675303s | Average predict time: 0.055051s\n",
      "-------------------\n",
      "MLP parameters: hd = (128, 128), bs = 50, s = adam, a = relu\n"
     ]
    }
   ],
   "source": [
    "classifier2 = MLPClassifier(hidden_layer_sizes = best_hd, activation = best_a,\n",
    "                    solver = best_s, batch_size = best_bs, learning_rate = \"constant\", \n",
    "                    learning_rate_init = 0.001, max_iter = 500, shuffle = True,\n",
    "                    random_state = 42, early_stopping = True, n_iter_no_change = 10,\n",
    "                    validation_fraction = 0.1, verbose = False)\n",
    "\n",
    "start1 = time.time()\n",
    "classifier2.fit(X_train_std.values, y_train.values)\n",
    "fit_time = time.time() - start1\n",
    "\n",
    "start2 = time.time()\n",
    "y_pred4 = classifier2.predict(X_test_std.values)\n",
    "pred_time = time.time() - start2\n",
    "\n",
    "c4 = confusion_matrix(y_test, y_pred4, labels=[0,1,2,3,4,5,6,7,8,9])  \n",
    "\n",
    "print(f\"Accuracy: {np.trace(c4)/sum(sum(c4)):.6f} | Average fit time: {fit_time:.6f}s | Average predict time: {pred_time:.6f}s\")\n",
    "print('-------------------')\n",
    "print('MLP parameters: hd = ', best_hd, ', bs = ', best_bs, ', s = ', best_s, ', a = ', best_a, sep='')"
   ]
  },
  {
   "cell_type": "markdown",
   "metadata": {},
   "source": [
    "."
   ]
  },
  {
   "cell_type": "markdown",
   "metadata": {},
   "source": [
    "## Trained on 100% samples with PCA reduction"
   ]
  },
  {
   "cell_type": "code",
   "execution_count": 12,
   "metadata": {},
   "outputs": [],
   "source": [
    "train_data = pd.read_csv(\"../datasets/fashion-mnist_train.csv\")\n",
    "X_train = train_data.iloc[:,1:]\n",
    "y_train = train_data.iloc[:,0]\n",
    "\n",
    "test_data = pd.read_csv(\"../datasets/fashion-mnist_test.csv\")\n",
    "X_test = test_data.iloc[:,1:]\n",
    "y_test = test_data.iloc[:,0]\n",
    "\n",
    "X_train_std = (X_train - X_train.mean()) / X_train.std()\n",
    "X_test_std = (X_test - X_test.mean()) / X_test.std()"
   ]
  },
  {
   "cell_type": "code",
   "execution_count": 13,
   "metadata": {
    "scrolled": true
   },
   "outputs": [
    {
     "name": "stdout",
     "output_type": "stream",
     "text": [
      "1. pca = 0.90, hd = (128, 96, 64), s = sgd, a = logistic, Average accuracy: 0.880333 | Average fit time: 126.953365s | Average predict time: 0.054049s\n",
      "2. pca = 0.90, hd = (128, 96, 64), s = adam, a = logistic, Average accuracy: 0.884133 | Average fit time: 22.224031s | Average predict time: 0.051046s\n",
      "3. pca = 0.90, hd = (128, 96, 64), s = sgd, a = tanh, Average accuracy: 0.881417 | Average fit time: 46.599624s | Average predict time: 0.076870s\n",
      "4. pca = 0.90, hd = (128, 96, 64), s = adam, a = tanh, Average accuracy: 0.882200 | Average fit time: 19.026719s | Average predict time: 0.084076s\n",
      "5. pca = 0.90, hd = (128, 96, 64), s = sgd, a = relu, Average accuracy: 0.885150 | Average fit time: 34.953017s | Average predict time: 0.040637s\n",
      "6. pca = 0.90, hd = (128, 96, 64), s = adam, a = relu, Average accuracy: 0.886650 | Average fit time: 17.792797s | Average predict time: 0.040435s\n",
      "\n",
      "7. pca = 0.90, hd = (128, 96, 32), s = sgd, a = logistic, Average accuracy: 0.883017 | Average fit time: 123.404503s | Average predict time: 0.046241s\n",
      "8. pca = 0.90, hd = (128, 96, 32), s = adam, a = logistic, Average accuracy: 0.884033 | Average fit time: 21.483556s | Average predict time: 0.040837s\n",
      "9. pca = 0.90, hd = (128, 96, 32), s = sgd, a = tanh, Average accuracy: 0.880917 | Average fit time: 43.583473s | Average predict time: 0.078470s\n",
      "10. pca = 0.90, hd = (128, 96, 32), s = adam, a = tanh, Average accuracy: 0.881317 | Average fit time: 17.070139s | Average predict time: 0.081673s\n",
      "11. pca = 0.90, hd = (128, 96, 32), s = sgd, a = relu, Average accuracy: 0.884083 | Average fit time: 31.026844s | Average predict time: 0.037634s\n",
      "12. pca = 0.90, hd = (128, 96, 32), s = adam, a = relu, Average accuracy: 0.886450 | Average fit time: 16.081238s | Average predict time: 0.037434s\n",
      "\n",
      "13. pca = 0.90, hd = (128, 64, 32), s = sgd, a = logistic, Average accuracy: 0.880650 | Average fit time: 108.456728s | Average predict time: 0.039235s\n",
      "14. pca = 0.90, hd = (128, 64, 32), s = adam, a = logistic, Average accuracy: 0.884100 | Average fit time: 17.114179s | Average predict time: 0.037834s\n",
      "15. pca = 0.90, hd = (128, 64, 32), s = sgd, a = tanh, Average accuracy: 0.879600 | Average fit time: 29.966878s | Average predict time: 0.064659s\n",
      "16. pca = 0.90, hd = (128, 64, 32), s = adam, a = tanh, Average accuracy: 0.880550 | Average fit time: 16.236580s | Average predict time: 0.072466s\n",
      "17. pca = 0.90, hd = (128, 64, 32), s = sgd, a = relu, Average accuracy: 0.883633 | Average fit time: 32.275179s | Average predict time: 0.033030s\n",
      "18. pca = 0.90, hd = (128, 64, 32), s = adam, a = relu, Average accuracy: 0.885983 | Average fit time: 17.446681s | Average predict time: 0.034831s\n",
      "\n",
      "19. pca = 0.90, hd = (96, 64, 32), s = sgd, a = logistic, Average accuracy: 0.875633 | Average fit time: 89.864403s | Average predict time: 0.036633s\n",
      "20. pca = 0.90, hd = (96, 64, 32), s = adam, a = logistic, Average accuracy: 0.879900 | Average fit time: 17.779585s | Average predict time: 0.037233s\n",
      "21. pca = 0.90, hd = (96, 64, 32), s = sgd, a = tanh, Average accuracy: 0.878917 | Average fit time: 36.585303s | Average predict time: 0.056451s\n",
      "22. pca = 0.90, hd = (96, 64, 32), s = adam, a = tanh, Average accuracy: 0.879717 | Average fit time: 14.610500s | Average predict time: 0.054850s\n",
      "23. pca = 0.90, hd = (96, 64, 32), s = sgd, a = relu, Average accuracy: 0.884067 | Average fit time: 28.896704s | Average predict time: 0.027825s\n",
      "24. pca = 0.90, hd = (96, 64, 32), s = adam, a = relu, Average accuracy: 0.882850 | Average fit time: 14.704585s | Average predict time: 0.029226s\n",
      "\n",
      "25. pca = 0.90, hd = (128, 96), s = sgd, a = logistic, Average accuracy: 0.881050 | Average fit time: 88.048149s | Average predict time: 0.035631s\n",
      "26. pca = 0.90, hd = (128, 96), s = adam, a = logistic, Average accuracy: 0.886750 | Average fit time: 17.989776s | Average predict time: 0.039436s\n",
      "27. pca = 0.90, hd = (128, 96), s = sgd, a = tanh, Average accuracy: 0.882167 | Average fit time: 49.800934s | Average predict time: 0.065459s\n",
      "28. pca = 0.90, hd = (128, 96), s = adam, a = tanh, Average accuracy: 0.881750 | Average fit time: 15.129773s | Average predict time: 0.066460s\n",
      "29. pca = 0.90, hd = (128, 96), s = sgd, a = relu, Average accuracy: 0.886567 | Average fit time: 32.846300s | Average predict time: 0.034031s\n",
      "30. pca = 0.90, hd = (128, 96), s = adam, a = relu, Average accuracy: 0.884467 | Average fit time: 17.315963s | Average predict time: 0.034231s\n",
      "\n",
      "31. pca = 0.90, hd = (128, 64), s = sgd, a = logistic, Average accuracy: 0.882367 | Average fit time: 91.976725s | Average predict time: 0.037234s\n",
      "32. pca = 0.90, hd = (128, 64), s = adam, a = logistic, Average accuracy: 0.887200 | Average fit time: 16.304843s | Average predict time: 0.032829s\n",
      "33. pca = 0.90, hd = (128, 64), s = sgd, a = tanh, Average accuracy: 0.882117 | Average fit time: 32.293456s | Average predict time: 0.058453s\n",
      "34. pca = 0.90, hd = (128, 64), s = adam, a = tanh, Average accuracy: 0.881500 | Average fit time: 15.963332s | Average predict time: 0.056851s\n",
      "35. pca = 0.90, hd = (128, 64), s = sgd, a = relu, Average accuracy: 0.883900 | Average fit time: 26.150604s | Average predict time: 0.030828s\n",
      "36. pca = 0.90, hd = (128, 64), s = adam, a = relu, Average accuracy: 0.885067 | Average fit time: 16.526043s | Average predict time: 0.031228s\n",
      "\n",
      "37. pca = 0.90, hd = (128, 32), s = sgd, a = logistic, Average accuracy: 0.881950 | Average fit time: 81.945794s | Average predict time: 0.036032s\n",
      "38. pca = 0.90, hd = (128, 32), s = adam, a = logistic, Average accuracy: 0.887767 | Average fit time: 16.320656s | Average predict time: 0.031428s\n",
      "39. pca = 0.90, hd = (128, 32), s = sgd, a = tanh, Average accuracy: 0.883033 | Average fit time: 34.035382s | Average predict time: 0.054049s\n",
      "40. pca = 0.90, hd = (128, 32), s = adam, a = tanh, Average accuracy: 0.879967 | Average fit time: 14.203330s | Average predict time: 0.050845s\n",
      "41. pca = 0.90, hd = (128, 32), s = sgd, a = relu, Average accuracy: 0.883800 | Average fit time: 23.800066s | Average predict time: 0.027224s\n",
      "42. pca = 0.90, hd = (128, 32), s = adam, a = relu, Average accuracy: 0.883633 | Average fit time: 14.121456s | Average predict time: 0.026423s\n",
      "\n",
      "43. pca = 0.90, hd = (96, 64), s = sgd, a = logistic, Average accuracy: 0.880000 | Average fit time: 70.316409s | Average predict time: 0.026823s\n",
      "44. pca = 0.90, hd = (96, 64), s = adam, a = logistic, Average accuracy: 0.884367 | Average fit time: 14.846316s | Average predict time: 0.026823s\n",
      "45. pca = 0.90, hd = (96, 64), s = sgd, a = tanh, Average accuracy: 0.880517 | Average fit time: 36.114675s | Average predict time: 0.048043s\n",
      "46. pca = 0.90, hd = (96, 64), s = adam, a = tanh, Average accuracy: 0.882000 | Average fit time: 11.837976s | Average predict time: 0.051246s\n",
      "47. pca = 0.90, hd = (96, 64), s = sgd, a = relu, Average accuracy: 0.884717 | Average fit time: 33.225372s | Average predict time: 0.025823s\n",
      "48. pca = 0.90, hd = (96, 64), s = adam, a = relu, Average accuracy: 0.883083 | Average fit time: 13.803165s | Average predict time: 0.025823s\n",
      "\n",
      "49. pca = 0.90, hd = (96, 32), s = sgd, a = logistic, Average accuracy: 0.881733 | Average fit time: 75.809409s | Average predict time: 0.024621s\n",
      "50. pca = 0.90, hd = (96, 32), s = adam, a = logistic, Average accuracy: 0.885100 | Average fit time: 15.557562s | Average predict time: 0.024622s\n",
      "51. pca = 0.90, hd = (96, 32), s = sgd, a = tanh, Average accuracy: 0.879067 | Average fit time: 28.514957s | Average predict time: 0.041437s\n",
      "52. pca = 0.90, hd = (96, 32), s = adam, a = tanh, Average accuracy: 0.878717 | Average fit time: 11.808749s | Average predict time: 0.040637s\n",
      "53. pca = 0.90, hd = (96, 32), s = sgd, a = relu, Average accuracy: 0.883133 | Average fit time: 23.966616s | Average predict time: 0.022220s\n",
      "54. pca = 0.90, hd = (96, 32), s = adam, a = relu, Average accuracy: 0.883400 | Average fit time: 13.002637s | Average predict time: 0.022220s\n",
      "\n",
      "55. pca = 0.90, hd = (64, 32), s = sgd, a = logistic, Average accuracy: 0.877300 | Average fit time: 59.999217s | Average predict time: 0.022220s\n",
      "56. pca = 0.90, hd = (64, 32), s = adam, a = logistic, Average accuracy: 0.880167 | Average fit time: 13.525512s | Average predict time: 0.024221s\n",
      "57. pca = 0.90, hd = (64, 32), s = sgd, a = tanh, Average accuracy: 0.876383 | Average fit time: 27.666585s | Average predict time: 0.033831s\n",
      "58. pca = 0.90, hd = (64, 32), s = adam, a = tanh, Average accuracy: 0.874600 | Average fit time: 10.759194s | Average predict time: 0.032229s\n",
      "59. pca = 0.90, hd = (64, 32), s = sgd, a = relu, Average accuracy: 0.880383 | Average fit time: 17.624843s | Average predict time: 0.019418s\n",
      "60. pca = 0.90, hd = (64, 32), s = adam, a = relu, Average accuracy: 0.880833 | Average fit time: 10.609858s | Average predict time: 0.018617s\n",
      "\n",
      "61. pca = 0.90, hd = (128, 128, 128), s = sgd, a = logistic, Average accuracy: 0.879350 | Average fit time: 135.273938s | Average predict time: 0.066060s\n",
      "62. pca = 0.90, hd = (128, 128, 128), s = adam, a = logistic, Average accuracy: 0.883983 | Average fit time: 24.373185s | Average predict time: 0.069663s\n",
      "63. pca = 0.90, hd = (128, 128, 128), s = sgd, a = tanh, Average accuracy: 0.881550 | Average fit time: 46.558983s | Average predict time: 0.098088s\n",
      "64. pca = 0.90, hd = (128, 128, 128), s = adam, a = tanh, Average accuracy: 0.882167 | Average fit time: 23.018353s | Average predict time: 0.112703s\n",
      "65. pca = 0.90, hd = (128, 128, 128), s = sgd, a = relu, Average accuracy: 0.884433 | Average fit time: 52.921374s | Average predict time: 0.054049s\n",
      "66. pca = 0.90, hd = (128, 128, 128), s = adam, a = relu, Average accuracy: 0.885100 | Average fit time: 24.267491s | Average predict time: 0.053248s\n",
      "\n",
      "67. pca = 0.90, hd = (96, 96, 96), s = sgd, a = logistic, Average accuracy: 0.871750 | Average fit time: 91.804769s | Average predict time: 0.045441s\n",
      "68. pca = 0.90, hd = (96, 96, 96), s = adam, a = logistic, Average accuracy: 0.880000 | Average fit time: 19.249122s | Average predict time: 0.041838s\n",
      "69. pca = 0.90, hd = (96, 96, 96), s = sgd, a = tanh, Average accuracy: 0.880117 | Average fit time: 39.359516s | Average predict time: 0.072066s\n",
      "70. pca = 0.90, hd = (96, 96, 96), s = adam, a = tanh, Average accuracy: 0.879383 | Average fit time: 18.892398s | Average predict time: 0.078070s\n",
      "71. pca = 0.90, hd = (96, 96, 96), s = sgd, a = relu, Average accuracy: 0.884350 | Average fit time: 38.987088s | Average predict time: 0.037634s\n",
      "72. pca = 0.90, hd = (96, 96, 96), s = adam, a = relu, Average accuracy: 0.884317 | Average fit time: 17.774981s | Average predict time: 0.038034s\n",
      "\n",
      "73. pca = 0.90, hd = (64, 64, 64), s = sgd, a = logistic, Average accuracy: 0.870633 | Average fit time: 84.463562s | Average predict time: 0.031027s\n",
      "74. pca = 0.90, hd = (64, 64, 64), s = adam, a = logistic, Average accuracy: 0.874967 | Average fit time: 19.705738s | Average predict time: 0.032029s\n",
      "75. pca = 0.90, hd = (64, 64, 64), s = sgd, a = tanh, Average accuracy: 0.877467 | Average fit time: 40.245035s | Average predict time: 0.053848s\n",
      "76. pca = 0.90, hd = (64, 64, 64), s = adam, a = tanh, Average accuracy: 0.876333 | Average fit time: 15.519727s | Average predict time: 0.055250s\n",
      "77. pca = 0.90, hd = (64, 64, 64), s = sgd, a = relu, Average accuracy: 0.881433 | Average fit time: 28.536176s | Average predict time: 0.027024s\n",
      "78. pca = 0.90, hd = (64, 64, 64), s = adam, a = relu, Average accuracy: 0.882983 | Average fit time: 17.457692s | Average predict time: 0.029226s\n",
      "\n",
      "79. pca = 0.90, hd = (32, 32, 32), s = sgd, a = logistic, Average accuracy: 0.861817 | Average fit time: 68.342812s | Average predict time: 0.019417s\n",
      "80. pca = 0.90, hd = (32, 32, 32), s = adam, a = logistic, Average accuracy: 0.869917 | Average fit time: 16.716816s | Average predict time: 0.020018s\n",
      "81. pca = 0.90, hd = (32, 32, 32), s = sgd, a = tanh, Average accuracy: 0.871000 | Average fit time: 25.436755s | Average predict time: 0.031628s\n",
      "82. pca = 0.90, hd = (32, 32, 32), s = adam, a = tanh, Average accuracy: 0.869917 | Average fit time: 14.543239s | Average predict time: 0.031828s\n",
      "83. pca = 0.90, hd = (32, 32, 32), s = sgd, a = relu, Average accuracy: 0.875883 | Average fit time: 24.726107s | Average predict time: 0.017215s\n",
      "84. pca = 0.90, hd = (32, 32, 32), s = adam, a = relu, Average accuracy: 0.874717 | Average fit time: 11.616975s | Average predict time: 0.018016s\n",
      "\n",
      "85. pca = 0.90, hd = (128, 128), s = sgd, a = logistic, Average accuracy: 0.884317 | Average fit time: 106.404059s | Average predict time: 0.047243s\n",
      "86. pca = 0.90, hd = (128, 128), s = adam, a = logistic, Average accuracy: 0.888117 | Average fit time: 20.887613s | Average predict time: 0.048444s\n",
      "87. pca = 0.90, hd = (128, 128), s = sgd, a = tanh, Average accuracy: 0.883783 | Average fit time: 41.697357s | Average predict time: 0.070664s\n",
      "88. pca = 0.90, hd = (128, 128), s = adam, a = tanh, Average accuracy: 0.882467 | Average fit time: 17.230285s | Average predict time: 0.074067s\n",
      "89. pca = 0.90, hd = (128, 128), s = sgd, a = relu, Average accuracy: 0.888683 | Average fit time: 34.185719s | Average predict time: 0.039035s\n",
      "90. pca = 0.90, hd = (128, 128), s = adam, a = relu, Average accuracy: 0.884650 | Average fit time: 18.229193s | Average predict time: 0.038034s\n",
      "\n",
      "91. pca = 0.90, hd = (96, 96), s = sgd, a = logistic, Average accuracy: 0.880533 | Average fit time: 82.230655s | Average predict time: 0.032829s\n",
      "92. pca = 0.90, hd = (96, 96), s = adam, a = logistic, Average accuracy: 0.883450 | Average fit time: 18.487830s | Average predict time: 0.034231s\n",
      "93. pca = 0.90, hd = (96, 96), s = sgd, a = tanh, Average accuracy: 0.882333 | Average fit time: 38.587926s | Average predict time: 0.053448s\n",
      "94. pca = 0.90, hd = (96, 96), s = adam, a = tanh, Average accuracy: 0.882450 | Average fit time: 14.821292s | Average predict time: 0.058052s\n",
      "95. pca = 0.90, hd = (96, 96), s = sgd, a = relu, Average accuracy: 0.886183 | Average fit time: 31.239838s | Average predict time: 0.028224s\n",
      "96. pca = 0.90, hd = (96, 96), s = adam, a = relu, Average accuracy: 0.884850 | Average fit time: 13.672046s | Average predict time: 0.028626s\n",
      "\n",
      "97. pca = 0.90, hd = (64, 64), s = sgd, a = logistic, Average accuracy: 0.877283 | Average fit time: 67.864777s | Average predict time: 0.027824s\n",
      "98. pca = 0.90, hd = (64, 64), s = adam, a = logistic, Average accuracy: 0.881317 | Average fit time: 16.443570s | Average predict time: 0.028024s\n",
      "99. pca = 0.90, hd = (64, 64), s = sgd, a = tanh, Average accuracy: 0.880083 | Average fit time: 30.231119s | Average predict time: 0.040437s\n",
      "100. pca = 0.90, hd = (64, 64), s = adam, a = tanh, Average accuracy: 0.878533 | Average fit time: 11.203598s | Average predict time: 0.038435s\n",
      "101. pca = 0.90, hd = (64, 64), s = sgd, a = relu, Average accuracy: 0.883967 | Average fit time: 26.068330s | Average predict time: 0.021019s\n",
      "102. pca = 0.90, hd = (64, 64), s = adam, a = relu, Average accuracy: 0.880233 | Average fit time: 14.249171s | Average predict time: 0.022420s\n",
      "\n",
      "-------------------\n",
      "Best accuracy is in iteration number:  89\n"
     ]
    }
   ],
   "source": [
    "kf = StratifiedKFold(n_splits=5, shuffle=True, random_state=42)\n",
    "acc = []\n",
    "i, best_acc, best_pca = 0, 0, 0\n",
    "best_a, best_s = '', ''\n",
    "best_hd = ()\n",
    "best_bs = 50\n",
    "\n",
    "for hd in hd_list:\n",
    "    for a in [\"logistic\", \"tanh\", \"relu\"]:\n",
    "        for s in [\"sgd\", \"adam\"]:\n",
    "            for pc in [0.9]:\n",
    "\n",
    "                acc_tmp, time_fit_tmp, time_pred_tmp = [], [], []\n",
    "                \n",
    "                indexes = kf.split(X_train, y_train)\n",
    "\n",
    "                for train_index, test_index in indexes:\n",
    "\n",
    "                    X_trainCV3 = X_train_std.iloc[train_index,:]\n",
    "                    y_trainCV3 = y_train.iloc[train_index]\n",
    "                    X_testCV3 = X_train_std.iloc[test_index,:]\n",
    "                    y_testCV3 = y_train.iloc[test_index]\n",
    "\n",
    "                    pca = PCA(n_components=pc)\n",
    "                    pca.fit(X_trainCV3)\n",
    "                    X_train_r = pca.transform(X_trainCV3)\n",
    "                    X_test_r = pca.transform(X_testCV3)\n",
    "   \n",
    "                    classifier3 = MLPClassifier(hidden_layer_sizes = hd, activation = a,\n",
    "                                        solver = s, batch_size = best_bs, learning_rate = \"constant\", \n",
    "                                        learning_rate_init = 0.001, max_iter = 500, shuffle = True,\n",
    "                                        random_state = 42, early_stopping = True, n_iter_no_change = 10,\n",
    "                                        validation_fraction = 0.1, verbose = False)\n",
    "                    \n",
    "                    mlp_fit_with_time(classifier3, X_train_r, y_trainCV3, time_fit_tmp)\n",
    "                    y_pred5 = mlp_predict_with_time(classifier3, X_test_r, time_pred_tmp)\n",
    "\n",
    "                    c5 = confusion_matrix(y_testCV3, y_pred5, labels=[0,1,2,3,4,5,6,7,8,9])\n",
    "                    acc_tmp.append(np.trace(c5)/sum(sum(c5)))\n",
    "\n",
    "                print(f\"{i+1}. pca = {pc:.2f}, hd = {hd}, s = {s}, a = {a}, Average accuracy: {np.mean(acc_tmp):.6f} | Average fit time: {np.mean(time_fit_tmp):.6f}s | Average predict time: {np.mean(time_pred_tmp):.6f}s\")\n",
    "                acc.append(np.mean(acc_tmp))\n",
    "                i += 1\n",
    "\n",
    "                if np.mean(acc_tmp) > best_acc:\n",
    "                    best_acc = np.mean(acc_tmp)\n",
    "                    best_hd, best_a, best_s, best_pca = hd, a, s, pc\n",
    "            \n",
    "    print('')\n",
    "      \n",
    "print('-------------------')\n",
    "print('Best accuracy is in iteration number: ', np.argmax(acc) + 1)"
   ]
  },
  {
   "cell_type": "markdown",
   "metadata": {},
   "source": [
    "##### Training on 100% training samples with PCA reduction, test on test dataset"
   ]
  },
  {
   "cell_type": "code",
   "execution_count": 14,
   "metadata": {},
   "outputs": [
    {
     "name": "stdout",
     "output_type": "stream",
     "text": [
      "Accuracy: 0.892100 | Average fit time: 65.318456s | Average predict time: 0.031029s\n",
      "-------------------\n",
      "MLP parameters: hd = (128, 128), bs = 50, s = sgd, a = relu, pca = 0.9\n"
     ]
    }
   ],
   "source": [
    "pca = PCA(n_components=best_pca)\n",
    "pca.fit(X_train_std)\n",
    "X_train_r = pca.transform(X_train_std)\n",
    "X_test_r = pca.transform(X_test_std)\n",
    "\n",
    "classifier3 = MLPClassifier(hidden_layer_sizes = best_hd, activation = best_a,\n",
    "                    solver = best_s, batch_size = best_bs, learning_rate = \"constant\", \n",
    "                    learning_rate_init = 0.001, max_iter = 500, shuffle = True,\n",
    "                    random_state = 42, early_stopping = True, n_iter_no_change = 10,\n",
    "                    validation_fraction = 0.1, verbose = False)\n",
    "\n",
    "start1 = time.time()\n",
    "classifier3.fit(X_train_r, y_train) \n",
    "fit_time = time.time() - start1\n",
    "\n",
    "start2 = time.time()\n",
    "y_pred6 = classifier3.predict(X_test_r)\n",
    "pred_time = time.time() - start2\n",
    "\n",
    "c6 = confusion_matrix(y_test, y_pred6, labels=[0,1,2,3,4,5,6,7,8,9])\n",
    "\n",
    "print(f\"Accuracy: {np.trace(c6)/sum(sum(c6)):.6f} | Average fit time: {fit_time:.6f}s | Average predict time: {pred_time:.6f}s\")\n",
    "print('-------------------')\n",
    "print('MLP parameters: hd = ', best_hd, ', bs = ', best_bs, ', s = ', best_s, ', a = ', best_a, ', pca = ', best_pca, sep='')"
   ]
  },
  {
   "cell_type": "code",
   "execution_count": 15,
   "metadata": {},
   "outputs": [],
   "source": [
    "best_pca = 0.9\n",
    "best_hd = (128,128)\n",
    "best_a = \"relu\"\n",
    "best_s = \"adam\"\n",
    "best_bs = 50"
   ]
  },
  {
   "cell_type": "code",
   "execution_count": 16,
   "metadata": {},
   "outputs": [
    {
     "name": "stdout",
     "output_type": "stream",
     "text": [
      "Accuracy: 0.890300 | Average fit time: 19.395655s | Average predict time: 0.031028s\n",
      "-------------------\n",
      "MLP parameters: hd = (128, 128), bs = 50, s = adam, a = relu, pca = 0.9\n"
     ]
    }
   ],
   "source": [
    "pca = PCA(n_components=best_pca)\n",
    "pca.fit(X_train_std)\n",
    "X_train_r = pca.transform(X_train_std)\n",
    "X_test_r = pca.transform(X_test_std)\n",
    "\n",
    "classifier3 = MLPClassifier(hidden_layer_sizes = best_hd, activation = best_a,\n",
    "                    solver = best_s, batch_size = best_bs, learning_rate = \"constant\", \n",
    "                    learning_rate_init = 0.001, max_iter = 500, shuffle = True,\n",
    "                    random_state = 42, early_stopping = True, n_iter_no_change = 10,\n",
    "                    validation_fraction = 0.1, verbose = False)\n",
    "\n",
    "start1 = time.time()\n",
    "classifier3.fit(X_train_r, y_train) \n",
    "fit_time = time.time() - start1\n",
    "\n",
    "start2 = time.time()\n",
    "y_pred6 = classifier3.predict(X_test_r)\n",
    "pred_time = time.time() - start2\n",
    "\n",
    "c6 = confusion_matrix(y_test, y_pred6, labels=[0,1,2,3,4,5,6,7,8,9])\n",
    "\n",
    "print(f\"Accuracy: {np.trace(c6)/sum(sum(c6)):.6f} | Average fit time: {fit_time:.6f}s | Average predict time: {pred_time:.6f}s\")\n",
    "print('-------------------')\n",
    "print('MLP parameters: hd = ', best_hd, ', bs = ', best_bs, ', s = ', best_s, ', a = ', best_a, ', pca = ', best_pca, sep='')"
   ]
  },
  {
   "cell_type": "code",
   "execution_count": 17,
   "metadata": {},
   "outputs": [
    {
     "name": "stdout",
     "output_type": "stream",
     "text": [
      "[[874   1  10  13   2   0  90   0  10   0]\n",
      " [  2 979   2  12   1   1   3   0   0   0]\n",
      " [ 16   1 779  11 115   1  73   0   4   0]\n",
      " [ 27  12   4 896  36   1  22   0   2   0]\n",
      " [  2   0  49  20 886   0  42   0   1   0]\n",
      " [  1   0   2   0   0 939   0  36   1  21]\n",
      " [152   2  53  19  75   0 688   0  11   0]\n",
      " [  0   0   0   0   0  14   0 934   0  52]\n",
      " [  3   0   6   2   4   1   9   2 971   2]\n",
      " [  0   0   0   0   0   8   0  16   1 975]]\n"
     ]
    }
   ],
   "source": [
    "# confusion matrix\n",
    "print(c6)"
   ]
  },
  {
   "cell_type": "code",
   "execution_count": 18,
   "metadata": {},
   "outputs": [
    {
     "name": "stdout",
     "output_type": "stream",
     "text": [
      "For class 0 accuracy is: 0.9671\n",
      "For class 1 accuracy is: 0.9963\n",
      "For class 2 accuracy is: 0.9653\n",
      "For class 3 accuracy is: 0.9819\n",
      "For class 8 accuracy is: 0.9653\n",
      "For class 6 accuracy is: 0.9913\n",
      "For class 5 accuracy is: 0.9449\n",
      "For class 4 accuracy is: 0.988\n",
      "For class 7 accuracy is: 0.9941\n",
      "For class 9 accuracy is: 0.99\n",
      "-------------\n",
      "0.9784200000000001\n"
     ]
    }
   ],
   "source": [
    "print(accuracy_per_class(c6, y_test.unique()))"
   ]
  },
  {
   "cell_type": "code",
   "execution_count": 19,
   "metadata": {},
   "outputs": [
    {
     "name": "stdout",
     "output_type": "stream",
     "text": [
      "For class 0 sensitivity is: 0.874\n",
      "For class 1 sensitivity is: 0.979\n",
      "For class 2 sensitivity is: 0.779\n",
      "For class 3 sensitivity is: 0.896\n",
      "For class 8 sensitivity is: 0.886\n",
      "For class 6 sensitivity is: 0.939\n",
      "For class 5 sensitivity is: 0.688\n",
      "For class 4 sensitivity is: 0.934\n",
      "For class 7 sensitivity is: 0.971\n",
      "For class 9 sensitivity is: 0.975\n",
      "-------------\n",
      "0.8920999999999999\n"
     ]
    }
   ],
   "source": [
    "print(sensitivity_per_class(c6, y_test.unique()))"
   ]
  },
  {
   "cell_type": "markdown",
   "metadata": {},
   "source": [
    "## Examples of wrong classification"
   ]
  },
  {
   "cell_type": "code",
   "execution_count": 20,
   "metadata": {},
   "outputs": [
    {
     "name": "stdout",
     "output_type": "stream",
     "text": [
      "<class 'numpy.ndarray'>\n",
      "<class 'numpy.ndarray'>\n"
     ]
    }
   ],
   "source": [
    "y_pred_np = y_pred6\n",
    "print(type(y_pred6))\n",
    "\n",
    "y_test_np = y_test.to_numpy()\n",
    "print(type(y_test_np))"
   ]
  },
  {
   "cell_type": "code",
   "execution_count": 21,
   "metadata": {},
   "outputs": [],
   "source": [
    "def differences(a,b):\n",
    "    list = []\n",
    "    for j in range(len(a)):\n",
    "        if b[j] != a[j]:\n",
    "            list = list + [j]        \n",
    "    arrayIndexes = np.asarray(list)\n",
    "    return arrayIndexes"
   ]
  },
  {
   "cell_type": "code",
   "execution_count": 22,
   "metadata": {},
   "outputs": [
    {
     "name": "stdout",
     "output_type": "stream",
     "text": [
      "[ 2  5  7 12 25 43 51 59 73]\n"
     ]
    }
   ],
   "source": [
    "diff = differences(y_pred_np, y_test_np)\n",
    "print(diff[:9])"
   ]
  },
  {
   "cell_type": "code",
   "execution_count": 23,
   "metadata": {},
   "outputs": [],
   "source": [
    "from PIL import Image"
   ]
  },
  {
   "cell_type": "code",
   "execution_count": 24,
   "metadata": {},
   "outputs": [
    {
     "data": {
      "image/png": "[encoded data removed]",
      "text/plain": [
       "<Figure size 576x576 with 9 Axes>"
      ]
     },
     "metadata": {
      "needs_background": "light"
     },
     "output_type": "display_data"
    }
   ],
   "source": [
    "plt.figure(figsize=(8,8))\n",
    "\n",
    "for j in range(0,9):  \n",
    "    plt.subplot(3,3,j+1)    \n",
    "    arr = X_test.iloc[diff[j],:].to_numpy()\n",
    "    \n",
    "    arr = arr.reshape(28,28)\n",
    "    arr = arr.astype(np.uint8)\n",
    "    img = Image.fromarray(arr, \"L\")\n",
    "    \n",
    "    plt.imshow(img, cmap = 'gray')\n",
    "    plt.title(f\"Predicted {y_pred_np[diff[j+100]]}, Real {y_test_np[diff[j+100]]}\")\n",
    "    plt.axis(\"off\")\n",
    "\n",
    "plt.show()"
   ]
  }
 ],
 "metadata": {
  "anaconda-cloud": {},
  "kernelspec": {
   "display_name": "base",
   "language": "python",
   "name": "python3"
  },
  "language_info": {
   "codemirror_mode": {
    "name": "ipython",
    "version": 3
   },
   "file_extension": ".py",
   "mimetype": "text/x-python",
   "name": "python",
   "nbconvert_exporter": "python",
   "pygments_lexer": "ipython3",
   "version": "3.9.12"
  },
  "vscode": {
   "interpreter": {
    "hash": "766a9d4e0fe97af3c745212a94c1e742b558cb97597ada925d7f9ef3d757d57c"
   }
  }
 },
 "nbformat": 4,
 "nbformat_minor": 1
}
