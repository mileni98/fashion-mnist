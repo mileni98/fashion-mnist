{
 "cells": [
  {
   "cell_type": "markdown",
   "metadata": {},
   "source": [
    "# Additional Metrics"
   ]
  },
  {
   "cell_type": "markdown",
   "metadata": {},
   "source": [
    "Importing libraries"
   ]
  },
  {
   "cell_type": "code",
   "execution_count": 1,
   "metadata": {},
   "outputs": [],
   "source": [
    "import numpy as np"
   ]
  },
  {
   "cell_type": "code",
   "execution_count": 2,
   "metadata": {},
   "outputs": [],
   "source": [
    "def accuracy_per_class(mat_conf, classes):\n",
    "    accuracy_i = []\n",
    "    N = mat_conf.shape[0]\n",
    "    for i in range(N):\n",
    "        j = np.delete(np.array(range(N)),i) \n",
    "        TP = mat_conf[i,i]\n",
    "        F = 0\n",
    "        F = (sum(mat_conf[i,j]) + sum(mat_conf[j,i]))\n",
    "        TN = sum(sum(mat_conf)) - F - TP\n",
    "        accuracy_i.append((TP+TN)/sum(sum(mat_conf)))\n",
    "        print(f'For class {classes[i]:.4} accuracy is: {accuracy_i[i]}:.4')\n",
    "    accuracy_avg = np.mean(accuracy_i)\n",
    "    print('-------------')\n",
    "    return accuracy_avg"
   ]
  },
  {
   "cell_type": "code",
   "execution_count": 3,
   "metadata": {},
   "outputs": [],
   "source": [
    "def sensitivity_per_class(mat_conf, classes):\n",
    "    sensitivity_i = []\n",
    "    N = mat_conf.shape[0]\n",
    "    for i in range(N):\n",
    "        j = np.delete(np.array(range(N)),i) \n",
    "        TP = mat_conf[i,i]\n",
    "        FN = sum(mat_conf[i,j])\n",
    "        sensitivity_i.append(TP/(TP+FN))\n",
    "        print(f'For class {classes[i]:.4} sensitivity is: {sensitivity_i[i]}:.4')\n",
    "    sensitivity_avg = np.mean(sensitivity_i)\n",
    "    print('-------------')\n",
    "    return sensitivity_avg"
   ]
  }
 ],
 "metadata": {
  "anaconda-cloud": {},
  "kernelspec": {
   "display_name": "base",
   "language": "python",
   "name": "python3"
  },
  "language_info": {
   "codemirror_mode": {
    "name": "ipython",
    "version": 3
   },
   "file_extension": ".py",
   "mimetype": "text/x-python",
   "name": "python",
   "nbconvert_exporter": "python",
   "pygments_lexer": "ipython3",
   "version": "3.9.12"
  },
  "vscode": {
   "interpreter": {
    "hash": "766a9d4e0fe97af3c745212a94c1e742b558cb97597ada925d7f9ef3d757d57c"
   }
  }
 },
 "nbformat": 4,
 "nbformat_minor": 1
}
