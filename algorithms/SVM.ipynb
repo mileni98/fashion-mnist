{
 "cells": [
  {
   "cell_type": "markdown",
   "metadata": {},
   "source": [
    "# SVM - Support Vector Machine"
   ]
  },
  {
   "cell_type": "markdown",
   "metadata": {},
   "source": [
    "Importing libraries"
   ]
  },
  {
   "cell_type": "code",
   "execution_count": 3,
   "metadata": {},
   "outputs": [],
   "source": [
    "import numpy as np\n",
    "import pandas as pd\n",
    "import matplotlib.pyplot as plt\n",
    "\n",
    "from ipynb.fs.defs.Additional_metrics import *\n",
    "from sklearn.model_selection import train_test_split, StratifiedKFold\n",
    "from sklearn.metrics import confusion_matrix\n",
    "from sklearn.decomposition import PCA\n",
    "from sklearn.svm import SVC\n",
    "\n",
    "import time"
   ]
  },
  {
   "cell_type": "markdown",
   "metadata": {},
   "source": [
    "## Trained on 30% samples of the original training dataset"
   ]
  },
  {
   "cell_type": "code",
   "execution_count": 2,
   "metadata": {},
   "outputs": [],
   "source": [
    "train_data = pd.read_csv(\"../datasets/fashion-mnist_train.csv\")\n",
    "X_train = train_data.iloc[:,1:]\n",
    "y_train = train_data.iloc[:,0]\n",
    "\n",
    "test_data = pd.read_csv(\"../datasets/fashion-mnist_test.csv\")\n",
    "X_test = test_data.iloc[:,1:]\n",
    "y_test = test_data.iloc[:,0]\n",
    "\n",
    "X_train_std = (X_train - X_train.mean())/X_train.std()\n",
    "X_test_std = (X_test - X_test.mean())/X_test.std()"
   ]
  },
  {
   "cell_type": "code",
   "execution_count": 3,
   "metadata": {},
   "outputs": [],
   "source": [
    "X_train_30, X_test_30, y_train_30, y_test_30 = train_test_split(X_train_std, y_train, test_size=0.7, stratify=y_train, random_state=42)"
   ]
  },
  {
   "cell_type": "code",
   "execution_count": 4,
   "metadata": {},
   "outputs": [
    {
     "name": "stdout",
     "output_type": "stream",
     "text": [
      "0. C = 0.1, k = linear, g = scale, Average accuracy: 0.8315 | Average execution time: 25.56690488\n",
      "1. C = 0.1, k = linear, g = auto, Average accuracy: 0.8315 | Average execution time: 25.33558207\n",
      "2. C = 0.1, k = poly, g = scale, Average accuracy: 0.74744444 | Average execution time: 74.97802382\n",
      "3. C = 0.1, k = poly, g = auto, Average accuracy: 0.74605556 | Average execution time: 72.80494447\n",
      "4. C = 0.1, k = rbf, g = scale, Average accuracy: 0.80883333 | Average execution time: 57.08916502\n",
      "5. C = 0.1, k = rbf, g = auto, Average accuracy: 0.80883333 | Average execution time: 56.94263134\n",
      "6. C = 0.1, k = sigmoid, g = scale, Average accuracy: 0.778 | Average execution time: 47.30105567\n",
      "7. C = 0.1, k = sigmoid, g = auto, Average accuracy: 0.77855556 | Average execution time: 47.17865348\n",
      "\n",
      "8. C = 0.5, k = linear, g = scale, Average accuracy: 0.81616667 | Average execution time: 30.54219766\n",
      "9. C = 0.5, k = linear, g = auto, Average accuracy: 0.81616667 | Average execution time: 30.45532269\n",
      "10. C = 0.5, k = poly, g = scale, Average accuracy: 0.82688889 | Average execution time: 46.83462915\n",
      "11. C = 0.5, k = poly, g = auto, Average accuracy: 0.82616667 | Average execution time: 46.95093493\n",
      "12. C = 0.5, k = rbf, g = scale, Average accuracy: 0.85611111 | Average execution time: 41.15005703\n",
      "13. C = 0.5, k = rbf, g = auto, Average accuracy: 0.85594444 | Average execution time: 41.07218208\n",
      "14. C = 0.5, k = sigmoid, g = scale, Average accuracy: 0.74966667 | Average execution time: 30.94176326\n",
      "15. C = 0.5, k = sigmoid, g = auto, Average accuracy: 0.75044444 | Average execution time: 30.8306622\n",
      "\n",
      "16. C = 1, k = linear, g = scale, Average accuracy: 0.81094444 | Average execution time: 36.11547089\n",
      "17. C = 1, k = linear, g = auto, Average accuracy: 0.81094444 | Average execution time: 36.02559285\n",
      "18. C = 1, k = poly, g = scale, Average accuracy: 0.84727778 | Average execution time: 40.68403335\n",
      "19. C = 1, k = poly, g = auto, Average accuracy: 0.84655556 | Average execution time: 40.70004921\n",
      "20. C = 1, k = rbf, g = scale, Average accuracy: 0.86883333 | Average execution time: 38.36511817\n",
      "21. C = 1, k = rbf, g = auto, Average accuracy: 0.86888889 | Average execution time: 38.24801359\n",
      "22. C = 1, k = sigmoid, g = scale, Average accuracy: 0.72977778 | Average execution time: 26.57839198\n",
      "23. C = 1, k = sigmoid, g = auto, Average accuracy: 0.73205556 | Average execution time: 26.5383554\n",
      "\n",
      "24. C = 3, k = linear, g = scale, Average accuracy: 0.80383333 | Average execution time: 58.619556\n",
      "25. C = 3, k = linear, g = auto, Average accuracy: 0.80383333 | Average execution time: 58.45300875\n",
      "26. C = 3, k = poly, g = scale, Average accuracy: 0.86672222 | Average execution time: 35.14879103\n",
      "27. C = 3, k = poly, g = auto, Average accuracy: 0.86666667 | Average execution time: 35.24248199\n",
      "28. C = 3, k = rbf, g = scale, Average accuracy: 0.88 | Average execution time: 37.03611293\n",
      "29. C = 3, k = rbf, g = auto, Average accuracy: 0.87977778 | Average execution time: 36.77547164\n",
      "30. C = 3, k = sigmoid, g = scale, Average accuracy: 0.71244444 | Average execution time: 21.95638704\n",
      "31. C = 3, k = sigmoid, g = auto, Average accuracy: 0.71216667 | Average execution time: 22.02965212\n",
      "\n",
      "32. C = 5, k = linear, g = scale, Average accuracy: 0.803 | Average execution time: 75.43646126\n",
      "33. C = 5, k = linear, g = auto, Average accuracy: 0.803 | Average execution time: 74.76297503\n",
      "34. C = 5, k = poly, g = scale, Average accuracy: 0.87161111 | Average execution time: 34.17759695\n",
      "35. C = 5, k = poly, g = auto, Average accuracy: 0.87177778 | Average execution time: 33.53652563\n",
      "36. C = 5, k = rbf, g = scale, Average accuracy: 0.88172222 | Average execution time: 35.96093473\n",
      "37. C = 5, k = rbf, g = auto, Average accuracy: 0.88161111 | Average execution time: 35.78537374\n",
      "38. C = 5, k = sigmoid, g = scale, Average accuracy: 0.71011111 | Average execution time: 20.6383831\n",
      "39. C = 5, k = sigmoid, g = auto, Average accuracy: 0.71205556 | Average execution time: 20.66981583\n",
      "\n",
      "40. C = 7, k = linear, g = scale, Average accuracy: 0.8025 | Average execution time: 94.41635275\n",
      "41. C = 7, k = linear, g = auto, Average accuracy: 0.8025 | Average execution time: 94.04351916\n",
      "42. C = 7, k = poly, g = scale, Average accuracy: 0.87333333 | Average execution time: 33.15041857\n",
      "43. C = 7, k = poly, g = auto, Average accuracy: 0.87294444 | Average execution time: 33.02706161\n",
      "44. C = 7, k = rbf, g = scale, Average accuracy: 0.88222222 | Average execution time: 36.15412827\n",
      "45. C = 7, k = rbf, g = auto, Average accuracy: 0.88233333 | Average execution time: 36.07065578\n",
      "46. C = 7, k = sigmoid, g = scale, Average accuracy: 0.71105556 | Average execution time: 20.2960885\n",
      "47. C = 7, k = sigmoid, g = auto, Average accuracy: 0.70972222 | Average execution time: 20.36562839\n",
      "\n",
      "48. C = 10, k = linear, g = scale, Average accuracy: 0.80261111 | Average execution time: 125.34600372\n",
      "49. C = 10, k = linear, g = auto, Average accuracy: 0.80261111 | Average execution time: 125.56603398\n",
      "50. C = 10, k = poly, g = scale, Average accuracy: 0.87611111 | Average execution time: 32.95659509\n",
      "51. C = 10, k = poly, g = auto, Average accuracy: 0.87622222 | Average execution time: 32.83833928\n",
      "52. C = 10, k = rbf, g = scale, Average accuracy: 0.88138889 | Average execution time: 36.33134246\n",
      "53. C = 10, k = rbf, g = auto, Average accuracy: 0.88133333 | Average execution time: 36.14570146\n",
      "54. C = 10, k = sigmoid, g = scale, Average accuracy: 0.70683333 | Average execution time: 19.80792356\n",
      "55. C = 10, k = sigmoid, g = auto, Average accuracy: 0.70938889 | Average execution time: 19.69520464\n",
      "\n",
      "56. C = 13, k = linear, g = scale, Average accuracy: 0.80244444 | Average execution time: 151.39086981\n",
      "57. C = 13, k = linear, g = auto, Average accuracy: 0.80244444 | Average execution time: 151.31552382\n",
      "58. C = 13, k = poly, g = scale, Average accuracy: 0.87705556 | Average execution time: 33.06033163\n",
      "59. C = 13, k = poly, g = auto, Average accuracy: 0.87722222 | Average execution time: 32.65171909\n",
      "60. C = 13, k = rbf, g = scale, Average accuracy: 0.88061111 | Average execution time: 36.52644458\n",
      "61. C = 13, k = rbf, g = auto, Average accuracy: 0.88044444 | Average execution time: 35.97861567\n",
      "62. C = 13, k = sigmoid, g = scale, Average accuracy: 0.70611111 | Average execution time: 19.7860096\n",
      "63. C = 13, k = sigmoid, g = auto, Average accuracy: 0.7065 | Average execution time: 19.60324311\n",
      "\n",
      "64. C = 15, k = linear, g = scale, Average accuracy: 0.80172222 | Average execution time: 163.27711625\n",
      "65. C = 15, k = linear, g = auto, Average accuracy: 0.80172222 | Average execution time: 163.24632134\n",
      "66. C = 15, k = poly, g = scale, Average accuracy: 0.878 | Average execution time: 32.19450383\n",
      "67. C = 15, k = poly, g = auto, Average accuracy: 0.87805556 | Average execution time: 32.05857978\n",
      "68. C = 15, k = rbf, g = scale, Average accuracy: 0.88011111 | Average execution time: 35.90244627\n",
      "69. C = 15, k = rbf, g = auto, Average accuracy: 0.87994444 | Average execution time: 35.51852765\n",
      "70. C = 15, k = sigmoid, g = scale, Average accuracy: 0.70733333 | Average execution time: 19.59123225\n",
      "71. C = 15, k = sigmoid, g = auto, Average accuracy: 0.70661111 | Average execution time: 19.35942297\n",
      "\n",
      "72. C = 20, k = linear, g = scale, Average accuracy: 0.80133333 | Average execution time: 192.31141043\n",
      "73. C = 20, k = linear, g = auto, Average accuracy: 0.80133333 | Average execution time: 192.88264537\n",
      "74. C = 20, k = poly, g = scale, Average accuracy: 0.87711111 | Average execution time: 31.83575063\n",
      "75. C = 20, k = poly, g = auto, Average accuracy: 0.87722222 | Average execution time: 31.64420271\n",
      "76. C = 20, k = rbf, g = scale, Average accuracy: 0.87944444 | Average execution time: 35.69629107\n",
      "77. C = 20, k = rbf, g = auto, Average accuracy: 0.87938889 | Average execution time: 35.63085084\n",
      "78. C = 20, k = sigmoid, g = scale, Average accuracy: 0.70688889 | Average execution time: 19.21569057\n",
      "79. C = 20, k = sigmoid, g = auto, Average accuracy: 0.70705556 | Average execution time: 19.13061295\n",
      "\n",
      "80. C = 50, k = linear, g = scale, Average accuracy: 0.79777778 | Average execution time: 340.05631013\n",
      "81. C = 50, k = linear, g = auto, Average accuracy: 0.79777778 | Average execution time: 340.00140781\n",
      "82. C = 50, k = poly, g = scale, Average accuracy: 0.87566667 | Average execution time: 31.94027228\n"
     ]
    },
    {
     "name": "stdout",
     "output_type": "stream",
     "text": [
      "83. C = 50, k = poly, g = auto, Average accuracy: 0.87538889 | Average execution time: 31.66601486\n",
      "84. C = 50, k = rbf, g = scale, Average accuracy: 0.87538889 | Average execution time: 35.80639367\n",
      "85. C = 50, k = rbf, g = auto, Average accuracy: 0.87544444 | Average execution time: 35.70130062\n",
      "86. C = 50, k = sigmoid, g = scale, Average accuracy: 0.70622222 | Average execution time: 18.77048502\n",
      "87. C = 50, k = sigmoid, g = auto, Average accuracy: 0.70661111 | Average execution time: 18.65818286\n",
      "\n",
      "-------------------\n",
      "Best accuracy is in iteration number:  45\n"
     ]
    }
   ],
   "source": [
    "kf = StratifiedKFold(n_splits=5, shuffle=True, random_state=42)\n",
    "acc = []\n",
    "i = 0\n",
    "\n",
    "for c in [0.1, 0.5, 1, 3, 5, 7, 10, 13, 15, 20, 50]:\n",
    "    for k in [\"linear\", \"poly\", \"rbf\", \"sigmoid\"]:\n",
    "        for g in [\"scale\", \"auto\"]:\n",
    "            \n",
    "            indexes = kf.split(X_train_30, y_train_30)\n",
    "            acc_tmp = []\n",
    "            time_tmp = []\n",
    "            fin_conf_mat = np.zeros((len(np.unique(y_train_30)),len(np.unique(y_train_30))))\n",
    "\n",
    "            for train_index, test_index in indexes:\n",
    "\n",
    "                X_trainCV1 = X_train_30.iloc[train_index,:]\n",
    "                y_trainCV1 = y_train_30.iloc[train_index]\n",
    "\n",
    "                X_testCV1 = X_train_30.iloc[test_index,:]\n",
    "                y_testCV1 = y_train_30.iloc[test_index]\n",
    "\n",
    "                start = time.time()\n",
    "\n",
    "                classifier1 = SVC(C = c, kernel = k, gamma = g)\n",
    "                \n",
    "                classifier1.fit(X_trainCV1, y_trainCV1)\n",
    "                y_pred1 = classifier1.predict(X_testCV1)\n",
    "                c1 = confusion_matrix(y_testCV1, y_pred1)\n",
    "\n",
    "                acc_tmp.append(np.trace(c1)/sum(sum(c1)))\n",
    "                fin_conf_mat += c1\n",
    "                end = time.time()\n",
    "\n",
    "                time_tmp.append(end-start)\n",
    "                \n",
    "            print(i,'. C = ', c,', k = ', k,', g = ', g, ', Average accuracy: ', round(np.mean(acc_tmp),8),' | Average execution time: ', round(np.mean(time_tmp),8), sep='')\n",
    "            acc.append(np.mean(acc_tmp))\n",
    "            i += 1\n",
    "            \n",
    "    print('')\n",
    "      \n",
    "print('-------------------')\n",
    "print('Best accuracy is in iteration number: ', np.argmax(acc))"
   ]
  },
  {
   "cell_type": "markdown",
   "metadata": {},
   "source": [
    "#### Checking if other parameters speed up the process"
   ]
  },
  {
   "cell_type": "code",
   "execution_count": 9,
   "metadata": {},
   "outputs": [
    {
     "name": "stdout",
     "output_type": "stream",
     "text": [
      "ovo, True, Average accuracy: 0.88233333 | Average execution time: 36.50343242\n",
      "ovo, False, Average accuracy: 0.88233333 | Average execution time: 36.60518813\n",
      "ovr, True, Average accuracy: 0.88233333 | Average execution time: 35.72732687\n",
      "ovr, False, Average accuracy: 0.88233333 | Average execution time: 36.15811472\n"
     ]
    }
   ],
   "source": [
    "kf = StratifiedKFold(n_splits=5, shuffle=True, random_state=42)\n",
    "\n",
    "for dfs in [\"ovo\", \"ovr\"]:\n",
    "    for s in [True, False]:\n",
    "            \n",
    "        indexes = kf.split(X_train_30, y_train_30)\n",
    "        acc_tmp = []\n",
    "        time_tmp = []\n",
    "        fin_conf_mat = np.zeros((len(np.unique(y_train_30)),len(np.unique(y_train_30))))\n",
    "\n",
    "        for train_index, test_index in indexes:\n",
    "\n",
    "            X_trainCV1 = X_train_30.iloc[train_index,:]\n",
    "            y_trainCV1 = y_train_30.iloc[train_index]\n",
    "\n",
    "            X_testCV1 = X_train_30.iloc[test_index,:]\n",
    "            y_testCV1 = y_train_30.iloc[test_index]\n",
    "\n",
    "            start = time.time()\n",
    "\n",
    "            classifier1 = SVC(C = 7, kernel = \"rbf\", gamma = \"auto\", shrinking = s, decision_function_shape = dfs)\n",
    "                \n",
    "            classifier1.fit(X_trainCV1, y_trainCV1)\n",
    "            y_pred1 = classifier1.predict(X_testCV1)\n",
    "            c1 = confusion_matrix(y_testCV1, y_pred1)\n",
    "\n",
    "            acc_tmp.append(np.trace(c1)/sum(sum(c1)))\n",
    "            fin_conf_mat += c1\n",
    "            end = time.time()\n",
    "\n",
    "            time_tmp.append(end-start)            \n",
    "      \n",
    "        print(dfs, ', ', s, ', Average accuracy: ', round(np.mean(acc_tmp),8),' | Average execution time: ', round(np.mean(time_tmp),8), sep='')"
   ]
  },
  {
   "cell_type": "code",
   "execution_count": 10,
   "metadata": {},
   "outputs": [
    {
     "name": "stdout",
     "output_type": "stream",
     "text": [
      "6, Average accuracy: 0.8815 | Average execution time: 35.65365705\n",
      "7, Average accuracy: 0.88233333 | Average execution time: 35.67667618\n",
      "8, Average accuracy: 0.88177778 | Average execution time: 35.64464703\n",
      "9, Average accuracy: 0.88166667 | Average execution time: 35.76155334\n"
     ]
    }
   ],
   "source": [
    "kf = StratifiedKFold(n_splits=5, shuffle=True, random_state=42)\n",
    "\n",
    "for c in [6,7,8,9]:\n",
    "            \n",
    "    indexes = kf.split(X_train_30, y_train_30)\n",
    "    acc_tmp = []\n",
    "    time_tmp = []\n",
    "    fin_conf_mat = np.zeros((len(np.unique(y_train_30)),len(np.unique(y_train_30))))\n",
    "\n",
    "    for train_index, test_index in indexes:\n",
    "\n",
    "        X_trainCV1 = X_train_30.iloc[train_index,:]\n",
    "        y_trainCV1 = y_train_30.iloc[train_index]\n",
    "\n",
    "        X_testCV1 = X_train_30.iloc[test_index,:]\n",
    "        y_testCV1 = y_train_30.iloc[test_index]\n",
    "\n",
    "        start = time.time()\n",
    "\n",
    "        classifier1 = SVC(C = c, kernel = \"rbf\", gamma = \"auto\", decision_function_shape = \"ovr\")\n",
    "                \n",
    "        classifier1.fit(X_trainCV1, y_trainCV1)\n",
    "        y_pred1 = classifier1.predict(X_testCV1)\n",
    "        c1 = confusion_matrix(y_testCV1, y_pred1)\n",
    "\n",
    "        acc_tmp.append(np.trace(c1)/sum(sum(c1)))\n",
    "        fin_conf_mat += c1\n",
    "        end = time.time()\n",
    "\n",
    "        time_tmp.append(end-start)\n",
    "                \n",
    "      \n",
    "    print(c,', Average accuracy: ', round(np.mean(acc_tmp),8),' | Average execution time: ', round(np.mean(time_tmp),8), sep='')"
   ]
  },
  {
   "cell_type": "markdown",
   "metadata": {},
   "source": [
    "#### Training on 30% training samples, test on test dataset"
   ]
  },
  {
   "cell_type": "code",
   "execution_count": 4,
   "metadata": {},
   "outputs": [
    {
     "name": "stdout",
     "output_type": "stream",
     "text": [
      "Accuracy without reduction: 0.888 | Average execution time:  77.5147635936737\n"
     ]
    }
   ],
   "source": [
    "start = time.time()\n",
    "\n",
    "classifier1 = SVC(C = 7, kernel = \"rbf\", gamma = \"auto\", decision_function_shape = \"ovr\")\n",
    "classifier1.fit(X_train_30, y_train_30)\n",
    "y_pred2 = classifier1.predict(X_test_std)\n",
    "c2 = confusion_matrix(y_test, y_pred2, labels=[0,1,2,3,4,5,6,7,8,9])\n",
    "    \n",
    "end = time.time()\n",
    "print('Accuracy without reduction:' , np.trace(c2)/sum(sum(c2)), '| Average execution time: ', end - start)"
   ]
  },
  {
   "cell_type": "markdown",
   "metadata": {},
   "source": [
    "## Trained on 100% samples of the original training dataset"
   ]
  },
  {
   "cell_type": "code",
   "execution_count": 5,
   "metadata": {},
   "outputs": [],
   "source": [
    "train_data = pd.read_csv(\"../datasets/fashion-mnist_train.csv\")\n",
    "X_train = train_data.iloc[:,1:]\n",
    "y_train = train_data.iloc[:,0]\n",
    "\n",
    "test_data = pd.read_csv(\"../datasets/fashion-mnist_test.csv\")\n",
    "X_test = test_data.iloc[:,1:]\n",
    "y_test = test_data.iloc[:,0]\n",
    "\n",
    "X_train_std = (X_train - X_train.mean())/X_train.std()\n",
    "X_test_std = (X_test - X_test.mean())/X_test.std()"
   ]
  },
  {
   "cell_type": "code",
   "execution_count": 6,
   "metadata": {},
   "outputs": [
    {
     "name": "stdout",
     "output_type": "stream",
     "text": [
      "        Accuracy:  0.9030833333333333 | Execution time: 316.11776876449585\n",
      "        Accuracy:  0.8989166666666667 | Execution time: 314.11491560935974\n",
      "        Accuracy:  0.9021666666666667 | Execution time: 316.84443068504333\n",
      "        Accuracy:  0.9018333333333334 | Execution time: 313.863707780838\n",
      "        Accuracy:  0.9011666666666667 | Execution time: 312.4174003601074\n",
      "\n",
      "-------------------\n",
      "Average accuracy: 0.9014333333333333 | Average execution time: 314.67164463996886\n"
     ]
    }
   ],
   "source": [
    "kf = StratifiedKFold(n_splits=5, shuffle=True, random_state=42)\n",
    "acc = []\n",
    "     \n",
    "indexes = kf.split(X_train, y_train)\n",
    "acc_tmp = []\n",
    "time_tmp = []\n",
    "fin_conf_mat = np.zeros((len(np.unique(y_train)),len(np.unique(y_train))))\n",
    "\n",
    "for train_index, test_index in indexes:\n",
    "    \n",
    "    X_trainCV2 = X_train_std.iloc[train_index,:]\n",
    "    y_trainCV2 = y_train.iloc[train_index]\n",
    "    \n",
    "    X_testCV2 = X_train_std.iloc[test_index,:]\n",
    "    y_testCV2 = y_train.iloc[test_index]\n",
    "\n",
    "    start = time.time()\n",
    "\n",
    "    classifier2 = SVC(C = 7, kernel = \"rbf\", gamma = \"auto\", decision_function_shape = \"ovr\")\n",
    "    classifier2.fit(X_trainCV2, y_trainCV2) \n",
    "    y_pred3 = classifier2.predict(X_testCV2)\n",
    "    c3 = confusion_matrix(y_testCV2, y_pred3)\n",
    "\n",
    "    acc_tmp.append(np.trace(c3)/sum(sum(c3)))\n",
    "    fin_conf_mat += c3\n",
    "    end = time.time()\n",
    "\n",
    "    time_tmp.append(end-start)\n",
    "    print(\"        Accuracy: \", np.trace(c3)/sum(sum(c3)),'| Execution time:',end - start)\n",
    "    \n",
    "print(\"\")    \n",
    "print('-------------------')\n",
    "print('Average accuracy:', np.mean(acc_tmp),'| Average execution time:',np.mean(time_tmp))   "
   ]
  },
  {
   "cell_type": "markdown",
   "metadata": {},
   "source": [
    "##### Training on 100% training samples, test on test dataset"
   ]
  },
  {
   "cell_type": "code",
   "execution_count": 7,
   "metadata": {},
   "outputs": [
    {
     "name": "stdout",
     "output_type": "stream",
     "text": [
      "Accuracy without reduction: 0.9076 | Execution time: 411.97203731536865\n"
     ]
    }
   ],
   "source": [
    "start = time.time()\n",
    "\n",
    "classifier2 = SVC(C = 7, kernel = \"rbf\", gamma = \"auto\", decision_function_shape = \"ovr\")\n",
    "classifier2.fit(X_train_std, y_train)\n",
    "y_pred4 = classifier2.predict(X_test_std)\n",
    "c4 = confusion_matrix(y_test, y_pred4, labels=[0,1,2,3,4,5,6,7,8,9])\n",
    "                      \n",
    "end = time.time()\n",
    "print('Accuracy without reduction:', np.trace(c4)/sum(sum(c4)), '| Execution time:', end - start)"
   ]
  },
  {
   "cell_type": "markdown",
   "metadata": {},
   "source": [
    "."
   ]
  },
  {
   "cell_type": "markdown",
   "metadata": {},
   "source": [
    "## Trained on 100% samples with PCA reduction"
   ]
  },
  {
   "cell_type": "code",
   "execution_count": 4,
   "metadata": {},
   "outputs": [],
   "source": [
    "train_data = pd.read_csv(\"../datasets/fashion-mnist_train.csv\")\n",
    "X_train = train_data.iloc[:,1:]\n",
    "y_train = train_data.iloc[:,0]\n",
    "\n",
    "test_data = pd.read_csv(\"../datasets/fashion-mnist_test.csv\")\n",
    "X_test = test_data.iloc[:,1:]\n",
    "y_test = test_data.iloc[:,0]\n",
    "\n",
    "X_train_std = (X_train - X_train.mean())/X_train.std()\n",
    "X_test_std = (X_test - X_test.mean())/X_test.std()"
   ]
  },
  {
   "cell_type": "code",
   "execution_count": 5,
   "metadata": {
    "scrolled": false
   },
   "outputs": [
    {
     "name": "stdout",
     "output_type": "stream",
     "text": [
      "0. C = 0.1, k = linear, g = scale, Average accuracy: 0.8605 | Average execution time: 76.25441227\n",
      "1. C = 0.1, k = linear, g = auto, Average accuracy: 0.8605 | Average execution time: 76.56389918\n",
      "2. C = 0.1, k = poly, g = scale, Average accuracy: 0.81805 | Average execution time: 139.53207159\n",
      "3. C = 0.1, k = poly, g = auto, Average accuracy: 0.89656667 | Average execution time: 57.4282763\n",
      "4. C = 0.1, k = rbf, g = scale, Average accuracy: 0.84796667 | Average execution time: 122.2841609\n",
      "5. C = 0.1, k = rbf, g = auto, Average accuracy: 0.79711667 | Average execution time: 240.55978909\n",
      "\n",
      "6. C = 0.5, k = linear, g = scale, Average accuracy: 0.86011667 | Average execution time: 139.73663702\n",
      "7. C = 0.5, k = linear, g = auto, Average accuracy: 0.86011667 | Average execution time: 141.70741401\n",
      "8. C = 0.5, k = poly, g = scale, Average accuracy: 0.8647 | Average execution time: 97.35882421\n",
      "9. C = 0.5, k = poly, g = auto, Average accuracy: 0.89428333 | Average execution time: 60.59916253\n",
      "10. C = 0.5, k = rbf, g = scale, Average accuracy: 0.87805 | Average execution time: 94.63234286\n",
      "11. C = 0.5, k = rbf, g = auto, Average accuracy: 0.85828333 | Average execution time: 199.62071342\n",
      "\n",
      "12. C = 1, k = linear, g = scale, Average accuracy: 0.85995 | Average execution time: 212.84645815\n",
      "13. C = 1, k = linear, g = auto, Average accuracy: 0.85995 | Average execution time: 210.2866281\n",
      "14. C = 1, k = poly, g = scale, Average accuracy: 0.87811667 | Average execution time: 78.30048327\n",
      "15. C = 1, k = poly, g = auto, Average accuracy: 0.89101667 | Average execution time: 59.14924703\n",
      "16. C = 1, k = rbf, g = scale, Average accuracy: 0.8865 | Average execution time: 83.20621314\n",
      "17. C = 1, k = rbf, g = auto, Average accuracy: 0.87541667 | Average execution time: 178.01736026\n",
      "\n",
      "18. C = 3, k = linear, g = scale, Average accuracy: 0.8599 | Average execution time: 457.45587225\n",
      "19. C = 3, k = linear, g = auto, Average accuracy: 0.8599 | Average execution time: 456.65339637\n",
      "20. C = 3, k = poly, g = scale, Average accuracy: 0.88936667 | Average execution time: 65.11567349\n",
      "21. C = 3, k = poly, g = auto, Average accuracy: 0.88728333 | Average execution time: 60.71387992\n",
      "22. C = 3, k = rbf, g = scale, Average accuracy: 0.89546667 | Average execution time: 76.07025566\n",
      "23. C = 3, k = rbf, g = auto, Average accuracy: 0.88043333 | Average execution time: 180.44141817\n",
      "\n",
      "24. C = 5, k = linear, g = scale, Average accuracy: 0.85931667 | Average execution time: 700.25205412\n",
      "25. C = 5, k = linear, g = auto, Average accuracy: 0.85931667 | Average execution time: 701.5248879\n",
      "26. C = 5, k = poly, g = scale, Average accuracy: 0.89268333 | Average execution time: 62.00108719\n",
      "27. C = 5, k = poly, g = auto, Average accuracy: 0.88553333 | Average execution time: 61.60467806\n",
      "28. C = 5, k = rbf, g = scale, Average accuracy: 0.89805 | Average execution time: 74.82191954\n",
      "29. C = 5, k = rbf, g = auto, Average accuracy: 0.87898333 | Average execution time: 181.74845176\n",
      "\n",
      "30. C = 7, k = linear, g = scale, Average accuracy: 0.85945 | Average execution time: 931.6339478\n"
     ]
    }
   ],
   "source": [
    "kf = StratifiedKFold(n_splits=5, shuffle=True, random_state=42)\n",
    "acc = []\n",
    "i = 0\n",
    "\n",
    "for c in [0.1, 0.5, 1, 3, 5, 7]:\n",
    "    for k in [\"linear\", \"poly\", \"rbf\"]:\n",
    "        for g in [\"scale\", \"auto\"]:\n",
    "    \n",
    "            indexes = kf.split(X_train, y_train)\n",
    "            acc_tmp = []\n",
    "            time_tmp = []\n",
    "            fin_conf_mat = np.zeros((len(np.unique(y_train)),len(np.unique(y_train))))\n",
    "\n",
    "            for train_index, test_index in indexes:\n",
    "\n",
    "                X_trainCV3 = X_train_std.iloc[train_index,:]\n",
    "                y_trainCV3 = y_train.iloc[train_index]\n",
    "\n",
    "                X_testCV3 = X_train_std.iloc[test_index,:]\n",
    "                y_testCV3 = y_train.iloc[test_index]\n",
    "\n",
    "                pca = PCA(n_components=0.9)\n",
    "                pca.fit(X_trainCV3)\n",
    "                X_train_r = pca.transform(X_trainCV3)\n",
    "                X_test_r = pca.transform(X_testCV3)\n",
    "\n",
    "                start = time.time()\n",
    "\n",
    "                classifier3 = SVC(C = c, kernel = k, gamma = g)\n",
    "                classifier3.fit(X_train_r, y_trainCV3) \n",
    "                y_pred5 = classifier3.predict(X_test_r)\n",
    "                c5 = confusion_matrix(y_testCV3, y_pred5, labels=[0,1,2,3,4,5,6,7,8,9])\n",
    "\n",
    "                acc_tmp.append(np.trace(c5)/sum(sum(c5)))\n",
    "                fin_conf_mat += c5\n",
    "                end = time.time()\n",
    "\n",
    "                time_tmp.append(end-start)\n",
    "\n",
    "            print(i,'. C = ', c,', k = ', k,', g = ', g, ', Average accuracy: ', round(np.mean(acc_tmp),8),' | Average execution time: ', round(np.mean(time_tmp),8), sep='')\n",
    "            acc.append(np.mean(acc_tmp))\n",
    "            i += 1\n",
    "            \n",
    "    print('')\n",
    "      \n",
    "print('-------------------')\n",
    "print('Best accuracy is in iteration number: ', np.argmax(acc))"
   ]
  },
  {
   "cell_type": "code",
   "execution_count": 4,
   "metadata": {},
   "outputs": [
    {
     "name": "stdout",
     "output_type": "stream",
     "text": [
      "0. C = 7, k = poly, g = scale, Average accuracy: 0.89396667 | Average execution time: 62.72543297\n",
      "1. C = 7, k = poly, g = auto, Average accuracy: 0.88501667 | Average execution time: 63.6843348\n",
      "2. C = 7, k = rbf, g = scale, Average accuracy: 0.89926667 | Average execution time: 76.75362473\n",
      "3. C = 7, k = rbf, g = auto, Average accuracy: 0.87815 | Average execution time: 190.43904781\n",
      "\n",
      "4. C = 10, k = poly, g = scale, Average accuracy: 0.89563333 | Average execution time: 61.03752699\n",
      "5. C = 10, k = poly, g = auto, Average accuracy: 0.8849 | Average execution time: 64.20340691\n",
      "6. C = 10, k = rbf, g = scale, Average accuracy: 0.90021667 | Average execution time: 76.47416992\n",
      "7. C = 10, k = rbf, g = auto, Average accuracy: 0.87788333 | Average execution time: 193.35125151\n",
      "\n",
      "8. C = 13, k = poly, g = scale, Average accuracy: 0.89641667 | Average execution time: 61.66539989\n",
      "9. C = 13, k = poly, g = auto, Average accuracy: 0.88486667 | Average execution time: 64.58515434\n",
      "10. C = 13, k = rbf, g = scale, Average accuracy: 0.90058333 | Average execution time: 76.41751857\n",
      "11. C = 13, k = rbf, g = auto, Average accuracy: 0.87721667 | Average execution time: 190.80878425\n",
      "\n",
      "-------------------\n",
      "Best accuracy is in iteration number:  10\n"
     ]
    }
   ],
   "source": [
    "kf = StratifiedKFold(n_splits=5, shuffle=True, random_state=42)\n",
    "acc = []\n",
    "i = 0\n",
    "\n",
    "for c in [7, 10, 13]:\n",
    "    for k in [\"poly\", \"rbf\"]:\n",
    "        for g in [\"scale\", \"auto\"]:\n",
    "    \n",
    "            indexes = kf.split(X_train, y_train)\n",
    "            acc_tmp = []\n",
    "            time_tmp = []\n",
    "            fin_conf_mat = np.zeros((len(np.unique(y_train)),len(np.unique(y_train))))\n",
    "\n",
    "            for train_index, test_index in indexes:\n",
    "\n",
    "                X_trainCV3 = X_train_std.iloc[train_index,:]\n",
    "                y_trainCV3 = y_train.iloc[train_index]\n",
    "\n",
    "                X_testCV3 = X_train_std.iloc[test_index,:]\n",
    "                y_testCV3 = y_train.iloc[test_index]\n",
    "\n",
    "                pca = PCA(n_components=0.9)\n",
    "                pca.fit(X_trainCV3)\n",
    "                X_train_r = pca.transform(X_trainCV3)\n",
    "                X_test_r = pca.transform(X_testCV3)\n",
    "\n",
    "                start = time.time()\n",
    "\n",
    "                classifier3 = SVC(C = c, kernel = k, gamma = g)\n",
    "                classifier3.fit(X_train_r, y_trainCV3) \n",
    "                y_pred5 = classifier3.predict(X_test_r)\n",
    "                c5 = confusion_matrix(y_testCV3, y_pred5, labels=[0,1,2,3,4,5,6,7,8,9])\n",
    "\n",
    "                acc_tmp.append(np.trace(c5)/sum(sum(c5)))\n",
    "                fin_conf_mat += c5\n",
    "                end = time.time()\n",
    "\n",
    "                time_tmp.append(end-start)\n",
    "\n",
    "            print(i,'. C = ', c,', k = ', k,', g = ', g, ', Average accuracy: ', round(np.mean(acc_tmp),8),' | Average execution time: ', round(np.mean(time_tmp),8), sep='')\n",
    "            acc.append(np.mean(acc_tmp))\n",
    "            i += 1\n",
    "            \n",
    "    print('')\n",
    "      \n",
    "print('-------------------')\n",
    "print('Best accuracy is in iteration number: ', np.argmax(acc))"
   ]
  },
  {
   "cell_type": "code",
   "execution_count": 6,
   "metadata": {},
   "outputs": [
    {
     "name": "stdout",
     "output_type": "stream",
     "text": [
      "0. C = 8, k = rbf, g = scale, Average accuracy: 0.89956667 | Average execution time: 78.70332665\n",
      "1. C = 9, k = rbf, g = scale, Average accuracy: 0.89985 | Average execution time: 77.8656364\n",
      "2. C = 10, k = rbf, g = scale, Average accuracy: 0.90021667 | Average execution time: 76.66837735\n",
      "3. C = 11, k = rbf, g = scale, Average accuracy: 0.90045 | Average execution time: 77.20547371\n",
      "4. C = 12, k = rbf, g = scale, Average accuracy: 0.90058333 | Average execution time: 76.79243569\n",
      "5. C = 13, k = rbf, g = scale, Average accuracy: 0.90058333 | Average execution time: 76.42611723\n",
      "6. C = 14, k = rbf, g = scale, Average accuracy: 0.90055 | Average execution time: 75.96871014\n",
      "7. C = 15, k = rbf, g = scale, Average accuracy: 0.90035 | Average execution time: 76.01475248\n",
      "-------------------\n",
      "Best accuracy is in iteration number:  5\n"
     ]
    }
   ],
   "source": [
    "kf = StratifiedKFold(n_splits=5, shuffle=True, random_state=42)\n",
    "acc = []\n",
    "i = 0\n",
    "\n",
    "for c in [8,9,10,11,12,13,14,15]:\n",
    "    \n",
    "    indexes = kf.split(X_train, y_train)\n",
    "    acc_tmp = []\n",
    "    time_tmp = []\n",
    "    fin_conf_mat = np.zeros((len(np.unique(y_train)),len(np.unique(y_train))))\n",
    "\n",
    "    for train_index, test_index in indexes:\n",
    "\n",
    "        X_trainCV3 = X_train_std.iloc[train_index,:]\n",
    "        y_trainCV3 = y_train.iloc[train_index]\n",
    "\n",
    "        X_testCV3 = X_train_std.iloc[test_index,:]\n",
    "        y_testCV3 = y_train.iloc[test_index]\n",
    "\n",
    "        pca = PCA(n_components=0.9)\n",
    "        pca.fit(X_trainCV3)\n",
    "        X_train_r = pca.transform(X_trainCV3)\n",
    "        X_test_r = pca.transform(X_testCV3)\n",
    "\n",
    "        start = time.time()\n",
    "\n",
    "        classifier3 = SVC(C = c, kernel = \"rbf\", gamma = \"scale\")\n",
    "        classifier3.fit(X_train_r, y_trainCV3) \n",
    "        y_pred5 = classifier3.predict(X_test_r)\n",
    "        c5 = confusion_matrix(y_testCV3, y_pred5, labels=[0,1,2,3,4,5,6,7,8,9])\n",
    "\n",
    "        acc_tmp.append(np.trace(c5)/sum(sum(c5)))\n",
    "        fin_conf_mat += c5\n",
    "        end = time.time()\n",
    "\n",
    "        time_tmp.append(end-start)\n",
    "\n",
    "    print(i,'. C = ', c,', k = ', k,', g = scale, Average accuracy: ', round(np.mean(acc_tmp),8),' | Average execution time: ', round(np.mean(time_tmp),8), sep='')\n",
    "    acc.append(np.mean(acc_tmp))\n",
    "    i += 1\n",
    "      \n",
    "print('-------------------')\n",
    "print('Best accuracy is in iteration number: ', np.argmax(acc))"
   ]
  },
  {
   "cell_type": "markdown",
   "metadata": {},
   "source": [
    "#### Checking if other parameters speed up the process"
   ]
  },
  {
   "cell_type": "code",
   "execution_count": 7,
   "metadata": {},
   "outputs": [
    {
     "name": "stdout",
     "output_type": "stream",
     "text": [
      "ovo, True, Average accuracy: 0.90058333 | Average execution time: 77.78447499\n",
      "ovo, False, Average accuracy: 0.90058333 | Average execution time: 84.49501624\n",
      "ovr, True, Average accuracy: 0.90058333 | Average execution time: 78.28636041\n",
      "ovr, False, Average accuracy: 0.90058333 | Average execution time: 85.11464949\n"
     ]
    }
   ],
   "source": [
    "kf = StratifiedKFold(n_splits=5, shuffle=True, random_state=42)\n",
    "\n",
    "for dfs in [\"ovo\", \"ovr\"]:\n",
    "    for s in [True, False]:\n",
    "    \n",
    "        indexes = kf.split(X_train, y_train)\n",
    "        acc_tmp = []\n",
    "        time_tmp = []\n",
    "        fin_conf_mat = np.zeros((len(np.unique(y_train)),len(np.unique(y_train))))\n",
    "\n",
    "        for train_index, test_index in indexes:\n",
    "\n",
    "            X_trainCV3 = X_train_std.iloc[train_index,:]\n",
    "            y_trainCV3 = y_train.iloc[train_index]\n",
    "\n",
    "            X_testCV3 = X_train_std.iloc[test_index,:]\n",
    "            y_testCV3 = y_train.iloc[test_index]\n",
    "\n",
    "            pca = PCA(n_components=0.9)\n",
    "            pca.fit(X_trainCV3)\n",
    "            X_train_r = pca.transform(X_trainCV3)\n",
    "            X_test_r = pca.transform(X_testCV3)\n",
    "\n",
    "            start = time.time()\n",
    "\n",
    "            classifier3 = SVC(C = 13, kernel = \"rbf\", gamma = \"scale\", decision_function_shape = dfs, shrinking = s)\n",
    "            classifier3.fit(X_train_r, y_trainCV3) \n",
    "            y_pred5 = classifier3.predict(X_test_r)\n",
    "            c5 = confusion_matrix(y_testCV3, y_pred5, labels=[0,1,2,3,4,5,6,7,8,9])\n",
    "\n",
    "            acc_tmp.append(np.trace(c5)/sum(sum(c5)))\n",
    "            fin_conf_mat += c5\n",
    "            end = time.time()\n",
    "\n",
    "            time_tmp.append(end-start)\n",
    "\n",
    "        print(dfs, ', ', s, ', Average accuracy: ', round(np.mean(acc_tmp),8),' | Average execution time: ', round(np.mean(time_tmp),8), sep='')"
   ]
  },
  {
   "cell_type": "markdown",
   "metadata": {},
   "source": [
    "##### Training on 100% training samples with PCA reduction, test on test dataset"
   ]
  },
  {
   "cell_type": "code",
   "execution_count": 10,
   "metadata": {},
   "outputs": [
    {
     "name": "stdout",
     "output_type": "stream",
     "text": [
      "\n",
      "Accuracy without reduction: 0.9069 | Execution time: 118.05319118499756\n"
     ]
    }
   ],
   "source": [
    "pca = PCA(n_components=0.9)\n",
    "pca.fit(X_train_std)\n",
    "X_train_r = pca.transform(X_train_std)\n",
    "X_test_r = pca.transform(X_test_std)\n",
    "\n",
    "start = time.time()\n",
    "\n",
    "classifier3 = SVC(C=13, kernel = \"rbf\", gamma = \"scale\", decision_function_shape = \"ovo\", shrinking = True)\n",
    "classifier3.fit(X_train_r, y_train) \n",
    "y_pred6 = classifier3.predict(X_test_r)\n",
    "c6 = confusion_matrix(y_test, y_pred6, labels=[0,1,2,3,4,5,6,7,8,9])\n",
    "            \n",
    "print('')\n",
    "end = time.time()\n",
    "print('Accuracy without reduction:', np.trace(c6)/sum(sum(c6)), '| Execution time:', end - start)"
   ]
  },
  {
   "cell_type": "code",
   "execution_count": 11,
   "metadata": {},
   "outputs": [
    {
     "name": "stdout",
     "output_type": "stream",
     "text": [
      "[[874   0  14  19   0   0  85   0   8   0]\n",
      " [  3 983   2  11   0   0   0   0   1   0]\n",
      " [ 14   0 843  11  70   0  56   0   6   0]\n",
      " [ 16   7   7 930  25   1  13   0   1   0]\n",
      " [  1   0  57  23 865   0  53   0   1   0]\n",
      " [  0   0   0   0   0 953   1  28   7  11]\n",
      " [122   0  68  25  50   0 723   0  12   0]\n",
      " [  0   0   0   0   0  13   0 962   0  25]\n",
      " [  7   0   4   2   1   1   3   1 980   1]\n",
      " [  1   0   0   0   0   7   0  34   2 956]]\n"
     ]
    }
   ],
   "source": [
    "print(c6)"
   ]
  },
  {
   "cell_type": "code",
   "execution_count": 15,
   "metadata": {},
   "outputs": [
    {
     "name": "stdout",
     "output_type": "stream",
     "text": [
      "For class 0 accuracy is: 0.971\n",
      "For class 1 accuracy is: 0.9976\n",
      "For class 2 accuracy is: 0.9691\n",
      "For class 3 accuracy is: 0.9839\n",
      "For class 8 accuracy is: 0.9719\n",
      "For class 6 accuracy is: 0.9931\n",
      "For class 5 accuracy is: 0.9512\n",
      "For class 4 accuracy is: 0.9899\n",
      "For class 7 accuracy is: 0.9942\n",
      "For class 9 accuracy is: 0.9919\n",
      "-------------\n",
      "0.9813799999999999\n"
     ]
    }
   ],
   "source": [
    "print(accuracy_per_class(c6, y_test.unique()))"
   ]
  },
  {
   "cell_type": "code",
   "execution_count": 16,
   "metadata": {},
   "outputs": [
    {
     "name": "stdout",
     "output_type": "stream",
     "text": [
      "For class 0 sensitivity is: 0.874\n",
      "For class 1 sensitivity is: 0.983\n",
      "For class 2 sensitivity is: 0.843\n",
      "For class 3 sensitivity is: 0.93\n",
      "For class 8 sensitivity is: 0.865\n",
      "For class 6 sensitivity is: 0.953\n",
      "For class 5 sensitivity is: 0.723\n",
      "For class 4 sensitivity is: 0.962\n",
      "For class 7 sensitivity is: 0.98\n",
      "For class 9 sensitivity is: 0.956\n",
      "-------------\n",
      "0.9068999999999999\n"
     ]
    }
   ],
   "source": [
    "print(sensitivity_per_class(c6, y_test.unique()))"
   ]
  },
  {
   "attachments": {},
   "cell_type": "markdown",
   "metadata": {},
   "source": [
    "## Examples of wrong classification"
   ]
  },
  {
   "cell_type": "code",
   "execution_count": 6,
   "metadata": {},
   "outputs": [
    {
     "name": "stdout",
     "output_type": "stream",
     "text": [
      "<class 'numpy.ndarray'>\n",
      "<class 'numpy.ndarray'>\n"
     ]
    }
   ],
   "source": [
    "y_pred_np = y_pred6\n",
    "print(type(y_pred6))\n",
    "\n",
    "y_test_np = y_test.to_numpy()\n",
    "print(type(y_test_np))"
   ]
  },
  {
   "cell_type": "code",
   "execution_count": 7,
   "metadata": {},
   "outputs": [],
   "source": [
    "def differences(a,b):\n",
    "    list = []\n",
    "    for j in range(len(a)):\n",
    "        if b[j] != a[j]:\n",
    "            list = list + [j]        \n",
    "    arrayIndexes = np.asarray(list)\n",
    "    return arrayIndexes"
   ]
  },
  {
   "cell_type": "code",
   "execution_count": 8,
   "metadata": {},
   "outputs": [
    {
     "name": "stdout",
     "output_type": "stream",
     "text": [
      "[ 5  7 38 40 43 51 58 59 72]\n"
     ]
    }
   ],
   "source": [
    "diff = differences(y_pred_np, y_test_np)\n",
    "print(diff[:9])"
   ]
  },
  {
   "cell_type": "code",
   "execution_count": 9,
   "metadata": {},
   "outputs": [],
   "source": [
    "from PIL import Image"
   ]
  },
  {
   "cell_type": "code",
   "execution_count": 10,
   "metadata": {},
   "outputs": [
    {
     "data": {
      "image/png": "[encoded data removed]",
      "text/plain": [
       "<Figure size 432x288 with 9 Axes>"
      ]
     },
     "metadata": {
      "needs_background": "light"
     },
     "output_type": "display_data"
    }
   ],
   "source": [
    "for j in range(0,9):  \n",
    "    plt.subplot(3,3,j+1)    \n",
    "    arr = X_test.iloc[diff[j],:].to_numpy()\n",
    "    arr = arr.reshape(28,28)\n",
    "    \n",
    "    plt.subplots_adjust(left=-0.1,\n",
    "                    bottom=-0.1, \n",
    "                    right=0.9, \n",
    "                    top=0.9, \n",
    "                    wspace=0.6, \n",
    "                    hspace=0.8)\n",
    "    \n",
    "    plt.imshow(arr, cmap = 'gray')\n",
    "    plt.title(\"Predviđena {}, Klasa {}\".format(y_pred_np[diff[j]], y_test_np[diff[j]]))"
   ]
  }
 ],
 "metadata": {
  "anaconda-cloud": {},
  "kernelspec": {
   "display_name": "Python 3 (ipykernel)",
   "language": "python",
   "name": "python3"
  },
  "language_info": {
   "codemirror_mode": {
    "name": "ipython",
    "version": 3
   },
   "file_extension": ".py",
   "mimetype": "text/x-python",
   "name": "python",
   "nbconvert_exporter": "python",
   "pygments_lexer": "ipython3",
   "version": "3.9.12"
  }
 },
 "nbformat": 4,
 "nbformat_minor": 1
}
